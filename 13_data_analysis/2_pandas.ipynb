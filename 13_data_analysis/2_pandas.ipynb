{
 "cells": [
  {
   "cell_type": "code",
   "execution_count": 2,
   "id": "1d366c7c",
   "metadata": {},
   "outputs": [],
   "source": [
    "import pandas as pd\n",
    "data=[1,2,3,4,5]\n",
    "series=pd.Series(data)"
   ]
  },
  {
   "cell_type": "code",
   "execution_count": 3,
   "id": "8bfaee9d",
   "metadata": {},
   "outputs": [
    {
     "name": "stdout",
     "output_type": "stream",
     "text": [
      "a    1\n",
      "b    2\n",
      "c    3\n",
      "dtype: int64\n"
     ]
    }
   ],
   "source": [
    "data={'a':1,'b':2,'c':3}    \n",
    "series_dict=pd.Series(data)\n",
    "print(series_dict)"
   ]
  },
  {
   "cell_type": "code",
   "execution_count": 4,
   "id": "6f0d9a82",
   "metadata": {},
   "outputs": [
    {
     "name": "stdout",
     "output_type": "stream",
     "text": [
      "a    10\n",
      "b    20\n",
      "c    30\n",
      "dtype: int64\n"
     ]
    }
   ],
   "source": [
    "data=[10,20,30]\n",
    "index=['a','b','c']\n",
    "series=pd.Series(data,index=index)\n",
    "print(series)"
   ]
  },
  {
   "cell_type": "code",
   "execution_count": 5,
   "id": "7fe3dd2a",
   "metadata": {},
   "outputs": [],
   "source": [
    "data={\n",
    "    'Name': ['Alice', 'Bob', 'Charlie'],\n",
    "    'Age': [25, 30, 35],\n",
    "    'city':['New York', 'Los Angeles', 'Chicago']\n",
    "}"
   ]
  },
  {
   "cell_type": "code",
   "execution_count": 7,
   "id": "e52a3ba6",
   "metadata": {},
   "outputs": [],
   "source": [
    "df=pd.DataFrame(data)"
   ]
  },
  {
   "cell_type": "code",
   "execution_count": 8,
   "id": "9df94ad0",
   "metadata": {},
   "outputs": [
    {
     "name": "stdout",
     "output_type": "stream",
     "text": [
      "      Name  Age         city\n",
      "0    Alice   25     New York\n",
      "1      Bob   30  Los Angeles\n",
      "2  Charlie   35      Chicago\n"
     ]
    }
   ],
   "source": [
    "print(df)"
   ]
  },
  {
   "cell_type": "code",
   "execution_count": 9,
   "id": "c8373e20",
   "metadata": {},
   "outputs": [],
   "source": [
    "## create a Data frame list of Dictionaries\n",
    "\n",
    "data=[\n",
    "    {'Name': 'Alice', 'Age': 25, 'city': 'New York'},\n",
    "    {'Name': 'Bob', 'Age': 30, 'city': 'Los Angeles'},\n",
    "    {'Name': 'Charlie', 'Age': 35, 'city': 'Chicago'}\n",
    "]"
   ]
  },
  {
   "cell_type": "code",
   "execution_count": 10,
   "id": "35799d94",
   "metadata": {},
   "outputs": [],
   "source": [
    "df=pd.DataFrame(data)"
   ]
  },
  {
   "cell_type": "code",
   "execution_count": 11,
   "id": "e858d858",
   "metadata": {},
   "outputs": [
    {
     "data": {
      "text/html": [
       "<div>\n",
       "<style scoped>\n",
       "    .dataframe tbody tr th:only-of-type {\n",
       "        vertical-align: middle;\n",
       "    }\n",
       "\n",
       "    .dataframe tbody tr th {\n",
       "        vertical-align: top;\n",
       "    }\n",
       "\n",
       "    .dataframe thead th {\n",
       "        text-align: right;\n",
       "    }\n",
       "</style>\n",
       "<table border=\"1\" class=\"dataframe\">\n",
       "  <thead>\n",
       "    <tr style=\"text-align: right;\">\n",
       "      <th></th>\n",
       "      <th>Name</th>\n",
       "      <th>Age</th>\n",
       "      <th>city</th>\n",
       "    </tr>\n",
       "  </thead>\n",
       "  <tbody>\n",
       "    <tr>\n",
       "      <th>0</th>\n",
       "      <td>Alice</td>\n",
       "      <td>25</td>\n",
       "      <td>New York</td>\n",
       "    </tr>\n",
       "    <tr>\n",
       "      <th>1</th>\n",
       "      <td>Bob</td>\n",
       "      <td>30</td>\n",
       "      <td>Los Angeles</td>\n",
       "    </tr>\n",
       "    <tr>\n",
       "      <th>2</th>\n",
       "      <td>Charlie</td>\n",
       "      <td>35</td>\n",
       "      <td>Chicago</td>\n",
       "    </tr>\n",
       "  </tbody>\n",
       "</table>\n",
       "</div>"
      ],
      "text/plain": [
       "      Name  Age         city\n",
       "0    Alice   25     New York\n",
       "1      Bob   30  Los Angeles\n",
       "2  Charlie   35      Chicago"
      ]
     },
     "execution_count": 11,
     "metadata": {},
     "output_type": "execute_result"
    }
   ],
   "source": [
    "df.head()"
   ]
  },
  {
   "cell_type": "code",
   "execution_count": 12,
   "id": "8aa9e0cc",
   "metadata": {},
   "outputs": [],
   "source": [
    "df=pd.read_csv('./Details.csv')"
   ]
  },
  {
   "cell_type": "code",
   "execution_count": 14,
   "id": "85f98814",
   "metadata": {},
   "outputs": [
    {
     "data": {
      "text/html": [
       "<div>\n",
       "<style scoped>\n",
       "    .dataframe tbody tr th:only-of-type {\n",
       "        vertical-align: middle;\n",
       "    }\n",
       "\n",
       "    .dataframe tbody tr th {\n",
       "        vertical-align: top;\n",
       "    }\n",
       "\n",
       "    .dataframe thead th {\n",
       "        text-align: right;\n",
       "    }\n",
       "</style>\n",
       "<table border=\"1\" class=\"dataframe\">\n",
       "  <thead>\n",
       "    <tr style=\"text-align: right;\">\n",
       "      <th></th>\n",
       "      <th>Order ID</th>\n",
       "      <th>Amount</th>\n",
       "      <th>Profit</th>\n",
       "      <th>Quantity</th>\n",
       "      <th>Category</th>\n",
       "      <th>Sub-Category</th>\n",
       "      <th>PaymentMode</th>\n",
       "    </tr>\n",
       "  </thead>\n",
       "  <tbody>\n",
       "    <tr>\n",
       "      <th>0</th>\n",
       "      <td>B-25681</td>\n",
       "      <td>1096</td>\n",
       "      <td>658</td>\n",
       "      <td>7</td>\n",
       "      <td>Electronics</td>\n",
       "      <td>Electronic Games</td>\n",
       "      <td>COD</td>\n",
       "    </tr>\n",
       "    <tr>\n",
       "      <th>1</th>\n",
       "      <td>B-26055</td>\n",
       "      <td>5729</td>\n",
       "      <td>64</td>\n",
       "      <td>14</td>\n",
       "      <td>Furniture</td>\n",
       "      <td>Chairs</td>\n",
       "      <td>EMI</td>\n",
       "    </tr>\n",
       "    <tr>\n",
       "      <th>2</th>\n",
       "      <td>B-25955</td>\n",
       "      <td>2927</td>\n",
       "      <td>146</td>\n",
       "      <td>8</td>\n",
       "      <td>Furniture</td>\n",
       "      <td>Bookcases</td>\n",
       "      <td>EMI</td>\n",
       "    </tr>\n",
       "    <tr>\n",
       "      <th>3</th>\n",
       "      <td>B-26093</td>\n",
       "      <td>2847</td>\n",
       "      <td>712</td>\n",
       "      <td>8</td>\n",
       "      <td>Electronics</td>\n",
       "      <td>Printers</td>\n",
       "      <td>Credit Card</td>\n",
       "    </tr>\n",
       "    <tr>\n",
       "      <th>4</th>\n",
       "      <td>B-25602</td>\n",
       "      <td>2617</td>\n",
       "      <td>1151</td>\n",
       "      <td>4</td>\n",
       "      <td>Electronics</td>\n",
       "      <td>Phones</td>\n",
       "      <td>Credit Card</td>\n",
       "    </tr>\n",
       "  </tbody>\n",
       "</table>\n",
       "</div>"
      ],
      "text/plain": [
       "  Order ID  Amount  Profit  Quantity     Category      Sub-Category  \\\n",
       "0  B-25681    1096     658         7  Electronics  Electronic Games   \n",
       "1  B-26055    5729      64        14    Furniture            Chairs   \n",
       "2  B-25955    2927     146         8    Furniture         Bookcases   \n",
       "3  B-26093    2847     712         8  Electronics          Printers   \n",
       "4  B-25602    2617    1151         4  Electronics            Phones   \n",
       "\n",
       "   PaymentMode  \n",
       "0          COD  \n",
       "1          EMI  \n",
       "2          EMI  \n",
       "3  Credit Card  \n",
       "4  Credit Card  "
      ]
     },
     "execution_count": 14,
     "metadata": {},
     "output_type": "execute_result"
    }
   ],
   "source": [
    "df.head()"
   ]
  },
  {
   "cell_type": "code",
   "execution_count": 20,
   "id": "3c8827c7",
   "metadata": {},
   "outputs": [
    {
     "name": "stderr",
     "output_type": "stream",
     "text": [
      "C:\\Users\\efte2\\AppData\\Local\\Temp\\ipykernel_25000\\490419682.py:1: FutureWarning: Series.__getitem__ treating keys as positions is deprecated. In a future version, integer keys will always be treated as labels (consistent with DataFrame behavior). To access a value by position, use `ser.iloc[pos]`\n",
      "  df.loc[0][4] # row\n"
     ]
    },
    {
     "data": {
      "text/plain": [
       "'Electronics'"
      ]
     },
     "execution_count": 20,
     "metadata": {},
     "output_type": "execute_result"
    }
   ],
   "source": [
    "df.loc[0][4] # row"
   ]
  },
  {
   "cell_type": "code",
   "execution_count": 19,
   "id": "552bd5cf",
   "metadata": {},
   "outputs": [
    {
     "name": "stderr",
     "output_type": "stream",
     "text": [
      "C:\\Users\\efte2\\AppData\\Local\\Temp\\ipykernel_25000\\2645940724.py:1: FutureWarning: Series.__getitem__ treating keys as positions is deprecated. In a future version, integer keys will always be treated as labels (consistent with DataFrame behavior). To access a value by position, use `ser.iloc[pos]`\n",
      "  df.iloc[0][4] # row\n"
     ]
    },
    {
     "data": {
      "text/plain": [
       "'Electronics'"
      ]
     },
     "execution_count": 19,
     "metadata": {},
     "output_type": "execute_result"
    }
   ],
   "source": [
    "df.iloc[0][4] # row"
   ]
  },
  {
   "cell_type": "code",
   "execution_count": 21,
   "id": "90fca5c0",
   "metadata": {},
   "outputs": [
    {
     "data": {
      "text/plain": [
       "Order ID        0\n",
       "Amount          0\n",
       "Profit          0\n",
       "Quantity        0\n",
       "Category        0\n",
       "Sub-Category    0\n",
       "PaymentMode     0\n",
       "dtype: int64"
      ]
     },
     "execution_count": 21,
     "metadata": {},
     "output_type": "execute_result"
    }
   ],
   "source": [
    "df.isnull().sum()"
   ]
  },
  {
   "cell_type": "code",
   "execution_count": null,
   "id": "c49781ce",
   "metadata": {},
   "outputs": [],
   "source": []
  }
 ],
 "metadata": {
  "kernelspec": {
   "display_name": "Python 3",
   "language": "python",
   "name": "python3"
  },
  "language_info": {
   "codemirror_mode": {
    "name": "ipython",
    "version": 3
   },
   "file_extension": ".py",
   "mimetype": "text/x-python",
   "name": "python",
   "nbconvert_exporter": "python",
   "pygments_lexer": "ipython3",
   "version": "3.13.2"
  }
 },
 "nbformat": 4,
 "nbformat_minor": 5
}
