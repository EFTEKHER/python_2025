{
 "cells": [
  {
   "cell_type": "code",
   "execution_count": 1,
   "id": "3bd68335",
   "metadata": {},
   "outputs": [],
   "source": [
    "import numpy as np\n"
   ]
  },
  {
   "cell_type": "code",
   "execution_count": 5,
   "id": "a01fbb47",
   "metadata": {},
   "outputs": [],
   "source": [
    "arr1=np.array([1, 2, 3, 4, 5,6])"
   ]
  },
  {
   "cell_type": "code",
   "execution_count": 6,
   "id": "5fb867b9",
   "metadata": {},
   "outputs": [
    {
     "name": "stdout",
     "output_type": "stream",
     "text": [
      "[1 2 3 4 5 6]\n",
      "<class 'numpy.ndarray'>\n"
     ]
    }
   ],
   "source": [
    "print(arr1)\n",
    "print(type(arr1))"
   ]
  },
  {
   "cell_type": "code",
   "execution_count": 7,
   "id": "1786200a",
   "metadata": {},
   "outputs": [
    {
     "name": "stdout",
     "output_type": "stream",
     "text": [
      "(6,)\n"
     ]
    }
   ],
   "source": [
    "print(arr1.shape)"
   ]
  },
  {
   "cell_type": "code",
   "execution_count": 8,
   "id": "fec03178",
   "metadata": {},
   "outputs": [
    {
     "data": {
      "text/plain": [
       "array([[1, 2, 3],\n",
       "       [4, 5, 6]])"
      ]
     },
     "execution_count": 8,
     "metadata": {},
     "output_type": "execute_result"
    }
   ],
   "source": [
    "arr1.reshape(2,3)"
   ]
  },
  {
   "cell_type": "code",
   "execution_count": 12,
   "id": "3607343e",
   "metadata": {},
   "outputs": [],
   "source": [
    "arr2= np.array([[1,2,3,4,5,6],[2,3,4,5,6,7]])"
   ]
  },
  {
   "cell_type": "code",
   "execution_count": 13,
   "id": "ec9f6451",
   "metadata": {},
   "outputs": [
    {
     "data": {
      "text/plain": [
       "(2, 6)"
      ]
     },
     "execution_count": 13,
     "metadata": {},
     "output_type": "execute_result"
    }
   ],
   "source": [
    "arr2.shape"
   ]
  },
  {
   "cell_type": "code",
   "execution_count": 14,
   "id": "d993b2a6",
   "metadata": {},
   "outputs": [],
   "source": [
    "a=np.arange(0,10,2)"
   ]
  },
  {
   "cell_type": "code",
   "execution_count": 15,
   "id": "71097ab2",
   "metadata": {},
   "outputs": [
    {
     "data": {
      "text/plain": [
       "array([0, 2, 4, 6, 8])"
      ]
     },
     "execution_count": 15,
     "metadata": {},
     "output_type": "execute_result"
    }
   ],
   "source": [
    "a"
   ]
  },
  {
   "cell_type": "code",
   "execution_count": 17,
   "id": "bbf2c221",
   "metadata": {},
   "outputs": [
    {
     "data": {
      "text/plain": [
       "array([[1, 1, 1, 1],\n",
       "       [1, 1, 1, 1],\n",
       "       [1, 1, 1, 1]])"
      ]
     },
     "execution_count": 17,
     "metadata": {},
     "output_type": "execute_result"
    }
   ],
   "source": [
    "np.ones((3,4),dtype=int)"
   ]
  },
  {
   "cell_type": "code",
   "execution_count": 19,
   "id": "aeec43c4",
   "metadata": {},
   "outputs": [
    {
     "data": {
      "text/plain": [
       "array([[1., 0., 0.],\n",
       "       [0., 1., 0.],\n",
       "       [0., 0., 1.]])"
      ]
     },
     "execution_count": 19,
     "metadata": {},
     "output_type": "execute_result"
    }
   ],
   "source": [
    "#identity matrix\n",
    "np.eye(3)"
   ]
  },
  {
   "cell_type": "code",
   "execution_count": 20,
   "id": "538ed258",
   "metadata": {},
   "outputs": [
    {
     "name": "stdout",
     "output_type": "stream",
     "text": [
      "Array :\n",
      " [[1 2 3]\n",
      " [4 5 6]]\n",
      "Shape of array: (2, 3)\n",
      "Number od Dimensions 2\n",
      "Data type: int64\n",
      "Item size (in bytes) 8\n"
     ]
    }
   ],
   "source": [
    "arr=np.array([[1,2,3],[4,5,6]])\n",
    "print(\"Array :\\n\", arr)\n",
    "print(\"Shape of array:\", arr.shape)\n",
    "print(\"Number od Dimensions\",arr.ndim)\n",
    "print(\"Data type:\",arr.dtype)\n",
    "print(\"Item size (in bytes)\",arr.itemsize)"
   ]
  },
  {
   "cell_type": "code",
   "execution_count": 21,
   "id": "298a39c5",
   "metadata": {},
   "outputs": [
    {
     "name": "stdout",
     "output_type": "stream",
     "text": [
      "Addition:\n",
      " [5 7 9]\n",
      "Subtraction:\n",
      " [-3 -3 -3]\n",
      "Multiplication:\n",
      " [ 4 10 18]\n",
      "Division:\n",
      " [0.25 0.4  0.5 ]\n"
     ]
    }
   ],
   "source": [
    "## np array addition,subtraction,multiplication, division two arrays \n",
    "np1=np.array([1,2,3])\n",
    "np2=np.array([4,5,6])\n",
    "print(\"Addition:\\n\", np1 + np2)\n",
    "print(\"Subtraction:\\n\", np1 - np2)\n",
    "print(\"Multiplication:\\n\", np1 * np2)\n",
    "print(\"Division:\\n\", np1 / np2)"
   ]
  },
  {
   "cell_type": "code",
   "execution_count": 25,
   "id": "3f54306a",
   "metadata": {},
   "outputs": [
    {
     "name": "stdout",
     "output_type": "stream",
     "text": [
      "[1.         1.41421356 1.73205081]\n",
      "[ 54.59815003 148.4131591  403.42879349]\n",
      "[0.84147098 0.90929743 0.14112001]\n",
      "[0.         0.69314718 1.09861229]\n"
     ]
    }
   ],
   "source": [
    "## square root \n",
    "print(np.sqrt(np1))\n",
    "print(np.exp(np2))\n",
    "print(np.sin(np1))\n",
    "print(np.log(np1))"
   ]
  },
  {
   "cell_type": "code",
   "execution_count": 26,
   "id": "634fbabf",
   "metadata": {},
   "outputs": [],
   "source": [
    "## array slicing"
   ]
  },
  {
   "cell_type": "code",
   "execution_count": 27,
   "id": "d3d3bc28",
   "metadata": {},
   "outputs": [],
   "source": [
    "arr=np.array([[1,2,3],[4,5,6],[7,8,9],[10,11,12]])"
   ]
  },
  {
   "cell_type": "code",
   "execution_count": 28,
   "id": "d70f7b97",
   "metadata": {},
   "outputs": [
    {
     "data": {
      "text/plain": [
       "array([[ 1,  2,  3],\n",
       "       [ 4,  5,  6],\n",
       "       [ 7,  8,  9],\n",
       "       [10, 11, 12]])"
      ]
     },
     "execution_count": 28,
     "metadata": {},
     "output_type": "execute_result"
    }
   ],
   "source": [
    "arr"
   ]
  },
  {
   "cell_type": "code",
   "execution_count": 31,
   "id": "8cba2b08",
   "metadata": {},
   "outputs": [
    {
     "data": {
      "text/plain": [
       "array([[1, 2, 3],\n",
       "       [4, 5, 6]])"
      ]
     },
     "execution_count": 31,
     "metadata": {},
     "output_type": "execute_result"
    }
   ],
   "source": [
    "arr[0:2,0:3]"
   ]
  },
  {
   "cell_type": "code",
   "execution_count": 32,
   "id": "46d92dc5",
   "metadata": {},
   "outputs": [
    {
     "data": {
      "text/plain": [
       "array([[5, 6],\n",
       "       [8, 9]])"
      ]
     },
     "execution_count": 32,
     "metadata": {},
     "output_type": "execute_result"
    }
   ],
   "source": [
    "arr[1:3,1:3]"
   ]
  },
  {
   "cell_type": "code",
   "execution_count": 33,
   "id": "8b86ce3e",
   "metadata": {},
   "outputs": [],
   "source": [
    "arr[0,0]=100"
   ]
  },
  {
   "cell_type": "code",
   "execution_count": 34,
   "id": "88580378",
   "metadata": {},
   "outputs": [
    {
     "data": {
      "text/plain": [
       "array([[100,   2,   3],\n",
       "       [  4,   5,   6],\n",
       "       [  7,   8,   9],\n",
       "       [ 10,  11,  12]])"
      ]
     },
     "execution_count": 34,
     "metadata": {},
     "output_type": "execute_result"
    }
   ],
   "source": [
    "arr"
   ]
  },
  {
   "cell_type": "code",
   "execution_count": 35,
   "id": "4abdb1f1",
   "metadata": {},
   "outputs": [],
   "source": [
    "### statiscal concepts - Normalization\n",
    "\n",
    "data=np.array([1,2,3,4,5])"
   ]
  },
  {
   "cell_type": "code",
   "execution_count": 38,
   "id": "57f93e00",
   "metadata": {},
   "outputs": [],
   "source": [
    "mean=np.mean(data)\n",
    "std_d=np.std(data)\n",
    "data_normalized=(data-mean)/std_d"
   ]
  },
  {
   "cell_type": "code",
   "execution_count": 39,
   "id": "a047dd17",
   "metadata": {},
   "outputs": [
    {
     "name": "stdout",
     "output_type": "stream",
     "text": [
      "[-1.41421356 -0.70710678  0.          0.70710678  1.41421356]\n"
     ]
    }
   ],
   "source": [
    "print(data_normalized)"
   ]
  },
  {
   "cell_type": "code",
   "execution_count": 40,
   "id": "92efedf5",
   "metadata": {},
   "outputs": [
    {
     "name": "stdout",
     "output_type": "stream",
     "text": [
      "3.0\n",
      "3.0\n",
      "1.4142135623730951\n",
      "2.0\n"
     ]
    }
   ],
   "source": [
    "print(np.mean(data))\n",
    "print(np.median(data))\n",
    "print(np.std(data))\n",
    "print(np.var(data))"
   ]
  },
  {
   "cell_type": "code",
   "execution_count": 41,
   "id": "3765c9bf",
   "metadata": {},
   "outputs": [
    {
     "data": {
      "text/plain": [
       "array([False, False,  True,  True,  True])"
      ]
     },
     "execution_count": 41,
     "metadata": {},
     "output_type": "execute_result"
    }
   ],
   "source": [
    "data>2"
   ]
  },
  {
   "cell_type": "code",
   "execution_count": 42,
   "id": "9395e43b",
   "metadata": {},
   "outputs": [
    {
     "data": {
      "text/plain": [
       "array([3, 4, 5])"
      ]
     },
     "execution_count": 42,
     "metadata": {},
     "output_type": "execute_result"
    }
   ],
   "source": [
    "data[data>2]"
   ]
  },
  {
   "cell_type": "code",
   "execution_count": 43,
   "id": "f5bd08da",
   "metadata": {},
   "outputs": [],
   "source": [
    "import pandas as pd\n",
    "data = pd.Series([1, 2, 3, 4, 5])\n"
   ]
  },
  {
   "cell_type": "code",
   "execution_count": null,
   "id": "0c155d49",
   "metadata": {},
   "outputs": [],
   "source": []
  }
 ],
 "metadata": {
  "kernelspec": {
   "display_name": "Python 3",
   "language": "python",
   "name": "python3"
  },
  "language_info": {
   "codemirror_mode": {
    "name": "ipython",
    "version": 3
   },
   "file_extension": ".py",
   "mimetype": "text/x-python",
   "name": "python",
   "nbconvert_exporter": "python",
   "pygments_lexer": "ipython3",
   "version": "3.13.2"
  }
 },
 "nbformat": 4,
 "nbformat_minor": 5
}
