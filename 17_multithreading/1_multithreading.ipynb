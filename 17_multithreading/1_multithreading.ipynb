{
 "cells": [
  {
   "cell_type": "code",
   "execution_count": 1,
   "id": "eb57ef2b",
   "metadata": {},
   "outputs": [],
   "source": [
    "## process -> A process is simply an instance of a program that is being executed. Each process has its own memory space and system resources."
   ]
  },
  {
   "cell_type": "code",
   "execution_count": null,
   "id": "21c053e7",
   "metadata": {},
   "outputs": [],
   "source": [
    "## Multithreading \n",
    "## when to use multithreading\n",
    "#### I/O bound tasks: Tasks that involve waiting for external resources, such as file I/O, network requests, or database queries. Multithreading can help improve the responsiveness of applications that perform a lot of I/O operations.\n",
    "#### GUI applications: In graphical user interface (GUI) applications, multithreading can be used to keep the user interface responsive while performing background tasks.\n",
    "####concurrent execution: When you need to perform multiple tasks concurrently, such as downloading multiple files simultaneously or processing multiple requests in a web server. improve throughput and responsiveness."
   ]
  },
  {
   "cell_type": "code",
   "execution_count": 5,
   "id": "74bbfd1a",
   "metadata": {},
   "outputs": [
    {
     "name": "stdout",
     "output_type": "stream",
     "text": [
      "Number is 0\n",
      "Number is 1\n",
      "Number is 2\n",
      "Number is 3\n",
      "Number is 4\n",
      "Character is a\n",
      "Character is b\n",
      "Character is c\n",
      "Character is d\n",
      "Character is e\n",
      "Total time taken is 20.0057373046875\n"
     ]
    }
   ],
   "source": [
    "import time \n",
    "import threading\n",
    "def pri():\n",
    "    for i in range(5):\n",
    "        time.sleep(2)\n",
    "        print(f\"Number is {i}\")\n",
    "def  tri():\n",
    "    for i in \"abcde\":\n",
    "        time.sleep(2)\n",
    "        print(f\"Character is {i}\")\n",
    "\n",
    "t=time.time()\n",
    "pri()\n",
    "tri()\n",
    "total=time.time()-t\n",
    "print(f\"Total time taken is {total}\")                "
   ]
  },
  {
   "cell_type": "code",
   "execution_count": 7,
   "id": "5288b2d9",
   "metadata": {},
   "outputs": [
    {
     "name": "stdout",
     "output_type": "stream",
     "text": [
      "Character is a\n",
      "\n",
      "Number is 0\n",
      "\n",
      "Character is b\n",
      "\n",
      "Number is 1\n",
      "\n",
      "Character is c\n",
      "\n",
      "Number is 2\n",
      "\n",
      "Character is d\n",
      "\n",
      "Number is 3\n",
      "\n",
      "Character is e\n",
      "\n",
      "Number is 4\n",
      "\n",
      "Total time taken is 10.003435134887695\n"
     ]
    }
   ],
   "source": [
    "import time \n",
    "import threading\n",
    "def pri():\n",
    "    for i in range(5):\n",
    "        time.sleep(2)\n",
    "        print(f\"Number is {i}\\n\")\n",
    "def  tri():\n",
    "    for i in \"abcde\":\n",
    "        time.sleep(2)\n",
    "        print(f\"Character is {i}\\n\")\n",
    "\n",
    "t=time.time()\n",
    "t1=threading.Thread(target=pri)\n",
    "t2=threading.Thread(target=tri)\n",
    "\n",
    "t1.start()\n",
    "t2.start()\n",
    "t1.join()\n",
    "t2.join()\n",
    "total=time.time()-t\n",
    "print(f\"Total time taken is {total}\") "
   ]
  },
  {
   "cell_type": "code",
   "execution_count": null,
   "id": "313fd1c6",
   "metadata": {},
   "outputs": [],
   "source": []
  }
 ],
 "metadata": {
  "kernelspec": {
   "display_name": "Python 3",
   "language": "python",
   "name": "python3"
  },
  "language_info": {
   "codemirror_mode": {
    "name": "ipython",
    "version": 3
   },
   "file_extension": ".py",
   "mimetype": "text/x-python",
   "name": "python",
   "nbconvert_exporter": "python",
   "pygments_lexer": "ipython3",
   "version": "3.13.2"
  }
 },
 "nbformat": 4,
 "nbformat_minor": 5
}
