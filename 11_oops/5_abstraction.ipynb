{
 "cells": [
  {
   "cell_type": "markdown",
   "id": "06459f9a",
   "metadata": {},
   "source": [
    "## Abstraction\n"
   ]
  },
  {
   "cell_type": "markdown",
   "id": "ed9f34d5",
   "metadata": {},
   "source": [
    "#### abstractions is the concept of hiding complex implementation details and showing only the necessary features of an object ."
   ]
  },
  {
   "cell_type": "markdown",
   "id": "ef7f2bb5",
   "metadata": {},
   "source": [
    "#### this helps "
   ]
  },
  {
   "cell_type": "code",
   "execution_count": null,
   "id": "0825ac36",
   "metadata": {},
   "outputs": [],
   "source": []
  },
  {
   "cell_type": "code",
   "execution_count": 1,
   "id": "d3a835ef",
   "metadata": {},
   "outputs": [],
   "source": [
    "from  abc import ABC,abstractmethod\n",
    " # Abstract Base class\n",
    "class Vehicle(ABC):\n",
    "    def drive(self):\n",
    "        print(\"Driving\")\n",
    "    @abstractmethod\n",
    "    def start_engine(self):\n",
    "        pass"
   ]
  },
  {
   "cell_type": "code",
   "execution_count": 2,
   "id": "1843d107",
   "metadata": {},
   "outputs": [],
   "source": [
    "class Car(Vehicle):\n",
    "    def start_engine(self):\n",
    "        print(\"Car engine started\")\n",
    "        \n",
    "    def operation(Vehicle):\n",
    "        Vehicle.start_engine()\n",
    "        Vehicle.drive()    \n"
   ]
  },
  {
   "cell_type": "code",
   "execution_count": 3,
   "id": "affaf0e5",
   "metadata": {},
   "outputs": [
    {
     "name": "stdout",
     "output_type": "stream",
     "text": [
      "Car engine started\n",
      "Driving\n"
     ]
    }
   ],
   "source": [
    "can=Car()\n",
    "can.start_engine()\n",
    "can.drive()"
   ]
  },
  {
   "cell_type": "code",
   "execution_count": null,
   "id": "14799214",
   "metadata": {},
   "outputs": [],
   "source": []
  }
 ],
 "metadata": {
  "kernelspec": {
   "display_name": "Python 3",
   "language": "python",
   "name": "python3"
  },
  "language_info": {
   "codemirror_mode": {
    "name": "ipython",
    "version": 3
   },
   "file_extension": ".py",
   "mimetype": "text/x-python",
   "name": "python",
   "nbconvert_exporter": "python",
   "pygments_lexer": "ipython3",
   "version": "3.13.2"
  }
 },
 "nbformat": 4,
 "nbformat_minor": 5
}
