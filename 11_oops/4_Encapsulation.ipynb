{
 "cells": [
  {
   "cell_type": "code",
   "execution_count": 5,
   "id": "f2885f9f",
   "metadata": {
    "vscode": {
     "languageId": "markdown"
    }
   },
   "outputs": [],
   "source": [
    "###!SECTION Encapsulation is the concept of  wrapping data (variables) and methods (functions) together as a single unit. It restricts direct access to some of the objects components, which is a means of preventing accedental interference and misuse of the data\n"
   ]
  },
  {
   "cell_type": "code",
   "execution_count": null,
   "id": "7b2ffc85",
   "metadata": {},
   "outputs": [],
   "source": [
    "class Person:\n",
    "    def __init__(self, name, age):\n",
    "        self.name = name # Public attribute \n",
    "        self.age = age #public attribute\n",
    "\n",
    "    def display_info(self):\n",
    "        return f\"Name: {self.name}, Age: {self.age}\"\n"
   ]
  },
  {
   "cell_type": "code",
   "execution_count": 7,
   "id": "83676799",
   "metadata": {},
   "outputs": [
    {
     "name": "stdout",
     "output_type": "stream",
     "text": [
      "Name: Alice, Age: 30\n"
     ]
    }
   ],
   "source": [
    "person=Person(\"Alice\", 30)\n",
    "print(person.display_info())"
   ]
  },
  {
   "cell_type": "code",
   "execution_count": 8,
   "id": "385feb54",
   "metadata": {},
   "outputs": [
    {
     "data": {
      "text/plain": [
       "['__class__',\n",
       " '__delattr__',\n",
       " '__dict__',\n",
       " '__dir__',\n",
       " '__doc__',\n",
       " '__eq__',\n",
       " '__firstlineno__',\n",
       " '__format__',\n",
       " '__ge__',\n",
       " '__getattribute__',\n",
       " '__getstate__',\n",
       " '__gt__',\n",
       " '__hash__',\n",
       " '__init__',\n",
       " '__init_subclass__',\n",
       " '__le__',\n",
       " '__lt__',\n",
       " '__module__',\n",
       " '__ne__',\n",
       " '__new__',\n",
       " '__reduce__',\n",
       " '__reduce_ex__',\n",
       " '__repr__',\n",
       " '__setattr__',\n",
       " '__sizeof__',\n",
       " '__static_attributes__',\n",
       " '__str__',\n",
       " '__subclasshook__',\n",
       " '__weakref__',\n",
       " 'age',\n",
       " 'display_info',\n",
       " 'name']"
      ]
     },
     "execution_count": 8,
     "metadata": {},
     "output_type": "execute_result"
    }
   ],
   "source": [
    "dir(person)  # List all attributes and methods of the person object"
   ]
  },
  {
   "cell_type": "code",
   "execution_count": 23,
   "id": "8c6d3e17",
   "metadata": {},
   "outputs": [],
   "source": [
    "class P:\n",
    "    def __init__(self,name,age,gender):\n",
    "        self.__name=name # private Attribute\n",
    "        \n",
    "        self.__age=age  # private Attribute\n",
    "        self.gender=gender\n",
    "\n",
    "    # def display_info(self):\n",
    "    #     return f\"Name: {self.__name}, Age: {self.__age}\"\n",
    "\n",
    "    "
   ]
  },
  {
   "cell_type": "code",
   "execution_count": 24,
   "id": "172cf58d",
   "metadata": {},
   "outputs": [],
   "source": [
    "person = P(\"Alice\", 30,'Male')\n"
   ]
  },
  {
   "cell_type": "code",
   "execution_count": 26,
   "id": "e1a065f7",
   "metadata": {},
   "outputs": [
    {
     "data": {
      "text/plain": [
       "['_P__age',\n",
       " '_P__name',\n",
       " '__class__',\n",
       " '__delattr__',\n",
       " '__dict__',\n",
       " '__dir__',\n",
       " '__doc__',\n",
       " '__eq__',\n",
       " '__firstlineno__',\n",
       " '__format__',\n",
       " '__ge__',\n",
       " '__getattribute__',\n",
       " '__getstate__',\n",
       " '__gt__',\n",
       " '__hash__',\n",
       " '__init__',\n",
       " '__init_subclass__',\n",
       " '__le__',\n",
       " '__lt__',\n",
       " '__module__',\n",
       " '__ne__',\n",
       " '__new__',\n",
       " '__reduce__',\n",
       " '__reduce_ex__',\n",
       " '__repr__',\n",
       " '__setattr__',\n",
       " '__sizeof__',\n",
       " '__static_attributes__',\n",
       " '__str__',\n",
       " '__subclasshook__',\n",
       " '__weakref__',\n",
       " 'gender']"
      ]
     },
     "execution_count": 26,
     "metadata": {},
     "output_type": "execute_result"
    }
   ],
   "source": [
    "dir(person)"
   ]
  },
  {
   "cell_type": "code",
   "execution_count": 53,
   "id": "b63fdf83",
   "metadata": {},
   "outputs": [],
   "source": [
    "class  Person:\n",
    "    def __init__(self):\n",
    "        self.__name=None\n",
    "        self.__age=None\n",
    "        self.__gender=None\n",
    "    def __init__(self,name,age,gender):\n",
    "        self.__name=name # private Attribute\n",
    "        self.__gender=gender\n",
    "        self.__age=age\n",
    "\n",
    "    def set_name(self,name):\n",
    "        self.__name=name\n",
    "\n",
    "    def set_age(self,age):\n",
    "        self.__age=age\n",
    "\n",
    "    def set_gender(self,gender):\n",
    "        self.__gender=gender\n",
    "\n",
    "    def get_name(self):\n",
    "        return self.__name\n",
    "\n",
    "    def get_age(self):\n",
    "        return self.__age\n",
    "\n",
    "    def get_gender(self):\n",
    "        return self.__gender\n",
    "\n",
    "    def info(self):\n",
    "        print(f\"Name: {self.get_name()}, Age: {self.get_age()}, Gender: {self.get_gender()}\")"
   ]
  },
  {
   "cell_type": "code",
   "execution_count": 54,
   "id": "458101e4",
   "metadata": {},
   "outputs": [],
   "source": [
    "p1=Person(\"krish\",25,\"Male\")"
   ]
  },
  {
   "cell_type": "code",
   "execution_count": 55,
   "id": "77d04029",
   "metadata": {},
   "outputs": [
    {
     "name": "stdout",
     "output_type": "stream",
     "text": [
      "Name: krish, Age: 25, Gender: Male\n"
     ]
    }
   ],
   "source": [
    "p1.info()"
   ]
  },
  {
   "cell_type": "code",
   "execution_count": 56,
   "id": "157c53ba",
   "metadata": {},
   "outputs": [],
   "source": [
    "p1.set_name(\"John\")\n",
    "p1.set_age(30)\n",
    "p1.set_gender(\"Male\")"
   ]
  },
  {
   "cell_type": "code",
   "execution_count": 57,
   "id": "04a352df",
   "metadata": {},
   "outputs": [
    {
     "name": "stdout",
     "output_type": "stream",
     "text": [
      "Name: John, Age: 30, Gender: Male\n"
     ]
    }
   ],
   "source": [
    "p1.info()"
   ]
  },
  {
   "cell_type": "code",
   "execution_count": null,
   "id": "5bc3da00",
   "metadata": {},
   "outputs": [
    {
     "ename": "TypeError",
     "evalue": "Person.__init__() missing 3 required positional arguments: 'name', 'age', and 'gender'",
     "output_type": "error",
     "traceback": [
      "\u001b[31m---------------------------------------------------------------------------\u001b[39m",
      "\u001b[31mTypeError\u001b[39m                                 Traceback (most recent call last)",
      "\u001b[36mCell\u001b[39m\u001b[36m \u001b[39m\u001b[32mIn[58]\u001b[39m\u001b[32m, line 1\u001b[39m\n\u001b[32m----> \u001b[39m\u001b[32m1\u001b[39m p2=\u001b[43mPerson\u001b[49m\u001b[43m(\u001b[49m\u001b[43m)\u001b[49m\n",
      "\u001b[31mTypeError\u001b[39m: Person.__init__() missing 3 required positional arguments: 'name', 'age', and 'gender'"
     ]
    }
   ],
   "source": []
  },
  {
   "cell_type": "code",
   "execution_count": null,
   "id": "662929e1",
   "metadata": {},
   "outputs": [],
   "source": []
  },
  {
   "cell_type": "code",
   "execution_count": null,
   "id": "19a62db5",
   "metadata": {},
   "outputs": [],
   "source": []
  },
  {
   "cell_type": "code",
   "execution_count": null,
   "id": "dbe5bb16",
   "metadata": {},
   "outputs": [],
   "source": []
  }
 ],
 "metadata": {
  "kernelspec": {
   "display_name": "Python 3",
   "language": "python",
   "name": "python3"
  },
  "language_info": {
   "codemirror_mode": {
    "name": "ipython",
    "version": 3
   },
   "file_extension": ".py",
   "mimetype": "text/x-python",
   "name": "python",
   "nbconvert_exporter": "python",
   "pygments_lexer": "ipython3",
   "version": "3.13.2"
  }
 },
 "nbformat": 4,
 "nbformat_minor": 5
}
