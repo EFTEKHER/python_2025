{
 "cells": [
  {
   "cell_type": "markdown",
   "id": "0f86521c",
   "metadata": {},
   "source": [
    "### classes and objects"
   ]
  },
  {
   "cell_type": "code",
   "execution_count": 1,
   "id": "24d4eaa2",
   "metadata": {},
   "outputs": [
    {
     "name": "stdout",
     "output_type": "stream",
     "text": [
      "<class '__main__.Car'>\n",
      "<class '__main__.Car'>\n"
     ]
    }
   ],
   "source": [
    "# object oriented programming (oop) is a programming paradigm that uses objects and their interactions to design applications and computer programs. it is based on several key concepts such as encapsulation, inheritance, and polymorphism.\n",
    "# this script demonstrates a simple implementation of oop concepts in python.\n",
    "\n",
    "## A class is a blueprint for creating objects.\n",
    "class Car:\n",
    "    pass\n",
    "audi=Car()  # creating an instance of the Car class\n",
    "bmw = Car()   # creating another instance of the Car class\n",
    "print(type(audi))  # <class '__main__.Car'>\n",
    "print(type(bmw))   # <class '__main__.Car'>"
   ]
  },
  {
   "cell_type": "code",
   "execution_count": 2,
   "id": "1b6ef8b6",
   "metadata": {},
   "outputs": [
    {
     "name": "stdout",
     "output_type": "stream",
     "text": [
      "<__main__.Car object at 0x000002CDE6A16660>\n",
      "<__main__.Car object at 0x000002CDE6837610>\n"
     ]
    }
   ],
   "source": [
    "print(audi)  # <__main__.Car object at 0x...>\n",
    "print(bmw)   # <__main__.Car object at 0x...>"
   ]
  },
  {
   "cell_type": "code",
   "execution_count": 4,
   "id": "9425991d",
   "metadata": {},
   "outputs": [],
   "source": [
    "### instance Variables and Methods\n",
    "class Dog:\n",
    "    def __init__(self, name, age):\n",
    "        self.name = name  # instance variable\n",
    "        self.age = age    # instance variable\n",
    "\n",
    "    def bark(self):  # instance method\n",
    "        return f\"{self.name} says Woof!\""
   ]
  },
  {
   "cell_type": "code",
   "execution_count": 5,
   "id": "c47f2802",
   "metadata": {},
   "outputs": [
    {
     "name": "stdout",
     "output_type": "stream",
     "text": [
      "Ami\n",
      "3\n",
      "Ami says Woof!\n"
     ]
    }
   ],
   "source": [
    "ami=Dog(\"Ami\", 3)  # creating an instance of Dog\n",
    "print(ami.name)  # Ami\n",
    "print(ami.age)   # 3\n",
    "print(ami.bark())  # Ami says Woof!"
   ]
  },
  {
   "cell_type": "code",
   "execution_count": 9,
   "id": "3994908f",
   "metadata": {},
   "outputs": [],
   "source": [
    "## define a class with an instance method\n",
    "class BankAccount:\n",
    "    def __init__(self, account_number, balance):\n",
    "        self.account_number = account_number  # instance variable\n",
    "        self.balance = balance                  # instance variable\n",
    "\n",
    "    def deposit(self, amount):  # instance method\n",
    "        self.balance += amount\n",
    "        return f\"Deposited {amount}. New balance is {self.balance}.\"\n",
    "\n",
    "    def withdraw(self, amount):  # instance method\n",
    "        if amount > self.balance:\n",
    "            return \"Insufficient funds.\"\n",
    "        self.balance -= amount\n",
    "        return f\"Withdrew {amount}. New balance is {self.balance}.\"\n",
    "    \n",
    "    def balance_info(self):\n",
    "        return f\"Account {self.account_number} has a balance of {self.balance}.\""
   ]
  },
  {
   "cell_type": "code",
   "execution_count": 10,
   "id": "a297edd1",
   "metadata": {},
   "outputs": [
    {
     "name": "stdout",
     "output_type": "stream",
     "text": [
      "Deposited 500. New balance is 1500.\n",
      "Withdrew 200. New balance is 1300.\n",
      "Account 123456789 has a balance of 1300.\n"
     ]
    }
   ],
   "source": [
    "Efte=BankAccount(\"123456789\", 1000)  # creating an instance of BankAccount\n",
    "print(Efte.deposit(500))  # Deposited 500. New balance is 150\n",
    "print(Efte.withdraw(200)) \n",
    "print(Efte.balance_info())# Withdrew 200. New balance is 1300"
   ]
  },
  {
   "cell_type": "code",
   "execution_count": null,
   "id": "dd3b0001",
   "metadata": {},
   "outputs": [],
   "source": []
  }
 ],
 "metadata": {
  "kernelspec": {
   "display_name": "Python 3",
   "language": "python",
   "name": "python3"
  },
  "language_info": {
   "codemirror_mode": {
    "name": "ipython",
    "version": 3
   },
   "file_extension": ".py",
   "mimetype": "text/x-python",
   "name": "python",
   "nbconvert_exporter": "python",
   "pygments_lexer": "ipython3",
   "version": "3.13.2"
  }
 },
 "nbformat": 4,
 "nbformat_minor": 5
}
