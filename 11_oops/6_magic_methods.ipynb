{
 "cells": [
  {
   "cell_type": "markdown",
   "id": "255ade71",
   "metadata": {},
   "source": [
    "## Magic Methods"
   ]
  },
  {
   "cell_type": "markdown",
   "id": "91ffa3b1",
   "metadata": {},
   "source": [
    "#### Magic methods in python, also known as dunder methods (double underscore methods) , are special methods that start and end with underscores. these methods enable you to define the  behaviour of objects for built in operations , comparsions and more"
   ]
  },
  {
   "cell_type": "markdown",
   "id": "85ce6ad1",
   "metadata": {},
   "source": [
    "#### Magic methods are  predefined methods in python "
   ]
  },
  {
   "cell_type": "code",
   "execution_count": 1,
   "id": "05ec3bfd",
   "metadata": {},
   "outputs": [],
   "source": [
    "#Magic methods are  predefined methods in python . \n",
    "# They are also called dunder methods (double underscore) and are used to define the behavior of objects.\n",
    "# some common methods are \n",
    "# init - called when an object is created\n",
    "# str - called when the object is converted to a string\n",
    "# repr - called when the object is represented\n",
    "#  getitem - called to access an item using the square brackets\n",
    "#  setItem - called to set an item using the square brackets\""
   ]
  },
  {
   "cell_type": "code",
   "execution_count": 4,
   "id": "32afe92e",
   "metadata": {},
   "outputs": [
    {
     "name": "stdout",
     "output_type": "stream",
     "text": [
      "Person(Name: Alice, Age: 30)\n"
     ]
    }
   ],
   "source": [
    "## Basic Methods\n",
    "class Person:\n",
    "    def __init__(self, name, age):\n",
    "        self.name = name\n",
    "        self.age = age\n",
    "\n",
    "    def __str__(self):\n",
    "        return f\"Person(Name: {self.name}, Age: {self.age})\"\n",
    "\n",
    "    def __repr__(self):\n",
    "        return f\"Person({self.name!r}, {self.age!r})\"\n",
    "\n",
    "    def __getitem__(self, key):\n",
    "        if key == \"name\":\n",
    "            return self.name\n",
    "        elif key == \"age\":\n",
    "            return self.age\n",
    "        else:\n",
    "            raise KeyError(\"Invalid key\")\n",
    "\n",
    "    def __setitem__(self, key, value):\n",
    "        if key == \"name\":\n",
    "            self.name = value\n",
    "        elif key == \"age\":\n",
    "            self.age = value\n",
    "        else:\n",
    "            raise KeyError(\"Invalid key\")\n",
    "\n",
    "p = Person(\"Alice\", 30)\n",
    "print(p)"
   ]
  },
  {
   "cell_type": "code",
   "execution_count": 5,
   "id": "a8c8beb3",
   "metadata": {},
   "outputs": [
    {
     "name": "stdout",
     "output_type": "stream",
     "text": [
      "Person('Alice', 30)\n"
     ]
    }
   ],
   "source": [
    "print(repr(p))"
   ]
  },
  {
   "cell_type": "code",
   "execution_count": 7,
   "id": "c37e2893",
   "metadata": {},
   "outputs": [],
   "source": [
    "class Error(Exception):\n",
    "    pass\n",
    "class doubleException(Error):\n",
    "    pass"
   ]
  },
  {
   "cell_type": "code",
   "execution_count": 8,
   "id": "67bef4ff",
   "metadata": {},
   "outputs": [
    {
     "name": "stdout",
     "output_type": "stream",
     "text": [
      "Age cannot be greater than 100\n",
      "Please enter a valid age.\n"
     ]
    }
   ],
   "source": [
    "x=int(input(\"Entr the dob\"))\n",
    "age=2025-x\n",
    "try:\n",
    "    if age>100:\n",
    "        raise doubleException(\"Age cannot be greater than 100\")\n",
    "except doubleException as e:\n",
    "    print(e)\n",
    "    print(\"Please enter a valid age.\")\n"
   ]
  }
 ],
 "metadata": {
  "kernelspec": {
   "display_name": "Python 3",
   "language": "python",
   "name": "python3"
  },
  "language_info": {
   "codemirror_mode": {
    "name": "ipython",
    "version": 3
   },
   "file_extension": ".py",
   "mimetype": "text/x-python",
   "name": "python",
   "nbconvert_exporter": "python",
   "pygments_lexer": "ipython3",
   "version": "3.13.2"
  }
 },
 "nbformat": 4,
 "nbformat_minor": 5
}
