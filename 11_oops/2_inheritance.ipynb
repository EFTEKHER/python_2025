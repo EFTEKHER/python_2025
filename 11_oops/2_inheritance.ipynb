{
 "cells": [
  {
   "cell_type": "code",
   "execution_count": 4,
   "id": "4ada77c7",
   "metadata": {},
   "outputs": [],
   "source": [
    "## inheritance in python \n",
    "## inheritance is a fundamental concept in object-oriented programming.that allows a class to inherit attributes and methods from another class.there are different types of inheritance in python:single inheritance,multiple inheritance, multilevel inheritance, hierarchical inheritance, and hybrid inheritance.\n"
   ]
  },
  {
   "cell_type": "code",
   "execution_count": 5,
   "id": "7713eb9d",
   "metadata": {},
   "outputs": [],
   "source": [
    "## inheritance\n",
    "class Car():\n",
    "    def __init__(self,windows,doors,enginetype):\n",
    "        self.windows = windows\n",
    "        self.doors = doors\n",
    "        self.enginetype = enginetype\n",
    "    def drive(self):\n",
    "        print(f\"The person is driving a {self.enginetype} car\")"
   ]
  },
  {
   "cell_type": "code",
   "execution_count": 6,
   "id": "37d2c7ef",
   "metadata": {},
   "outputs": [
    {
     "name": "stdout",
     "output_type": "stream",
     "text": [
      "The person is driving a petrol car\n"
     ]
    }
   ],
   "source": [
    "car1=Car(4, 4, \"petrol\")    \n",
    "car1.drive()"
   ]
  },
  {
   "cell_type": "code",
   "execution_count": 7,
   "id": "9b20a49b",
   "metadata": {},
   "outputs": [],
   "source": [
    "class Tesla(Car):\n",
    "    def __init__(self, windows, doors, enginetype, autopilot):\n",
    "        super().__init__(windows, doors, enginetype)\n",
    "        self.autopilot = autopilot\n",
    "\n",
    "    def drive(self):\n",
    "        super().drive()\n",
    "        print(f\"The Tesla has autopilot: {self.autopilot}\")\n"
   ]
  },
  {
   "cell_type": "code",
   "execution_count": 8,
   "id": "b848e192",
   "metadata": {},
   "outputs": [
    {
     "name": "stdout",
     "output_type": "stream",
     "text": [
      "The person is driving a electric car\n",
      "The Tesla has autopilot: True\n"
     ]
    }
   ],
   "source": [
    "tesla1=Tesla(4, 4, \"electric\", True)\n",
    "tesla1.drive()"
   ]
  },
  {
   "cell_type": "code",
   "execution_count": 8,
   "id": "40e96986",
   "metadata": {},
   "outputs": [],
   "source": [
    "##  Multiple inheritance\n",
    "## when a class inherits from  more than one base class.\n",
    "\n",
    "class Animal:\n",
    "    def __init__(self, species):\n",
    "        self.species = species\n",
    "\n",
    "    def make_sound(self):\n",
    "        print(f\"The {self.species} makes a sound.\")\n",
    "\n",
    "class Bird:\n",
    "    def __init__(self, can_fly):\n",
    "        self.can_fly = can_fly\n",
    "\n",
    "    def fly(self):\n",
    "        if self.can_fly:\n",
    "            print(\"The bird is flying.\")\n",
    "        else:\n",
    "            print(\"The bird cannot fly.\")\n",
    "\n",
    "class Bat(Animal, Bird):\n",
    "    def __init__(self, species, can_fly):\n",
    "        Animal.__init__(self, species)\n",
    "        Bird.__init__(self, can_fly)\n"
   ]
  },
  {
   "cell_type": "code",
   "execution_count": 9,
   "id": "8ec67d2a",
   "metadata": {},
   "outputs": [],
   "source": [
    "x=Bat(\"Bat\", True)"
   ]
  },
  {
   "cell_type": "code",
   "execution_count": 10,
   "id": "0b51a2b2",
   "metadata": {},
   "outputs": [
    {
     "name": "stdout",
     "output_type": "stream",
     "text": [
      "The Bat makes a sound.\n",
      "The bird is flying.\n"
     ]
    }
   ],
   "source": [
    "x.make_sound()\n",
    "x.fly()"
   ]
  },
  {
   "cell_type": "code",
   "execution_count": null,
   "id": "e7f72250",
   "metadata": {},
   "outputs": [],
   "source": []
  }
 ],
 "metadata": {
  "kernelspec": {
   "display_name": "Python 3",
   "language": "python",
   "name": "python3"
  },
  "language_info": {
   "codemirror_mode": {
    "name": "ipython",
    "version": 3
   },
   "file_extension": ".py",
   "mimetype": "text/x-python",
   "name": "python",
   "nbconvert_exporter": "python",
   "pygments_lexer": "ipython3",
   "version": "3.13.2"
  }
 },
 "nbformat": 4,
 "nbformat_minor": 5
}
