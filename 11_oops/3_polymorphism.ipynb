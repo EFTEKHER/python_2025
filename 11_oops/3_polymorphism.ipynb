{
 "cells": [
  {
   "cell_type": "code",
   "execution_count": 1,
   "id": "b5a8b753",
   "metadata": {},
   "outputs": [
    {
     "name": "stdout",
     "output_type": "stream",
     "text": [
      "Bark\n",
      "Meow\n"
     ]
    }
   ],
   "source": [
    "## polymorphism\n",
    "## when a subclass provides a specific implementation of a method that is already defined in its superclass.\n",
    "\n",
    "## polymorphism  is a core concept in object oriented programming(OOP) that allows object of different classes  to be treated as  objects  of a common superclass.It provides a way to perform a single action in different forms .polymorphism  is typically  achieved through  method overriding  and interfaces\n",
    "\n",
    "##Base class \n",
    "\n",
    "class Animal:\n",
    "    def make_sound(self):\n",
    "        print(\"Animal sound\")\n",
    "class Dog(Animal):\n",
    "    def make_sound(self):\n",
    "        print(\"Bark\")\n",
    "class Cat(Animal):\n",
    "    def make_sound(self):\n",
    "        print(\"Meow\")\n",
    "        \n",
    "dog=Dog()\n",
    "dog.make_sound()\n",
    "\n",
    "cat=Cat()\n",
    "cat.make_sound()\n"
   ]
  },
  {
   "cell_type": "code",
   "execution_count": 2,
   "id": "7d4c508d",
   "metadata": {},
   "outputs": [
    {
     "name": "stdout",
     "output_type": "stream",
     "text": [
      "Bark\n",
      "Meow\n"
     ]
    }
   ],
   "source": [
    "def animal_sound(animal):\n",
    "    animal.make_sound()\n",
    "animal_sound(dog)\n",
    "animal_sound(cat)"
   ]
  },
  {
   "cell_type": "code",
   "execution_count": 3,
   "id": "13f0ba29",
   "metadata": {},
   "outputs": [],
   "source": [
    "class Shape:\n",
    "    def area(self):\n",
    "        return  \"the are of the figure\"\n",
    "class rectangle(Shape):\n",
    "    def __init__(self,width,height):\n",
    "        self.width=width\n",
    "        self.height=height\n",
    "    def area(self):\n",
    "        return self.width * self.height \n",
    "class circle(Shape):\n",
    "    def __init__(self,radius):\n",
    "        self.radius=radius\n",
    "    def area(self):\n",
    "        return  f\"{3.1416 * self.radius**2}\""
   ]
  },
  {
   "cell_type": "code",
   "execution_count": 6,
   "id": "a3463327",
   "metadata": {},
   "outputs": [
    {
     "name": "stdout",
     "output_type": "stream",
     "text": [
      "50\n",
      "153.9384\n"
     ]
    }
   ],
   "source": [
    "R=rectangle(5,10)\n",
    "C=circle(7)\n",
    "print(R.area())\n",
    "print(C.area())"
   ]
  },
  {
   "cell_type": "code",
   "execution_count": 7,
   "id": "7c22cc2a",
   "metadata": {},
   "outputs": [],
   "source": [
    "### polymorphisms with abstract Base classes\n",
    "\n",
    "## Abstract classes are classes that cannot be instantiated and are typically used as base classes. They can define abstract methods that must be implemented by any concrete subclass. This allows for a common interface while still enabling polymorphic behavior.\n",
    "\n",
    "from abc import ABC,abstractmethod\n",
    "\n",
    "class vehicle:\n",
    "    @abstractmethod\n",
    "    def start_engine(self):\n",
    "        pass\n",
    "\n",
    "class Car(vehicle):\n",
    "    def start_engine(self):\n",
    "        return \"Car engine started\"\n",
    "\n",
    "class Motorcycle(vehicle):\n",
    "    def start_engine(self):\n",
    "        return \"Motorcycle engine started\"\n"
   ]
  },
  {
   "cell_type": "code",
   "execution_count": 8,
   "id": "243add5d",
   "metadata": {},
   "outputs": [
    {
     "name": "stdout",
     "output_type": "stream",
     "text": [
      "Car engine started\n",
      "Motorcycle engine started\n"
     ]
    }
   ],
   "source": [
    "motorcycle = Motorcycle()\n",
    "car = Car()\n",
    "print(car.start_engine())\n",
    "print(motorcycle.start_engine())"
   ]
  },
  {
   "cell_type": "code",
   "execution_count": null,
   "id": "e8d55bfa",
   "metadata": {},
   "outputs": [],
   "source": []
  }
 ],
 "metadata": {
  "kernelspec": {
   "display_name": "Python 3",
   "language": "python",
   "name": "python3"
  },
  "language_info": {
   "codemirror_mode": {
    "name": "ipython",
    "version": 3
   },
   "file_extension": ".py",
   "mimetype": "text/x-python",
   "name": "python",
   "nbconvert_exporter": "python",
   "pygments_lexer": "ipython3",
   "version": "3.13.2"
  }
 },
 "nbformat": 4,
 "nbformat_minor": 5
}
