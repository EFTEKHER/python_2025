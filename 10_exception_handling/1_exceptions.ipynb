{
 "cells": [
  {
   "cell_type": "code",
   "execution_count": null,
   "id": "ff3d4a44",
   "metadata": {},
   "outputs": [],
   "source": []
  },
  {
   "cell_type": "markdown",
   "id": "01b8536a",
   "metadata": {},
   "source": [
    "## what are exceptions?"
   ]
  },
  {
   "cell_type": "code",
   "execution_count": 1,
   "id": "e3a48d75",
   "metadata": {},
   "outputs": [
    {
     "name": "stdout",
     "output_type": "stream",
     "text": [
      "An exception occurred: variable 'b' is not defined.\n"
     ]
    }
   ],
   "source": [
    "# exceptions are events that are disrupt the normal flow of a program\n",
    "# and require special handling.\n",
    "# this script demonstrates how to handle exceptions in Python\n",
    "try:\n",
    "    a=b\n",
    "except:\n",
    "    print(\"An exception occurred: variable 'b' is not defined.\")    "
   ]
  },
  {
   "cell_type": "code",
   "execution_count": 2,
   "id": "9050002a",
   "metadata": {},
   "outputs": [
    {
     "name": "stdout",
     "output_type": "stream",
     "text": [
      "NameError: name 'b' is not defined\n"
     ]
    }
   ],
   "source": [
    "try:\n",
    "    a=b\n",
    "except NameError as e:\n",
    "    print(f\"NameError: {e}\")    "
   ]
  },
  {
   "cell_type": "code",
   "execution_count": 4,
   "id": "9af991c9",
   "metadata": {},
   "outputs": [
    {
     "name": "stdout",
     "output_type": "stream",
     "text": [
      "ZeroDivisionError: division by zero\n",
      "denominator cannot be zero, please provide a valid denominator.\n"
     ]
    }
   ],
   "source": [
    "try:\n",
    "    a = 1 / 0\n",
    "except ZeroDivisionError as e:\n",
    "    print(f\"ZeroDivisionError: {e}\")\n",
    "    print(\"denominator cannot be zero, please provide a valid denominator.\")"
   ]
  },
  {
   "cell_type": "code",
   "execution_count": 6,
   "id": "31ee28a3",
   "metadata": {},
   "outputs": [
    {
     "name": "stdout",
     "output_type": "stream",
     "text": [
      "Result of division: 0.5\n",
      "An unexpected error occurred: name 'b' is not defined\n"
     ]
    }
   ],
   "source": [
    "try:\n",
    "    a = 1 / 2\n",
    "    print(f\"Result of division: {a}\")\n",
    "    a=b\n",
    "    \n",
    "except ZeroDivisionError as e:\n",
    "    print(f\"ZeroDivisionError: {e}\")\n",
    "    print(\"denominator cannot be zero, please provide a valid denominator.\")\n",
    "except Exception as e:\n",
    "    print(f\"An unexpected error occurred: {e}\")    "
   ]
  },
  {
   "cell_type": "code",
   "execution_count": 7,
   "id": "dac9e61e",
   "metadata": {},
   "outputs": [
    {
     "name": "stdout",
     "output_type": "stream",
     "text": [
      "Result of division: 10.0\n",
      "You entered: 1\n"
     ]
    }
   ],
   "source": [
    "try:\n",
    "    num=int(input(\"Enter a number: \"))\n",
    "    result=10/num\n",
    "    print(f\"Result of division: {result}\")\n",
    "    print(f\"You entered: {num}\")\n",
    "except ValueError as e:\n",
    "    print(f\"ValueError: {e}\")\n",
    "    print(\"Please enter a valid integer.\")\n",
    "except ZeroDivisionError as e:\n",
    "    print(f\"ZeroDivisionError: {e}\")\n",
    "    print(\"denominator cannot be zero, please provide a valid denominator.\")\n",
    "except Exception as e:\n",
    "    print(f\"An unexpected error occurred: {e}\")    \n",
    "    \n",
    "            "
   ]
  },
  {
   "cell_type": "code",
   "execution_count": 8,
   "id": "fd45d150",
   "metadata": {},
   "outputs": [
    {
     "name": "stdout",
     "output_type": "stream",
     "text": [
      "Result of division: 5.0\n",
      "You entered: 2\n",
      "No exceptions occurred, the operation was successful.\n"
     ]
    }
   ],
   "source": [
    "try:\n",
    "    num=int(input(\"Enter a number: \"))\n",
    "    result=10/num\n",
    "    print(f\"Result of division: {result}\")\n",
    "    print(f\"You entered: {num}\")\n",
    "except ValueError as e:\n",
    "    print(f\"ValueError: {e}\")\n",
    "    print(\"Please enter a valid integer.\")\n",
    "except ZeroDivisionError as e:\n",
    "    print(f\"ZeroDivisionError: {e}\")\n",
    "    print(\"denominator cannot be zero, please provide a valid denominator.\")\n",
    "except Exception as e:\n",
    "    print(f\"An unexpected error occurred: {e}\")    \n",
    "else:\n",
    "    print(\"No exceptions occurred, the operation was successful.\")"
   ]
  },
  {
   "cell_type": "code",
   "execution_count": 9,
   "id": "5fb2beb6",
   "metadata": {},
   "outputs": [
    {
     "name": "stdout",
     "output_type": "stream",
     "text": [
      "Result of division: 0.8333333333333334\n",
      "You entered: 12\n",
      "No exceptions occurred, the operation was successful.\n",
      "This block always executes, regardless of whether an exception occurred or not.\n"
     ]
    }
   ],
   "source": [
    "# try,except,finally,else\n",
    "try:\n",
    "    num=int(input(\"Enter a number: \"))\n",
    "    result=10/num\n",
    "    print(f\"Result of division: {result}\")\n",
    "    print(f\"You entered: {num}\")\n",
    "except ValueError as e:\n",
    "    print(f\"ValueError: {e}\")\n",
    "    print(\"Please enter a valid integer.\")\n",
    "except ZeroDivisionError as e:\n",
    "    print(f\"ZeroDivisionError: {e}\")\n",
    "    print(\"denominator cannot be zero, please provide a valid denominator.\")\n",
    "else:\n",
    "    print(\"No exceptions occurred, the operation was successful.\")\n",
    "finally:\n",
    "    print(\"This block always executes, regardless of whether an exception occurred or not.\")    \n",
    "                    "
   ]
  },
  {
   "cell_type": "code",
   "execution_count": 10,
   "id": "246a24cf",
   "metadata": {},
   "outputs": [
    {
     "name": "stdout",
     "output_type": "stream",
     "text": [
      "FileNotFoundError: [Errno 2] No such file or directory: 'non_existent_file.txt'\n",
      "The file does not exist, please check the file path.\n",
      "File was not opened, no need to close it.\n"
     ]
    }
   ],
   "source": [
    "try:\n",
    "    file=open(\"non_existent_file.txt\", \"r\")\n",
    "    content=file.read()\n",
    "    print(content)\n",
    "except FileNotFoundError as e:\n",
    "    print(f\"FileNotFoundError: {e}\")\n",
    "    print(\"The file does not exist, please check the file path.\")\n",
    "else:\n",
    "    print(\"File read successfully, no exceptions occurred.\")\n",
    "finally:\n",
    "    if 'file' in locals():\n",
    "        file.close()\n",
    "        print(\"File closed successfully.\")\n",
    "    else:\n",
    "        print(\"File was not opened, no need to close it.\")        \n",
    "    "
   ]
  },
  {
   "cell_type": "code",
   "execution_count": null,
   "id": "60bdfe66",
   "metadata": {},
   "outputs": [
    {
     "name": "stdout",
     "output_type": "stream",
     "text": [
      "None\n",
      "File read successfully, no exceptions occurred.\n",
      "File closed successfully.\n"
     ]
    },
    {
     "ename": "",
     "evalue": "",
     "output_type": "error",
     "traceback": [
      "\u001b[1;31mThe Kernel crashed while executing code in the current cell or a previous cell. \n",
      "\u001b[1;31mPlease review the code in the cell(s) to identify a possible cause of the failure. \n",
      "\u001b[1;31mClick <a href='https://aka.ms/vscodeJupyterKernelCrash'>here</a> for more info. \n",
      "\u001b[1;31mView Jupyter <a href='command:jupyter.viewOutput'>log</a> for further details."
     ]
    }
   ],
   "source": [
    "try:\n",
    "    file=open(\"non_existent_file.txt\", \"w\")\n",
    "    content=file.writelines([\"Hello, World!\\n\", \"This is a test file.\\n\"])\n",
    "    file.seek(0)  # Move the cursor to the beginning of the file\n",
    "    print(content)\n",
    "except FileNotFoundError as e:\n",
    "    print(f\"FileNotFoundError: {e}\")\n",
    "    print(\"The file does not exist, please check the file path.\")\n",
    "else:\n",
    "    print(\"File read successfully, no exceptions occurred.\")\n",
    "finally:\n",
    "    if 'file' in locals():\n",
    "        file.close()\n",
    "        print(\"File closed successfully.\")\n",
    "    else:\n",
    "        print(\"File was not opened, no need to close it.\")        "
   ]
  },
  {
   "cell_type": "code",
   "execution_count": null,
   "id": "7cc3f7ff",
   "metadata": {},
   "outputs": [],
   "source": []
  }
 ],
 "metadata": {
  "kernelspec": {
   "display_name": "Python 3",
   "language": "python",
   "name": "python3"
  },
  "language_info": {
   "codemirror_mode": {
    "name": "ipython",
    "version": 3
   },
   "file_extension": ".py",
   "mimetype": "text/x-python",
   "name": "python",
   "nbconvert_exporter": "python",
   "pygments_lexer": "ipython3",
   "version": "3.13.2"
  }
 },
 "nbformat": 4,
 "nbformat_minor": 5
}
