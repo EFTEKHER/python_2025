{
 "cells": [
  {
   "cell_type": "code",
   "execution_count": 1,
   "id": "b473dff6",
   "metadata": {},
   "outputs": [
    {
     "name": "stdout",
     "output_type": "stream",
     "text": [
      "2\n"
     ]
    }
   ],
   "source": [
    "print(1+1)"
   ]
  },
  {
   "cell_type": "code",
   "execution_count": null,
   "id": "5ebf2234",
   "metadata": {},
   "outputs": [],
   "source": [
    "# In Python, \"syntax\" refers to the set of rules that defines how Python code must be written and structured.\n",
    "# For example, statements must end with a newline, indentation is used to define code blocks, and colons (:) are used after control statements.\n",
    "\n",
    "# Example of Python syntax:\n",
    "if True:\n",
    "    print(\"This is valid Python syntax.\")\n",
    "else:\n",
    "    print(\"This is also valid syntax.\")"
   ]
  },
  {
   "cell_type": "code",
   "execution_count": null,
   "id": "ea43fde8",
   "metadata": {},
   "outputs": [],
   "source": [
    "# In Python, \"semantics\" refers to the meaning of the code—what the code does when it runs.\n",
    "# While syntax is about structure and rules, semantics is about behavior and logic.\n",
    "# For example, the statement below is syntactically correct, but its semantics depend on what the code actually does.\n",
    "\n",
    "x = 5\n",
    "y = 10\n",
    "z = x + y  # The semantics here: z will be assigned the value 15, which is the sum of x and y.\n",
    "print(z)"
   ]
  },
  {
   "cell_type": "code",
   "execution_count": 1,
   "id": "dfea43a7",
   "metadata": {},
   "outputs": [],
   "source": [
    "age=int(input(\"Enter your age: \"))  # This line has correct syntax, but the semantics depend on the input provided by the user."
   ]
  },
  {
   "cell_type": "code",
   "execution_count": 2,
   "id": "a1d2b23e",
   "metadata": {},
   "outputs": [
    {
     "name": "stdout",
     "output_type": "stream",
     "text": [
      "You are 30 or younger.\n"
     ]
    }
   ],
   "source": [
    "if age>30:\n",
    "    print(\"You are older than 30.\")\n",
    "# The above code is an example of Python syntax and semantics.\n",
    "else:\n",
    "    print(\"You are 30 or younger.\")"
   ]
  },
  {
   "cell_type": "code",
   "execution_count": null,
   "id": "52285aa3",
   "metadata": {},
   "outputs": [],
   "source": [
    "# Line continuation"
   ]
  },
  {
   "cell_type": "code",
   "execution_count": 3,
   "id": "d7744225",
   "metadata": {},
   "outputs": [
    {
     "name": "stdout",
     "output_type": "stream",
     "text": [
      "15\n"
     ]
    }
   ],
   "source": [
    "total=1+2+3+\\\n",
    "    4+5\n",
    "    \n",
    "print(total)  # This line has a syntax error due to incorrect indentation. The print statement should not be indented at this level.   "
   ]
  },
  {
   "cell_type": "code",
   "execution_count": 4,
   "id": "85716210",
   "metadata": {},
   "outputs": [],
   "source": [
    "# Multiple statements on one line\n",
    "X=1; Y=2; Z=3  # This is valid syntax, but it's generally better to write each statement on a new line for readability."
   ]
  },
  {
   "cell_type": "code",
   "execution_count": 6,
   "id": "a5088675",
   "metadata": {},
   "outputs": [
    {
     "name": "stdout",
     "output_type": "stream",
     "text": [
      "Efte is 32 years old.\n"
     ]
    }
   ],
   "source": [
    "##understanding the difference between syntax and semantics is crucial for writing correct and effective Python code.\n",
    "\n",
    "age =32\n",
    "name=\"Efte\"\n",
    "print(f\"{name} is {age} years old.\")  # This line uses an f-string for string formatting, which is a syntactically correct way to embed expressions inside string literals."
   ]
  },
  {
   "cell_type": "code",
   "execution_count": 7,
   "id": "d2f27e0b",
   "metadata": {},
   "outputs": [
    {
     "data": {
      "text/plain": [
       "int"
      ]
     },
     "execution_count": 7,
     "metadata": {},
     "output_type": "execute_result"
    }
   ],
   "source": [
    "type(age)  # This line checks the type of the variable 'age', which is an integer. The syntax is correct, and the semantics indicate that 'age' holds a numeric value.\n"
   ]
  },
  {
   "cell_type": "code",
   "execution_count": 8,
   "id": "f55b424b",
   "metadata": {},
   "outputs": [
    {
     "name": "stdout",
     "output_type": "stream",
     "text": [
      "<class 'int'>\n",
      "<class 'str'>\n"
     ]
    }
   ],
   "source": [
    "# type inference\n",
    "a=10\n",
    "print(type(a))\n",
    "a=\"Efte\"\n",
    "print(type(a))  # The type of 'a' changes from integer to string, demonstrating dynamic typing in Python."
   ]
  },
  {
   "cell_type": "code",
   "execution_count": 1,
   "id": "6f41b833",
   "metadata": {},
   "outputs": [
    {
     "name": "stdout",
     "output_type": "stream",
     "text": [
      "[1, 2, 3, 4, 5, 6, 7, 8, 9, 12, 2354]\n"
     ]
    }
   ],
   "source": [
    "data=[int(x) for x in input(\"Enter numbers separated by spaces: \").split()]\n",
    "print(data)  # This line takes user input, splits it into parts, converts each part to an integer, and stores them in a list called 'data'. The syntax is correct, and the semantics involve processing user input into a list of integers."
   ]
  },
  {
   "cell_type": "code",
   "execution_count": 2,
   "id": "8d6751c6",
   "metadata": {},
   "outputs": [
    {
     "name": "stdout",
     "output_type": "stream",
     "text": [
      "The result is: 276\n"
     ]
    }
   ],
   "source": [
    "num1=int(input(\"Enter first number: \"))\n",
    "num2=int(input(\"Enter second number: \"))\n",
    "operatiom=str(input(\"Enter operation (+, -, *, /): \"))\n",
    "if operatiom == \"+\":\n",
    "    print(f\"The result is: {num1 + num2}\")\n",
    "elif operatiom == \"-\":\n",
    "    print(f\"The result is: {num1 - num2}\")\n",
    "elif operatiom == \"*\":\n",
    "    print(f\"The result is: {num1 * num2}\")\n",
    "elif operatiom == \"/\":\n",
    "    if num2 != 0:\n",
    "        print(f\"The result is: {num1 / num2}\")\n",
    "    else:\n",
    "        print(\"Error: Division by zero is not allowed.\")\n",
    "else:\n",
    "    print(\"Error: Invalid operation. Please enter one of +, -, *, /.\")                    "
   ]
  },
  {
   "cell_type": "code",
   "execution_count": 3,
   "id": "2891c286",
   "metadata": {},
   "outputs": [
    {
     "name": "stdout",
     "output_type": "stream",
     "text": [
      "1\n",
      "2\n",
      "3\n",
      "4\n",
      "5\n",
      "6\n",
      "7\n",
      "8\n",
      "9\n",
      "10\n"
     ]
    }
   ],
   "source": [
    "x=1\n",
    "while(x<=10):\n",
    "    print(x)\n",
    "    x+=1  # This loop will print numbers from 1 to 10. The syntax is correct, and the semantics involve iterating through a range of numbers."
   ]
  },
  {
   "cell_type": "code",
   "execution_count": null,
   "id": "352903b3",
   "metadata": {},
   "outputs": [],
   "source": []
  }
 ],
 "metadata": {
  "kernelspec": {
   "display_name": "Python 3",
   "language": "python",
   "name": "python3"
  },
  "language_info": {
   "codemirror_mode": {
    "name": "ipython",
    "version": 3
   },
   "file_extension": ".py",
   "mimetype": "text/x-python",
   "name": "python",
   "nbconvert_exporter": "python",
   "pygments_lexer": "ipython3",
   "version": "3.13.2"
  }
 },
 "nbformat": 4,
 "nbformat_minor": 5
}
