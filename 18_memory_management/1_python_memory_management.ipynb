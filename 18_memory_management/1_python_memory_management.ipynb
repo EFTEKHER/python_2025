{
 "cells": [
  {
   "cell_type": "markdown",
   "id": "b81acb38",
   "metadata": {},
   "source": [
    "## python memory management\n",
    "#### memory management in python involves techniques and strategies to optimize memory usage, improve performance, and prevent memory leaks in Python applications. Here are some key aspects of Python memory management: \n",
    "1. **Automatic Memory Management**: Python uses an automatic memory management system that includes a built-in garbage collector. The garbage collector automatically reclaims memory occupied by objects that are no longer in use, reducing the need for manual memory management.\n",
    "2. **Reference Counting**: Python primarily uses reference counting to keep track of the number of references to an object in memory. When an object's reference count drops to zero, the memory occupied by that object is immediately deallocated.\n",
    "3. **Garbage Collection**: In addition to reference counting, Python has a cyclic garbage\n",
    "    collector that can detect and collect objects involved in reference cycles (i.e., objects that reference each other but are no longer reachable from the program).\n",
    "4. **Memory Profiling**: Tools like `memory_profiler`, `objgraph`, and `tracemalloc` can help developers analyze memory usage, identify memory leaks, and optimize memory consumption in their applications.\n",
    "5. **Efficient Data Structures**: Using efficient data structures (e.g., lists, sets, dictionaries) and libraries (e.g., NumPy, pandas) can help reduce memory overhead and improve performance when handling large datasets.\n",
    "6. **Memory Management Libraries**: Libraries like `pympler` and `guppy` provide additional tools for memory profiling and management, allowing developers to monitor memory usage and optimize their code.\n",
    "7. **Best Practices**: Following best practices such as avoiding global variables, using context managers, and minimizing the use of large objects can help improve memory management in Python applications."
   ]
  },
  {
   "cell_type": "markdown",
   "id": "94993947",
   "metadata": {},
   "source": [
    "## Refeence counting \n",
    "# Python uses reference counting as its primary memory management technique. Each object in Python has a reference count that keeps track of how many references point to that object. When the reference count drops to zero, the memory occupied by the object is immediately deallocated."
   ]
  },
  {
   "cell_type": "code",
   "execution_count": 1,
   "id": "c963ef20",
   "metadata": {},
   "outputs": [
    {
     "name": "stdout",
     "output_type": "stream",
     "text": [
      "2\n"
     ]
    }
   ],
   "source": [
    "## Reference counting\n",
    "# Python uses reference counting as its primary memory management technique. Each object in Python has a reference count that keeps track of how many references point to that object. When the reference count drops to zero, the memory occupied by the object is immediately deallocated.\n",
    "\n",
    "import sys\n",
    "a = []\n",
    "## 2 (one reference from 'a' and one from the list itself)\n",
    "print(sys.getrefcount(a))"
   ]
  },
  {
   "cell_type": "code",
   "execution_count": 2,
   "id": "718d8438",
   "metadata": {},
   "outputs": [
    {
     "name": "stdout",
     "output_type": "stream",
     "text": [
      "3\n"
     ]
    }
   ],
   "source": [
    "b=a\n",
    "## 3 (one reference from 'a', one from 'b', and one from the list itself)\n",
    "print(sys.getrefcount(a))"
   ]
  },
  {
   "cell_type": "code",
   "execution_count": 3,
   "id": "30c2e745",
   "metadata": {},
   "outputs": [
    {
     "name": "stdout",
     "output_type": "stream",
     "text": [
      "2\n"
     ]
    }
   ],
   "source": [
    "del b\n",
    "## 2 (one reference from 'a' and one from the list itself)\n",
    "print(sys.getrefcount(a))"
   ]
  },
  {
   "cell_type": "markdown",
   "id": "95d0647e",
   "metadata": {},
   "source": [
    "## Garbage Collection\n",
    "#### python includes a cyclic garbage collector that can detect and collect objects involved in reference cycles (i.e., objects that reference each other but are no longer reachable from the program). This helps to reclaim memory that would otherwise be leaked due to reference cycles."
   ]
  },
  {
   "cell_type": "code",
   "execution_count": 4,
   "id": "4ca74029",
   "metadata": {},
   "outputs": [
    {
     "data": {
      "text/plain": [
       "24"
      ]
     },
     "execution_count": 4,
     "metadata": {},
     "output_type": "execute_result"
    }
   ],
   "source": [
    "import gc\n",
    "# Force a garbage collection cycle\n",
    "gc.enable()\n",
    "gc.collect()"
   ]
  },
  {
   "cell_type": "code",
   "execution_count": 5,
   "id": "599cca62",
   "metadata": {},
   "outputs": [],
   "source": [
    "gc.disable()"
   ]
  },
  {
   "cell_type": "code",
   "execution_count": 6,
   "id": "e77987f3",
   "metadata": {},
   "outputs": [
    {
     "name": "stdout",
     "output_type": "stream",
     "text": [
      "[{'collections': 64, 'collected': 1559, 'uncollectable': 0}, {'collections': 5, 'collected': 272, 'uncollectable': 0}, {'collections': 1, 'collected': 24, 'uncollectable': 0}]\n"
     ]
    }
   ],
   "source": [
    "## get garbage collector stats\n",
    "print(gc.get_stats())"
   ]
  },
  {
   "cell_type": "code",
   "execution_count": 7,
   "id": "14a9b287",
   "metadata": {},
   "outputs": [
    {
     "name": "stdout",
     "output_type": "stream",
     "text": [
      "[]\n"
     ]
    }
   ],
   "source": [
    "print(gc.garbage)"
   ]
  },
  {
   "cell_type": "markdown",
   "id": "357df670",
   "metadata": {},
   "source": [
    "###Memory  Management Best Practices\n",
    "1. **Use Built-in Data Structures**: Prefer using Python's built-in data structures (like lists, sets, and dictionaries) as they are optimized for memory usage.\n",
    "2. **Avoid Global Variables**: Minimize the use of global variables, as they can lead to increased memory usage and make it harder to track memory leaks.\n",
    "3. **Use Generators**: For large datasets, use generators instead of lists to save memory. Generators yield items one at a time and do not store the entire dataset in memory.\n",
    "4. **Context Managers**: Use context managers (the `with` statement) to ensure that resources are properly released after use, which helps in managing memory effectively.\n",
    "5. **Profile Memory Usage**: Use memory profiling tools like `memory_profiler`, `objgraph`, or `tracemalloc` to monitor memory usage and identify potential memory leaks in your code.\n",
    "#!/usr/bin/env python3\n",
    "6. **avoid circular references by using weak references from the weakref module"
   ]
  },
  {
   "cell_type": "code",
   "execution_count": 11,
   "id": "ccf1a0c0",
   "metadata": {},
   "outputs": [],
   "source": [
    "class Node:\n",
    "    def __init__(self, name):\n",
    "        self.name=name\n",
    "        print(f\"Creating Node {self.name}\")\n",
    "    def __del__(self):\n",
    "        print(f\"Deleting Node {self.name}\")"
   ]
  },
  {
   "cell_type": "code",
   "execution_count": 19,
   "id": "1208c840",
   "metadata": {},
   "outputs": [
    {
     "name": "stdout",
     "output_type": "stream",
     "text": [
      "Creating Node obj1\n",
      "Creating Node obj2\n"
     ]
    }
   ],
   "source": [
    "obj1 = Node(\"obj1\")\n",
    "obj2 = Node(\"obj2\")\n",
    "obj1.ref = obj2\n",
    "obj2.ref = obj1"
   ]
  },
  {
   "cell_type": "code",
   "execution_count": 16,
   "id": "9bd5640d",
   "metadata": {},
   "outputs": [],
   "source": [
    "del obj1\n",
    "del obj2"
   ]
  },
  {
   "cell_type": "code",
   "execution_count": 20,
   "id": "a12c4f66",
   "metadata": {},
   "outputs": [
    {
     "name": "stdout",
     "output_type": "stream",
     "text": [
      "Deleting Node obj1\n",
      "Deleting Node obj2\n"
     ]
    },
    {
     "data": {
      "text/plain": [
       "2"
      ]
     },
     "execution_count": 20,
     "metadata": {},
     "output_type": "execute_result"
    }
   ],
   "source": [
    "## manually trigger garbage collection\n",
    "gc.collect()"
   ]
  },
  {
   "cell_type": "code",
   "execution_count": 21,
   "id": "c6eff330",
   "metadata": {},
   "outputs": [
    {
     "data": {
      "text/plain": [
       "[]"
      ]
     },
     "execution_count": 21,
     "metadata": {},
     "output_type": "execute_result"
    }
   ],
   "source": [
    "gc.garbage"
   ]
  },
  {
   "cell_type": "markdown",
   "id": "136429e7",
   "metadata": {},
   "source": [
    "## Generators for memory efficiency\n",
    "#### generators allow you to iterate over data without storing the entire dataset in memory, which is particularly useful for large datasets.to produce items one at a time and only when requested, thus saving memory."
   ]
  },
  {
   "cell_type": "code",
   "execution_count": 22,
   "id": "95a91dbb",
   "metadata": {},
   "outputs": [],
   "source": [
    "def generate_numbers(n):\n",
    "    for i in range(n):\n",
    "        yield i"
   ]
  },
  {
   "cell_type": "code",
   "execution_count": 24,
   "id": "e7f19cc4",
   "metadata": {},
   "outputs": [
    {
     "name": "stdout",
     "output_type": "stream",
     "text": [
      "0\n",
      "1\n",
      "2\n",
      "3\n",
      "4\n",
      "5\n",
      "6\n",
      "7\n",
      "8\n",
      "9\n",
      "10\n"
     ]
    }
   ],
   "source": [
    "for num in generate_numbers(1000000):\n",
    "    print(num)\n",
    "    if num>=10:\n",
    "        break"
   ]
  },
  {
   "cell_type": "code",
   "execution_count": 29,
   "id": "207dfdce",
   "metadata": {},
   "outputs": [],
   "source": [
    "## profiling memory usage  with tracemalloc\n",
    "import tracemalloc\n",
    "def createlist():\n",
    "    return [i for i in range(100000)]\n",
    "def main():\n",
    "    tracemalloc.start()\n",
    "    snapshot1 = tracemalloc.take_snapshot()\n",
    "    lst = createlist()\n",
    "    snapshot2 = tracemalloc.take_snapshot()\n",
    "    top_stats = snapshot2.compare_to(snapshot1, 'lineno')\n",
    "    print(\"[ Top 10 differences ]\")\n",
    "    for stat in top_stats[::]:\n",
    "        print(stat)\n",
    "    print(\"[ Memory Usage ]\")\n",
    "    print(tracemalloc.get_traced_memory())\n",
    "    tracemalloc.stop()"
   ]
  },
  {
   "cell_type": "code",
   "execution_count": 30,
   "id": "c67b1015",
   "metadata": {},
   "outputs": [
    {
     "name": "stdout",
     "output_type": "stream",
     "text": [
      "[ Top 10 differences ]\n",
      "C:\\Users\\efte2\\AppData\\Local\\Temp\\ipykernel_15276\\3154395135.py:4: size=3899 KiB (+3899 KiB), count=99744 (+99744), average=40 B\n",
      "c:\\Python313\\Lib\\tracemalloc.py:560: size=312 B (+312 B), count=1 (+1), average=312 B\n",
      "c:\\Python313\\Lib\\tracemalloc.py:423: size=312 B (+312 B), count=1 (+1), average=312 B\n",
      "C:\\Users\\efte2\\AppData\\Roaming\\Python\\Python313\\site-packages\\ipykernel\\iostream.py:287: size=208 B (+208 B), count=3 (+3), average=69 B\n",
      "C:\\Users\\efte2\\AppData\\Roaming\\Python\\Python313\\site-packages\\ipykernel\\iostream.py:276: size=208 B (+208 B), count=3 (+3), average=69 B\n",
      "[ Memory Usage ]\n",
      "(3997373, 3998614)\n"
     ]
    }
   ],
   "source": [
    "main()"
   ]
  },
  {
   "cell_type": "code",
   "execution_count": null,
   "id": "834c4ef2",
   "metadata": {},
   "outputs": [],
   "source": [
    "top"
   ]
  }
 ],
 "metadata": {
  "kernelspec": {
   "display_name": "Python 3",
   "language": "python",
   "name": "python3"
  },
  "language_info": {
   "codemirror_mode": {
    "name": "ipython",
    "version": 3
   },
   "file_extension": ".py",
   "mimetype": "text/x-python",
   "name": "python",
   "nbconvert_exporter": "python",
   "pygments_lexer": "ipython3",
   "version": "3.13.2"
  }
 },
 "nbformat": 4,
 "nbformat_minor": 5
}
