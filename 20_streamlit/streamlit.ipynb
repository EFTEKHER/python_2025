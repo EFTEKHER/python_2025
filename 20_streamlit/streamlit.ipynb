{
 "cells": [
  {
   "cell_type": "markdown",
   "id": "8c11eb49",
   "metadata": {},
   "source": [
    "## Introduction to Streamlit\n"
   ]
  },
  {
   "cell_type": "code",
   "execution_count": null,
   "id": "7e2bbe81",
   "metadata": {},
   "outputs": [],
   "source": [
    "#### streamlit is an open-source app framework for Machine Learning and Data Science teams.it allows you to create beautiful web apps in minutes.for more information visit https://streamlit.io/"
   ]
  },
  {
   "cell_type": "code",
   "execution_count": null,
   "id": "1e767903",
   "metadata": {},
   "outputs": [],
   "source": []
  }
 ],
 "metadata": {
  "kernelspec": {
   "display_name": "Python 3",
   "language": "python",
   "name": "python3"
  },
  "language_info": {
   "name": "python",
   "version": "3.13.2"
  }
 },
 "nbformat": 4,
 "nbformat_minor": 5
}
