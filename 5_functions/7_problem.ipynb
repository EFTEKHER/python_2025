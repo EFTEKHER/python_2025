{
 "cells": [
  {
   "cell_type": "code",
   "execution_count": 1,
   "id": "820a09a9",
   "metadata": {},
   "outputs": [],
   "source": [
    "import math"
   ]
  },
  {
   "cell_type": "code",
   "execution_count": 4,
   "id": "c1eda629",
   "metadata": {},
   "outputs": [],
   "source": [
    "def lift(n,capacity):\n",
    "    n=int(n)\n",
    "    capacity=int(capacity)\n",
    "    x=n/capacity\n",
    "    \n",
    "    if x.is_integer():\n",
    "        return int(x)\n",
    "    else:\n",
    "        return int(x)+1\n",
    "    "
   ]
  },
  {
   "cell_type": "code",
   "execution_count": 6,
   "id": "24bf6566",
   "metadata": {},
   "outputs": [
    {
     "name": "stdout",
     "output_type": "stream",
     "text": [
      "The number of trips required is: 2\n"
     ]
    }
   ],
   "source": [
    "\n",
    "\n",
    "if __name__ == \"__main__\":\n",
    "    n = input(\"Enter the number of people: \")\n",
    "    capacity = input(\"Enter the lift capacity: \")\n",
    "    print(f\"The number of trips required is: {lift(n, capacity)}\")\n",
    "    "
   ]
  },
  {
   "cell_type": "code",
   "execution_count": 7,
   "id": "ab2aa826",
   "metadata": {},
   "outputs": [],
   "source": [
    "n= 16//3"
   ]
  },
  {
   "cell_type": "code",
   "execution_count": 8,
   "id": "b64147d0",
   "metadata": {},
   "outputs": [
    {
     "data": {
      "text/plain": [
       "5"
      ]
     },
     "execution_count": 8,
     "metadata": {},
     "output_type": "execute_result"
    }
   ],
   "source": [
    "n"
   ]
  },
  {
   "cell_type": "code",
   "execution_count": null,
   "id": "db1dad4e",
   "metadata": {},
   "outputs": [],
   "source": [
    "def sum(lis):\n",
    "    s=0\n",
    "    for i in lis:\n",
    "        s+=i\n",
    "    return s"
   ]
  },
  {
   "cell_type": "code",
   "execution_count": 14,
   "id": "22bd8921",
   "metadata": {},
   "outputs": [],
   "source": [
    "def se(li):\n",
    "    s= set(li)\n",
    "    x=list(s)\n",
    "    return x"
   ]
  },
  {
   "cell_type": "code",
   "execution_count": null,
   "id": "734eb5e7",
   "metadata": {},
   "outputs": [],
   "source": [
    "def largest(lis):\n",
    "    max = lis[0]\n",
    "    for i in lis:\n",
    "        if i > max:\n",
    "            max = i\n",
    "    return max"
   ]
  },
  {
   "cell_type": "code",
   "execution_count": 16,
   "id": "31f94cae",
   "metadata": {},
   "outputs": [],
   "source": [
    "def check(li):\n",
    "    x=[]\n",
    "    for i in li:\n",
    "        if i not in x:\n",
    "            x.append(i)\n",
    "            \n",
    "    if len(x) == len(li):\n",
    "        return True\n",
    "    else:\n",
    "        return False        "
   ]
  },
  {
   "cell_type": "code",
   "execution_count": 18,
   "id": "9aef07e0",
   "metadata": {},
   "outputs": [
    {
     "name": "stdout",
     "output_type": "stream",
     "text": [
      "False\n"
     ]
    }
   ],
   "source": [
    "if __name__ == \"__main__\":\n",
    "    l1=[ int(x) for x in input(\"Enter list numbers by Space\").split()]\n",
    "    print(check(l1))# Example usage"
   ]
  },
  {
   "cell_type": "code",
   "execution_count": null,
   "id": "22fec76e",
   "metadata": {},
   "outputs": [],
   "source": []
  },
  {
   "cell_type": "code",
   "execution_count": null,
   "id": "985f6e37",
   "metadata": {},
   "outputs": [],
   "source": []
  }
 ],
 "metadata": {
  "kernelspec": {
   "display_name": "Python 3",
   "language": "python",
   "name": "python3"
  },
  "language_info": {
   "codemirror_mode": {
    "name": "ipython",
    "version": 3
   },
   "file_extension": ".py",
   "mimetype": "text/x-python",
   "name": "python",
   "nbconvert_exporter": "python",
   "pygments_lexer": "ipython3",
   "version": "3.13.2"
  }
 },
 "nbformat": 4,
 "nbformat_minor": 5
}
