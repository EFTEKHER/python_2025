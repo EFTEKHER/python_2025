{
 "cells": [
  {
   "cell_type": "code",
   "execution_count": 1,
   "id": "8a9e848c",
   "metadata": {},
   "outputs": [],
   "source": [
    "def convert_temp(temp,unit):\n",
    "    if unit=='celsius':\n",
    "        return temp * 9/5 + 32\n",
    "    elif unit=='fahrenheit':\n",
    "        return (temp - 32) * 5/9\n",
    "    else:\n",
    "        return None"
   ]
  },
  {
   "cell_type": "code",
   "execution_count": 2,
   "id": "9739049e",
   "metadata": {},
   "outputs": [
    {
     "data": {
      "text/plain": [
       "212.0"
      ]
     },
     "execution_count": 2,
     "metadata": {},
     "output_type": "execute_result"
    }
   ],
   "source": [
    "convert_temp(100, 'celsius')  # Should return 212.0"
   ]
  },
  {
   "cell_type": "code",
   "execution_count": 3,
   "id": "aa62345b",
   "metadata": {},
   "outputs": [],
   "source": [
    "def check_password_is_strong(password):\n",
    "    if(len(password) < 8):\n",
    "        return False\n",
    "    if not any(char.isdigit() for char in password):\n",
    "        return False\n",
    "    if not any(char.islower() for char in password):\n",
    "        return False\n",
    "    if not any(char.isupper() for char in password):\n",
    "        return False\n",
    "    if not any(char in '!@#$%^&*()-_=+[]{}|;:,.<>?/' for char in password):\n",
    "        return False\n",
    "    return True"
   ]
  },
  {
   "cell_type": "code",
   "execution_count": 4,
   "id": "f12892f9",
   "metadata": {},
   "outputs": [
    {
     "name": "stdout",
     "output_type": "stream",
     "text": [
      "Your password is strong.\n"
     ]
    }
   ],
   "source": [
    "PASSWORD=input(\"Enter your password: \")\n",
    "if check_password_is_strong(PASSWORD):\n",
    "    print(\"Your password is strong.\")\n",
    "else:\n",
    "    print(\"Your password is weak. Please try again.\")"
   ]
  },
  {
   "cell_type": "code",
   "execution_count": 12,
   "id": "c4ad9f08",
   "metadata": {},
   "outputs": [],
   "source": [
    "def calculate_total_price(cart):\n",
    "    total = 0\n",
    "    for item in cart:\n",
    "        total += item['price'] * item['quantity']\n",
    "    return total\n",
    "\n",
    "\n",
    "\n",
    "\n"
   ]
  },
  {
   "cell_type": "code",
   "execution_count": 13,
   "id": "ac8ce637",
   "metadata": {},
   "outputs": [],
   "source": [
    "## Example for cart data\n",
    "\n",
    "cart = [\n",
    "    {\"item\": \"apple\", \"price\": 1.0, \"quantity\": 3},\n",
    "    {\"item\": \"banana\", \"price\": 0.5, \"quantity\": 5},\n",
    "    {\"item\": \"orange\", \"price\": 0.75, \"quantity\": 2}\n",
    "]"
   ]
  },
  {
   "cell_type": "code",
   "execution_count": 14,
   "id": "564917a1",
   "metadata": {},
   "outputs": [
    {
     "name": "stdout",
     "output_type": "stream",
     "text": [
      "Total price of items in the cart: $7.00\n"
     ]
    }
   ],
   "source": [
    "cart_total = calculate_total_price(cart)\n",
    "print(f\"Total price of items in the cart: ${cart_total:.2f}\")"
   ]
  },
  {
   "cell_type": "code",
   "execution_count": 15,
   "id": "9a237540",
   "metadata": {},
   "outputs": [],
   "source": [
    "def add_to_cart(cart, item, price, quantity):\n",
    "    cart.append({\"item\": item, \"price\": price, \"quantity\": quantity})\n",
    "    return cart"
   ]
  },
  {
   "cell_type": "code",
   "execution_count": 16,
   "id": "4292a361",
   "metadata": {},
   "outputs": [],
   "source": [
    "item,price,quantity=input(\"Enter item, price and quantity: \").split()\n",
    "cart = add_to_cart(cart, item, float(price), int(quantity))"
   ]
  },
  {
   "cell_type": "code",
   "execution_count": 17,
   "id": "07479102",
   "metadata": {},
   "outputs": [
    {
     "data": {
      "text/plain": [
       "[{'item': 'apple', 'price': 1.0, 'quantity': 3},\n",
       " {'item': 'banana', 'price': 0.5, 'quantity': 5},\n",
       " {'item': 'orange', 'price': 0.75, 'quantity': 2},\n",
       " {'item': 'banana', 'price': 5.0, 'quantity': 10}]"
      ]
     },
     "execution_count": 17,
     "metadata": {},
     "output_type": "execute_result"
    }
   ],
   "source": [
    "cart"
   ]
  },
  {
   "cell_type": "code",
   "execution_count": 19,
   "id": "a3256133",
   "metadata": {},
   "outputs": [],
   "source": [
    "x=\"efte\"\n",
    "y=x[::-1]\n",
    "\n"
   ]
  },
  {
   "cell_type": "code",
   "execution_count": 20,
   "id": "e59347d6",
   "metadata": {},
   "outputs": [
    {
     "data": {
      "text/plain": [
       "'etfe'"
      ]
     },
     "execution_count": 20,
     "metadata": {},
     "output_type": "execute_result"
    }
   ],
   "source": [
    "y"
   ]
  },
  {
   "cell_type": "code",
   "execution_count": 21,
   "id": "39dd71fc",
   "metadata": {},
   "outputs": [],
   "source": [
    "def is_palindrome(s):\n",
    "    s=s.lower().replace(\" \", \"\")\n",
    "    return s == s[::-1]"
   ]
  },
  {
   "cell_type": "code",
   "execution_count": 22,
   "id": "605f6c0b",
   "metadata": {},
   "outputs": [
    {
     "name": "stdout",
     "output_type": "stream",
     "text": [
      "True\n",
      "False\n"
     ]
    }
   ],
   "source": [
    "print(is_palindrome(\"A man a plan a canal Panama\"))  # Should return True\n",
    "print(is_palindrome(\"Hello\"))  # Should return False"
   ]
  },
  {
   "cell_type": "code",
   "execution_count": 25,
   "id": "624d8a58",
   "metadata": {},
   "outputs": [],
   "source": [
    "def x(n):\n",
    "    n=int(n)\n",
    "    if n==0:\n",
    "        return 1\n",
    "    else:\n",
    "        return n * x(n-1)"
   ]
  },
  {
   "cell_type": "code",
   "execution_count": 26,
   "id": "3e290d53",
   "metadata": {},
   "outputs": [
    {
     "name": "stdout",
     "output_type": "stream",
     "text": [
      "120\n"
     ]
    }
   ],
   "source": [
    "print(x(5))  # Should return 120"
   ]
  },
  {
   "cell_type": "markdown",
   "id": "592bd2ab",
   "metadata": {},
   "source": [
    "## \n",
    "\n",
    "def read(f)"
   ]
  },
  {
   "cell_type": "code",
   "execution_count": 55,
   "id": "83001829",
   "metadata": {},
   "outputs": [],
   "source": [
    "words={}\n",
    "def read(filepath):\n",
    "   \n",
    "    with open(filepath, 'r') as file:\n",
    "        for line in file:\n",
    "            line = line.lower().split()\n",
    "            # for word in line:\n",
    "            #     words.append(word)\n",
    "            for word in line:\n",
    "                word = word.strip('.,!?\";:()[]{}')\n",
    "                if word in words:\n",
    "                    words[word] += 1\n",
    "                else:\n",
    "                    words[word] = 1"
   ]
  },
  {
   "cell_type": "code",
   "execution_count": 52,
   "id": "536f8c6f",
   "metadata": {},
   "outputs": [],
   "source": [
    "read('./sample.txt')"
   ]
  },
  {
   "cell_type": "code",
   "execution_count": 53,
   "id": "9b599e6a",
   "metadata": {},
   "outputs": [
    {
     "data": {
      "text/plain": [
       "{'hello': 2,\n",
       " 'world': 2,\n",
       " 'how': 1,\n",
       " 'are': 1,\n",
       " 'you': 1,\n",
       " 'my': 1,\n",
       " 'name': 1,\n",
       " 'is': 1,\n",
       " 'eftekher': 1,\n",
       " 'ali': 1,\n",
       " 'efte': 1}"
      ]
     },
     "execution_count": 53,
     "metadata": {},
     "output_type": "execute_result"
    }
   ],
   "source": [
    "words"
   ]
  },
  {
   "cell_type": "code",
   "execution_count": 54,
   "id": "9f73f75e",
   "metadata": {},
   "outputs": [
    {
     "data": {
      "text/plain": [
       "2"
      ]
     },
     "execution_count": 54,
     "metadata": {},
     "output_type": "execute_result"
    }
   ],
   "source": [
    "words.get('hello')"
   ]
  },
  {
   "cell_type": "code",
   "execution_count": 56,
   "id": "19049078",
   "metadata": {},
   "outputs": [],
   "source": [
    "## validate email:\n",
    "import re\n",
    "def validate_email(email):\n",
    "    pattern = r'^[a-zA-Z0-9._%+-]+@[a-zA-Z0-9.-]+\\.[a-zA-Z]{2,}$'\n",
    "    return re.match(pattern, email) is not None"
   ]
  },
  {
   "cell_type": "code",
   "execution_count": 57,
   "id": "856f1d65",
   "metadata": {},
   "outputs": [
    {
     "data": {
      "text/plain": [
       "True"
      ]
     },
     "execution_count": 57,
     "metadata": {},
     "output_type": "execute_result"
    }
   ],
   "source": [
    "validate_email('eftekherali2000@gmail.com')"
   ]
  },
  {
   "cell_type": "code",
   "execution_count": 7,
   "id": "43ea9420",
   "metadata": {},
   "outputs": [],
   "source": [
    "import re\n",
    "def validate_emails(email):\n",
    "    pattern=r'^[a-zA-Z0-9.%+-]+@[a-zA-Z0-9.-]+\\.[a-zA-Z]{2,}$'\n",
    "    return  re.match(pattern,email) is not None"
   ]
  },
  {
   "cell_type": "code",
   "execution_count": 8,
   "id": "95e462e2",
   "metadata": {},
   "outputs": [
    {
     "data": {
      "text/plain": [
       "True"
      ]
     },
     "execution_count": 8,
     "metadata": {},
     "output_type": "execute_result"
    }
   ],
   "source": [
    "validate_emails('eftekherali2000@gmail.com')"
   ]
  },
  {
   "cell_type": "code",
   "execution_count": 11,
   "id": "14295e83",
   "metadata": {},
   "outputs": [],
   "source": [
    "def stronggg_password(password):\n",
    "    if len(password)<8:\n",
    "        return  False\n",
    "    if not any(char.isdigit()   for char in password):\n",
    "        return False\n",
    "    if not any (char.islower() for char in password):\n",
    "        return False\n",
    "    if not any (char.islower() for char in password):\n",
    "        return False\n",
    "    if not any  (char in '+-()?><,{]{]/$|#@!' for char in password):\n",
    "        return False\n",
    "    else:\n",
    "        return True\n",
    "    "
   ]
  },
  {
   "cell_type": "code",
   "execution_count": 16,
   "id": "1b26aa24",
   "metadata": {},
   "outputs": [
    {
     "data": {
      "text/plain": [
       "True"
      ]
     },
     "execution_count": 16,
     "metadata": {},
     "output_type": "execute_result"
    }
   ],
   "source": [
    "stronggg_password('Efte1234@#')"
   ]
  },
  {
   "cell_type": "code",
   "execution_count": null,
   "id": "8af089ae",
   "metadata": {},
   "outputs": [],
   "source": []
  }
 ],
 "metadata": {
  "kernelspec": {
   "display_name": "Python 3",
   "language": "python",
   "name": "python3"
  },
  "language_info": {
   "codemirror_mode": {
    "name": "ipython",
    "version": 3
   },
   "file_extension": ".py",
   "mimetype": "text/x-python",
   "name": "python",
   "nbconvert_exporter": "python",
   "pygments_lexer": "ipython3",
   "version": "3.13.2"
  }
 },
 "nbformat": 4,
 "nbformat_minor": 5
}
