{
 "cells": [
  {
   "cell_type": "markdown",
   "id": "8aa064cd",
   "metadata": {},
   "source": [
    "## lamba functions are anonynomus function define using lambda keyword"
   ]
  },
  {
   "cell_type": "code",
   "execution_count": null,
   "id": "7589a4cf",
   "metadata": {},
   "outputs": [],
   "source": []
  }
 ],
 "metadata": {
  "language_info": {
   "name": "python"
  }
 },
 "nbformat": 4,
 "nbformat_minor": 5
}
