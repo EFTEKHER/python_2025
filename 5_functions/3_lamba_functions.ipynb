{
 "cells": [
  {
   "cell_type": "markdown",
   "id": "8aa064cd",
   "metadata": {},
   "source": [
    "## lamba functions are anonynomus function define using lambda keyword"
   ]
  },
  {
   "cell_type": "markdown",
   "id": "7d4161aa",
   "metadata": {},
   "source": [
    "- anonymous functions define using the lambda keyword . They can have any number of arguments but only one expression"
   ]
  },
  {
   "cell_type": "code",
   "execution_count": 2,
   "id": "7589a4cf",
   "metadata": {},
   "outputs": [],
   "source": [
    "#syntax\n",
    "# lambda arguments: expression"
   ]
  },
  {
   "cell_type": "code",
   "execution_count": 3,
   "id": "a5b5fcd3",
   "metadata": {},
   "outputs": [
    {
     "name": "stdout",
     "output_type": "stream",
     "text": [
      "6\n"
     ]
    }
   ],
   "source": [
    "x=lambda a,b,c: a+b+c\n",
    "print(x(1,2,3))"
   ]
  },
  {
   "cell_type": "code",
   "execution_count": null,
   "id": "5941788e",
   "metadata": {},
   "outputs": [],
   "source": []
  },
  {
   "cell_type": "code",
   "execution_count": 4,
   "id": "df11ee8a",
   "metadata": {},
   "outputs": [],
   "source": [
    "eve=lambda x:x%2==0"
   ]
  },
  {
   "cell_type": "code",
   "execution_count": 5,
   "id": "ae331485",
   "metadata": {},
   "outputs": [
    {
     "data": {
      "text/plain": [
       "False"
      ]
     },
     "execution_count": 5,
     "metadata": {},
     "output_type": "execute_result"
    }
   ],
   "source": [
    "eve(3)"
   ]
  },
  {
   "cell_type": "code",
   "execution_count": 6,
   "id": "4006dfd1",
   "metadata": {},
   "outputs": [],
   "source": [
    "## map () - applies a function to all items in an input list\n",
    "# syntax: map(function, iterable)\n",
    "#map uses lazy loading, so it does not compute the results until you iterate over it\n",
    "numbers = [1, 2, 3, 4, 5]\n",
    "squared_numbers=map(lambda x:x**2, numbers)"
   ]
  },
  {
   "cell_type": "code",
   "execution_count": 7,
   "id": "bac756ec",
   "metadata": {},
   "outputs": [
    {
     "data": {
      "text/plain": [
       "[1, 4, 9, 16, 25]"
      ]
     },
     "execution_count": 7,
     "metadata": {},
     "output_type": "execute_result"
    }
   ],
   "source": [
    "list(map(lambda x:x**2, numbers))  # Convert map object to list to see results"
   ]
  },
  {
   "cell_type": "code",
   "execution_count": 2,
   "id": "94a1168a",
   "metadata": {},
   "outputs": [],
   "source": [
    "numbers = [1, 2, 3, 4, 5]\n",
    "\n",
    "\n",
    "def is_even(x):\n",
    "    return x % 2 == 0"
   ]
  },
  {
   "cell_type": "code",
   "execution_count": 4,
   "id": "dc802a6b",
   "metadata": {},
   "outputs": [],
   "source": [
    " # Apply is_even function to each element in numbers\n",
    "quarenumbers=map(lambda x:x**2, numbers)  # Convert map object to list to see results"
   ]
  },
  {
   "cell_type": "code",
   "execution_count": 6,
   "id": "2294e8d8",
   "metadata": {},
   "outputs": [],
   "source": [
    "quarenumbers=list(quarenumbers)  # Convert map object to list to see results"
   ]
  },
  {
   "cell_type": "code",
   "execution_count": 8,
   "id": "fc4ee268",
   "metadata": {},
   "outputs": [
    {
     "data": {
      "text/plain": [
       "[1, 4, 9, 16, 25]"
      ]
     },
     "execution_count": 8,
     "metadata": {},
     "output_type": "execute_result"
    }
   ],
   "source": [
    "quarenumbers"
   ]
  },
  {
   "cell_type": "code",
   "execution_count": null,
   "id": "aa2fbc64",
   "metadata": {},
   "outputs": [
    {
     "ename": "SyntaxError",
     "evalue": "invalid syntax (797287335.py, line 1)",
     "output_type": "error",
     "traceback": [
      "  \u001b[36mCell\u001b[39m\u001b[36m \u001b[39m\u001b[32mIn[9]\u001b[39m\u001b[32m, line 1\u001b[39m\n\u001b[31m    \u001b[39m\u001b[31mConvert map object to list to see results\u001b[39m\n            ^\n\u001b[31mSyntaxError\u001b[39m\u001b[31m:\u001b[39m invalid syntax\n"
     ]
    }
   ],
   "source": []
  },
  {
   "cell_type": "code",
   "execution_count": 11,
   "id": "cf372583",
   "metadata": {},
   "outputs": [],
   "source": [
    "# Output: [1, 4, 9, 16, 25]"
   ]
  },
  {
   "cell_type": "markdown",
   "id": "4a5101c8",
   "metadata": {},
   "source": [
    "## The map() function applies a given function to all items in an input list (or any other iterable) and returns a map object(an iterator) . This is partcularly useful for transforming data in a list comprehensively"
   ]
  },
  {
   "cell_type": "code",
   "execution_count": 14,
   "id": "8a9fa5d6",
   "metadata": {},
   "outputs": [
    {
     "name": "stdout",
     "output_type": "stream",
     "text": [
      "[7, 9, 11, 13, 15]\n"
     ]
    }
   ],
   "source": [
    "numbers1= [1, 2, 3, 4, 5]\n",
    "numbers2= [6, 7, 8, 9, 10]\n",
    "\n",
    "added_numbers = map(lambda x, y: x + y, numbers1, numbers2)\n",
    "print(list(added_numbers))  # Output: [7, 9, 11,"
   ]
  },
  {
   "cell_type": "code",
   "execution_count": 18,
   "id": "8360cb49",
   "metadata": {},
   "outputs": [],
   "source": [
    "numbers_of_strings = ['1', '2', '3', '4', '5']\n",
    "converted_numbers = list(map(int, numbers_of_strings))"
   ]
  },
  {
   "cell_type": "code",
   "execution_count": 19,
   "id": "e22d0df1",
   "metadata": {},
   "outputs": [
    {
     "data": {
      "text/plain": [
       "[1, 2, 3, 4, 5]"
      ]
     },
     "execution_count": 19,
     "metadata": {},
     "output_type": "execute_result"
    }
   ],
   "source": [
    "converted_numbers"
   ]
  },
  {
   "cell_type": "code",
   "execution_count": 20,
   "id": "d3cb9b41",
   "metadata": {},
   "outputs": [
    {
     "name": "stdout",
     "output_type": "stream",
     "text": [
      "[1, 2, 3, 4, 5]\n"
     ]
    }
   ],
   "source": [
    "print(converted_numbers)"
   ]
  },
  {
   "cell_type": "code",
   "execution_count": 21,
   "id": "74f616c1",
   "metadata": {},
   "outputs": [],
   "source": [
    "words=['apple', 'banana', 'cherry'\n",
    ", 'date', 'elderberry']\n",
    "\n",
    "converted_words = list(map(lambda x: x.upper(), words))"
   ]
  },
  {
   "cell_type": "code",
   "execution_count": 23,
   "id": "50ca5368",
   "metadata": {},
   "outputs": [
    {
     "name": "stdout",
     "output_type": "stream",
     "text": [
      "['APPLE', 'BANANA', 'CHERRY', 'DATE', 'ELDERBERRY']\n"
     ]
    }
   ],
   "source": [
    "print(converted_words)"
   ]
  },
  {
   "cell_type": "code",
   "execution_count": 24,
   "id": "c7d0e73d",
   "metadata": {},
   "outputs": [],
   "source": [
    "def number (x):\n",
    "    return x**2\n",
    "numbers = [1, 2, 3, 4, 5]\n",
    "squared_numbers = map(number, numbers)  # Convert map object to list to see results"
   ]
  },
  {
   "cell_type": "code",
   "execution_count": null,
   "id": "2d0f1a08",
   "metadata": {},
   "outputs": [
    {
     "name": "stdout",
     "output_type": "stream",
     "text": [
      "[1, 4, 9, 16, 25]\n"
     ]
    }
   ],
   "source": [
    "eft=[1, 2, 3, 4, 5,7, 8, 9, 10, 11, 12, 13, 14, 15]\n",
    " # Output: [1, 4, 9,"
   ]
  },
  {
   "cell_type": "code",
   "execution_count": 26,
   "id": "6fe53711",
   "metadata": {},
   "outputs": [],
   "source": [
    "def num(x):\n",
    "    if x%2==0:\n",
    "        return True\n",
    "    else:\n",
    "        return False"
   ]
  },
  {
   "cell_type": "code",
   "execution_count": 27,
   "id": "febc48b0",
   "metadata": {},
   "outputs": [
    {
     "name": "stdout",
     "output_type": "stream",
     "text": [
      "[False, True, False, True, False, False, True, False, True, False, True, False, True, False]\n"
     ]
    }
   ],
   "source": [
    "numbers=map(num, eft)  # Convert map object to list to see results\n",
    "print(list(numbers))  # Output: [True, False, True, False, True,"
   ]
  },
  {
   "cell_type": "code",
   "execution_count": 28,
   "id": "ec039c3c",
   "metadata": {},
   "outputs": [],
   "source": [
    "def get_name(person):\n",
    "    return person['name']"
   ]
  },
  {
   "cell_type": "code",
   "execution_count": 29,
   "id": "bdcc4280",
   "metadata": {},
   "outputs": [],
   "source": [
    "people=[\n",
    "    {'name': 'Alice', 'age': 30},\n",
    "    {'name': 'Bob', 'age': 25},\n",
    "    {'name': 'Charlie', 'age': 35}\n",
    ", {'name': 'David', 'age': 28}\n",
    ", {'name': 'Eve', 'age': 22}\n",
    "]"
   ]
  },
  {
   "cell_type": "code",
   "execution_count": 31,
   "id": "378fbada",
   "metadata": {},
   "outputs": [
    {
     "data": {
      "text/plain": [
       "['Alice', 'Bob', 'Charlie', 'David', 'Eve']"
      ]
     },
     "execution_count": 31,
     "metadata": {},
     "output_type": "execute_result"
    }
   ],
   "source": [
    "list(map(get_name,people ))  # Convert map object to list to see results"
   ]
  },
  {
   "cell_type": "code",
   "execution_count": 12,
   "id": "6c333c38",
   "metadata": {},
   "outputs": [],
   "source": [
    "cart=[\n",
    "    {\"item\": \"apple\", \"price\": 100.0, \"quantity\": 3},\n",
    "    {\"item\": \"banana\", \"price\": 0.95, \"quantity\": 5},\n",
    "    {\"item\": \"orange\", \"price\": 0.85, \"quantity\": 2}]"
   ]
  },
  {
   "cell_type": "code",
   "execution_count": 13,
   "id": "a28f0c76",
   "metadata": {},
   "outputs": [],
   "source": [
    "def item_price(item):\n",
    "    return item['price'] * item['quantity']"
   ]
  },
  {
   "cell_type": "code",
   "execution_count": 14,
   "id": "61b22432",
   "metadata": {},
   "outputs": [],
   "source": [
    "item_cart=list(map(item_price, cart))  # Convert map object to list to see results"
   ]
  },
  {
   "cell_type": "code",
   "execution_count": 15,
   "id": "b4382d45",
   "metadata": {},
   "outputs": [
    {
     "data": {
      "text/plain": [
       "[300.0, 4.75, 1.7]"
      ]
     },
     "execution_count": 15,
     "metadata": {},
     "output_type": "execute_result"
    }
   ],
   "source": [
    "item_cart"
   ]
  },
  {
   "cell_type": "code",
   "execution_count": 32,
   "id": "2db106e2",
   "metadata": {},
   "outputs": [],
   "source": [
    "def read(file):\n",
    "    with open(file, 'r') as f:\n",
    "        lines = [line.strip() for line in f.readlines()]\n",
    "    return lines\n"
   ]
  },
  {
   "cell_type": "code",
   "execution_count": null,
   "id": "91e538d3",
   "metadata": {},
   "outputs": [],
   "source": []
  },
  {
   "cell_type": "code",
   "execution_count": 33,
   "id": "dc7d739d",
   "metadata": {},
   "outputs": [
    {
     "data": {
      "text/plain": [
       "['Hello world how are you', 'My name is Eftekher ali Efte', 'hello world']"
      ]
     },
     "execution_count": 33,
     "metadata": {},
     "output_type": "execute_result"
    }
   ],
   "source": [
    "read('./sample.txt')"
   ]
  },
  {
   "cell_type": "code",
   "execution_count": null,
   "id": "1d73ecd4",
   "metadata": {},
   "outputs": [],
   "source": []
  }
 ],
 "metadata": {
  "kernelspec": {
   "display_name": "Python 3",
   "language": "python",
   "name": "python3"
  },
  "language_info": {
   "codemirror_mode": {
    "name": "ipython",
    "version": 3
   },
   "file_extension": ".py",
   "mimetype": "text/x-python",
   "name": "python",
   "nbconvert_exporter": "python",
   "pygments_lexer": "ipython3",
   "version": "3.13.2"
  }
 },
 "nbformat": 4,
 "nbformat_minor": 5
}
