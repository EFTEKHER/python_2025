{
 "cells": [
  {
   "cell_type": "markdown",
   "id": "ee4cbe41",
   "metadata": {},
   "source": [
    "## Functions\n",
    "- Introduction to functions\n",
    "- Defining functions\n",
    "- calling functions\n",
    "- Functions parameters\n",
    "- Default parameters\n",
    "- Variable-length arguments\n",
    "- Return statement\n"
   ]
  },
  {
   "cell_type": "markdown",
   "id": "099ad28f",
   "metadata": {},
   "source": [
    "## Introduction to functions\n",
    "\n",
    "Definition:\n",
    "- A function is a block of code that performs specific task. functions help in organizing code,reusing code and imporving readability"
   ]
  },
  {
   "cell_type": "code",
   "execution_count": 1,
   "id": "001f40c6",
   "metadata": {},
   "outputs": [],
   "source": [
    "#positional arguments\n",
    "def print_numbers(*efte):\n",
    "    for i in efte:\n",
    "        print(i,end=\",\")"
   ]
  },
  {
   "cell_type": "code",
   "execution_count": 2,
   "id": "1dd7f1e4",
   "metadata": {},
   "outputs": [
    {
     "name": "stdout",
     "output_type": "stream",
     "text": [
      "1,2,3,4,5,6,"
     ]
    }
   ],
   "source": [
    "print_numbers(1,2,3,4,5,6)"
   ]
  },
  {
   "cell_type": "code",
   "execution_count": 3,
   "id": "772ccb93",
   "metadata": {},
   "outputs": [],
   "source": [
    "#keyword arguments\n",
    "def print_details(**kwargs):\n",
    "    for key, value in kwargs.items():\n",
    "        print(f\"{key} : {value}\")"
   ]
  },
  {
   "cell_type": "code",
   "execution_count": 4,
   "id": "442f6631",
   "metadata": {},
   "outputs": [
    {
     "name": "stdout",
     "output_type": "stream",
     "text": [
      "name : Efte\n",
      "age : 32\n",
      "country : Bangladesh\n"
     ]
    }
   ],
   "source": [
    "print_details(name=\"Efte\",age=32,country=\"Bangladesh\")"
   ]
  },
  {
   "cell_type": "code",
   "execution_count": 5,
   "id": "c5451665",
   "metadata": {},
   "outputs": [],
   "source": [
    "def printy_details(*args,**kwargs):\n",
    "    for key, value in kwargs.items():\n",
    "        print(f\"{key} : {value}\")\n",
    "    for i in args:\n",
    "        print(i,end=\",\")"
   ]
  },
  {
   "cell_type": "code",
   "execution_count": 7,
   "id": "4b12b153",
   "metadata": {},
   "outputs": [
    {
     "name": "stdout",
     "output_type": "stream",
     "text": [
      "name : Efte\n",
      "age : 32\n",
      "country : Bangladesh\n",
      "city : Dhaka\n",
      "1,2,3,"
     ]
    }
   ],
   "source": [
    "printy_details(1,2,3,name=\"Efte\",age=32,country=\"Bangladesh\",city=\"Dhaka\")"
   ]
  },
  {
   "cell_type": "code",
   "execution_count": 8,
   "id": "2c8bf4e7",
   "metadata": {},
   "outputs": [],
   "source": [
    "def multiply(a,b):\n",
    "        return a*b;"
   ]
  },
  {
   "cell_type": "code",
   "execution_count": 9,
   "id": "1db16364",
   "metadata": {},
   "outputs": [
    {
     "data": {
      "text/plain": [
       "6"
      ]
     },
     "execution_count": 9,
     "metadata": {},
     "output_type": "execute_result"
    }
   ],
   "source": [
    "multiply(2,3)"
   ]
  },
  {
   "cell_type": "code",
   "execution_count": 7,
   "id": "220426a5",
   "metadata": {},
   "outputs": [],
   "source": [
    "def argu(*args,**kwargs):\n",
    "    x=len(args)\n",
    "    for i in args:\n",
    "        if x!= 1:\n",
    "            print(i, end=\",\")\n",
    "            x-= 1\n",
    "        else:\n",
    "            print(i, end=\"\")    \n",
    "    print()  # for better readability    \n",
    "    for key, value in kwargs.items():\n",
    "        print(f\"{key} : {value}\")"
   ]
  },
  {
   "cell_type": "code",
   "execution_count": 8,
   "id": "99afa339",
   "metadata": {},
   "outputs": [
    {
     "name": "stdout",
     "output_type": "stream",
     "text": [
      "1,2,3\n",
      "name : Efte\n",
      "age : 32\n",
      "country : Bangladesh\n",
      "city : Dhaka\n"
     ]
    }
   ],
   "source": [
    "argu(1,2,3,name=\"Efte\",age=32,country=\"Bangladesh\",city=\"Dhaka\")"
   ]
  },
  {
   "cell_type": "code",
   "execution_count": null,
   "id": "338d0f4e",
   "metadata": {},
   "outputs": [],
   "source": []
  },
  {
   "cell_type": "code",
   "execution_count": null,
   "id": "be6efb06",
   "metadata": {},
   "outputs": [],
   "source": []
  }
 ],
 "metadata": {
  "kernelspec": {
   "display_name": "Python 3",
   "language": "python",
   "name": "python3"
  },
  "language_info": {
   "codemirror_mode": {
    "name": "ipython",
    "version": 3
   },
   "file_extension": ".py",
   "mimetype": "text/x-python",
   "name": "python",
   "nbconvert_exporter": "python",
   "pygments_lexer": "ipython3",
   "version": "3.13.2"
  }
 },
 "nbformat": 4,
 "nbformat_minor": 5
}
