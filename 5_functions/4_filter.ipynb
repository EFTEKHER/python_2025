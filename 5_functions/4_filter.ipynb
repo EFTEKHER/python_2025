{
 "cells": [
  {
   "cell_type": "markdown",
   "id": "7fd7d770",
   "metadata": {},
   "source": [
    "- the filter  "
   ]
  },
  {
   "cell_type": "markdown",
   "id": "61e3a0e8",
   "metadata": {},
   "source": [
    "- The filter () function in python.\n",
    "-  The filter() function constructs "
   ]
  },
  {
   "cell_type": "markdown",
   "id": "ac956a50",
   "metadata": {},
   "source": [
    "filter() function constructs an iterator from elements of an iterable for which a functio returns true. it is used to  filter out items from a list basede on a condition\n"
   ]
  },
  {
   "cell_type": "code",
   "execution_count": 1,
   "id": "8b75e2f0",
   "metadata": {},
   "outputs": [],
   "source": [
    "def even(num):\n",
    "    return num % 2 == 0"
   ]
  },
  {
   "cell_type": "code",
   "execution_count": 2,
   "id": "acb91a45",
   "metadata": {},
   "outputs": [],
   "source": [
    "lst=[1, 2, 3, 4, 5, 6, 7, 8, 9, 10, 11, 12, 13, 14, 15, 16, 17, 18, 19, 20, 21, 22, 23, 24, 25, 26, 27, 28, 29, 30]"
   ]
  },
  {
   "cell_type": "code",
   "execution_count": 3,
   "id": "aee38844",
   "metadata": {},
   "outputs": [],
   "source": [
    "filter(even, lst)  # This will return an iterator, not a list\n",
    "even_numbers = list(filter(even, lst))  # Convert to list to see results"
   ]
  },
  {
   "cell_type": "code",
   "execution_count": 4,
   "id": "45fef9a3",
   "metadata": {},
   "outputs": [
    {
     "data": {
      "text/plain": [
       "[2, 4, 6, 8, 10, 12, 14, 16, 18, 20, 22, 24, 26, 28, 30]"
      ]
     },
     "execution_count": 4,
     "metadata": {},
     "output_type": "execute_result"
    }
   ],
   "source": [
    "even_numbers\n",
    "# Output: [2, 4, 6, 8, 10,"
   ]
  },
  {
   "cell_type": "code",
   "execution_count": 5,
   "id": "c285b9a4",
   "metadata": {},
   "outputs": [],
   "source": [
    "def prime_number(lst):\n",
    "    def is_prime(n):\n",
    "        if n <= 1:\n",
    "            return False\n",
    "        for i in range(2, int(n**0.5) + 1):\n",
    "            if n % i == 0:\n",
    "                return False\n",
    "        return True\n",
    "\n",
    "    return list(filter(is_prime, lst))\n",
    "    "
   ]
  },
  {
   "cell_type": "code",
   "execution_count": 6,
   "id": "910d97f4",
   "metadata": {},
   "outputs": [
    {
     "data": {
      "text/plain": [
       "[2, 3, 5, 7, 11, 13, 17, 19, 23, 29]"
      ]
     },
     "execution_count": 6,
     "metadata": {},
     "output_type": "execute_result"
    }
   ],
   "source": [
    "prime_number(lst)"
   ]
  },
  {
   "cell_type": "code",
   "execution_count": 7,
   "id": "cf668bfd",
   "metadata": {},
   "outputs": [],
   "source": [
    "greater_than_five=list(filter(lambda x: x > 5, lst))"
   ]
  },
  {
   "cell_type": "code",
   "execution_count": 8,
   "id": "0545b7a2",
   "metadata": {},
   "outputs": [
    {
     "data": {
      "text/plain": [
       "[6,\n",
       " 7,\n",
       " 8,\n",
       " 9,\n",
       " 10,\n",
       " 11,\n",
       " 12,\n",
       " 13,\n",
       " 14,\n",
       " 15,\n",
       " 16,\n",
       " 17,\n",
       " 18,\n",
       " 19,\n",
       " 20,\n",
       " 21,\n",
       " 22,\n",
       " 23,\n",
       " 24,\n",
       " 25,\n",
       " 26,\n",
       " 27,\n",
       " 28,\n",
       " 29,\n",
       " 30]"
      ]
     },
     "execution_count": 8,
     "metadata": {},
     "output_type": "execute_result"
    }
   ],
   "source": [
    "greater_than_five"
   ]
  },
  {
   "cell_type": "code",
   "execution_count": 9,
   "id": "6e98ccfb",
   "metadata": {},
   "outputs": [],
   "source": [
    "## filter with a lambda function annd multiple conditions\n",
    "greater_than_five_and_even = list(filter(lambda x: x > 5 and x % 2 == 0, lst))"
   ]
  },
  {
   "cell_type": "code",
   "execution_count": 10,
   "id": "32a7c6fb",
   "metadata": {},
   "outputs": [
    {
     "data": {
      "text/plain": [
       "[6,\n",
       " 7,\n",
       " 8,\n",
       " 9,\n",
       " 10,\n",
       " 11,\n",
       " 12,\n",
       " 13,\n",
       " 14,\n",
       " 15,\n",
       " 16,\n",
       " 17,\n",
       " 18,\n",
       " 19,\n",
       " 20,\n",
       " 21,\n",
       " 22,\n",
       " 23,\n",
       " 24,\n",
       " 25,\n",
       " 26,\n",
       " 27,\n",
       " 28,\n",
       " 29,\n",
       " 30]"
      ]
     },
     "execution_count": 10,
     "metadata": {},
     "output_type": "execute_result"
    }
   ],
   "source": [
    "greater_than_five"
   ]
  },
  {
   "cell_type": "code",
   "execution_count": 11,
   "id": "b6274d93",
   "metadata": {},
   "outputs": [],
   "source": [
    "people=[\n",
    "    {\"name\": \"Alice\", \"age\": 30},\n",
    "    {\"name\": \"Bob\", \"age\": 25},\n",
    "    {\"name\": \"Charlie\", \"age\": 35},\n",
    "    {\"name\": \"David\", \"age\": 20},\n",
    "    {\"name\": \"Eve\", \"age\": 28},\n",
    "    {\"name\": \"Frank\", \"age\": 22},\n",
    "    {\"name\": \"Grace\", \"age\": 40},\n",
    "    {\"name\": \"Hannah\", \"age\": 18},\n",
    "    {\"name\": \"Ivy\", \"age\": 32},\n",
    "    {\"name\": \"Jack\", \"age\": 27}\n",
    "    \n",
    "]"
   ]
  },
  {
   "cell_type": "code",
   "execution_count": 16,
   "id": "7af82d99",
   "metadata": {},
   "outputs": [],
   "source": [
    "def get_age(person):\n",
    "    if person[\"age\"] > 25:\n",
    "        return person[\"age\"]"
   ]
  },
  {
   "cell_type": "code",
   "execution_count": 17,
   "id": "d057770e",
   "metadata": {},
   "outputs": [],
   "source": [
    "get_age_list = list(map(get_age, people))"
   ]
  },
  {
   "cell_type": "code",
   "execution_count": 18,
   "id": "930dc1cc",
   "metadata": {},
   "outputs": [
    {
     "data": {
      "text/plain": [
       "[30, None, 35, None, 28, None, 40, None, 32, 27]"
      ]
     },
     "execution_count": 18,
     "metadata": {},
     "output_type": "execute_result"
    }
   ],
   "source": [
    "get_age_list"
   ]
  },
  {
   "cell_type": "code",
   "execution_count": 19,
   "id": "fc89f396",
   "metadata": {},
   "outputs": [],
   "source": [
    "greater_than_25=list(filter(get_age,people ))"
   ]
  },
  {
   "cell_type": "code",
   "execution_count": 21,
   "id": "29e905ed",
   "metadata": {},
   "outputs": [
    {
     "data": {
      "text/plain": [
       "[{'name': 'Alice', 'age': 30},\n",
       " {'name': 'Charlie', 'age': 35},\n",
       " {'name': 'Eve', 'age': 28},\n",
       " {'name': 'Grace', 'age': 40},\n",
       " {'name': 'Ivy', 'age': 32},\n",
       " {'name': 'Jack', 'age': 27}]"
      ]
     },
     "execution_count": 21,
     "metadata": {},
     "output_type": "execute_result"
    }
   ],
   "source": [
    "greater_than_25"
   ]
  },
  {
   "cell_type": "code",
   "execution_count": null,
   "id": "fe8ef7a4",
   "metadata": {},
   "outputs": [],
   "source": []
  }
 ],
 "metadata": {
  "kernelspec": {
   "display_name": "Python 3",
   "language": "python",
   "name": "python3"
  },
  "language_info": {
   "codemirror_mode": {
    "name": "ipython",
    "version": 3
   },
   "file_extension": ".py",
   "mimetype": "text/x-python",
   "name": "python",
   "nbconvert_exporter": "python",
   "pygments_lexer": "ipython3",
   "version": "3.13.2"
  }
 },
 "nbformat": 4,
 "nbformat_minor": 5
}
