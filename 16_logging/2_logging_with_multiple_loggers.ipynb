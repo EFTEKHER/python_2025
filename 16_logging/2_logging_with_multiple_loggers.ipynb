{
 "cells": [
  {
   "cell_type": "markdown",
   "id": "0f6e29e4",
   "metadata": {},
   "source": [
    "## Logging with multiple loggers"
   ]
  },
  {
   "cell_type": "code",
   "execution_count": 1,
   "id": "8948b87e",
   "metadata": {},
   "outputs": [],
   "source": [
    "import logging \n",
    "## create a logger  for module1 \n",
    "logger = logging.getLogger('module1')\n",
    "logger.setLevel(logging.DEBUG)\n",
    "\n",
    "## create a logger for module2\n",
    "logger2 = logging.getLogger('module2')\n",
    "logger2.setLevel(logging.INFO)\n",
    "\n",
    "## congigure  logging settings\n",
    "logging.basicConfig(\n",
    "    level=logging.DEBUG,\n",
    "    format='%(asctime)s - %(name)s - %(levelname)s - %(message)s',\n",
    "    datefmt='%Y-%m-%d %H:%M:%S'\n",
    ")"
   ]
  },
  {
   "cell_type": "code",
   "execution_count": 2,
   "id": "3fb67d68",
   "metadata": {},
   "outputs": [
    {
     "name": "stderr",
     "output_type": "stream",
     "text": [
      "2025-09-04 16:41:09 - module1 - DEBUG - This is a debug message from module1\n",
      "2025-09-04 16:41:09 - module2 - INFO - This is an info message from module2\n"
     ]
    }
   ],
   "source": [
    "logger.debug('This is a debug message from module1')\n",
    "logger2.info('This is an info message from module2')"
   ]
  },
  {
   "cell_type": "code",
   "execution_count": null,
   "id": "21372f4a",
   "metadata": {},
   "outputs": [],
   "source": []
  }
 ],
 "metadata": {
  "kernelspec": {
   "display_name": "Python 3",
   "language": "python",
   "name": "python3"
  },
  "language_info": {
   "codemirror_mode": {
    "name": "ipython",
    "version": 3
   },
   "file_extension": ".py",
   "mimetype": "text/x-python",
   "name": "python",
   "nbconvert_exporter": "python",
   "pygments_lexer": "ipython3",
   "version": "3.13.2"
  }
 },
 "nbformat": 4,
 "nbformat_minor": 5
}
