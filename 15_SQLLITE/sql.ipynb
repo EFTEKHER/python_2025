{
 "cells": [
  {
   "cell_type": "code",
   "execution_count": 1,
   "id": "64762bd1",
   "metadata": {},
   "outputs": [],
   "source": [
    "# sql and sqllite . SQL(structure query language) and SQLite (a C-language library that implements a small, fast, self-contained, high-reliability, full-featured, SQL database engine) \n",
    "\n",
    "import sqlite3"
   ]
  },
  {
   "cell_type": "code",
   "execution_count": 2,
   "id": "de07cf5f",
   "metadata": {},
   "outputs": [],
   "source": [
    "connection = sqlite3.connect('example.db')"
   ]
  },
  {
   "cell_type": "code",
   "execution_count": 3,
   "id": "0f781b26",
   "metadata": {},
   "outputs": [],
   "source": [
    "## create a table \n",
    "cursor=connection.cursor()\n",
    "cursor.execute('''Create Table If not Exists Employees(id Integer Primary Key, name Text not Null, age Integer not Null, department Text not Null)''')\n",
    "connection.commit()"
   ]
  },
  {
   "cell_type": "code",
   "execution_count": 9,
   "id": "74f1ba0f",
   "metadata": {},
   "outputs": [],
   "source": [
    "cursor.execute('''Insert Into Employees (id, name, age, department) Values (6, 'Alice', 30, 'HR'), (7, 'Bob', 25, 'IT'), (10, 'Charlie', 35, 'Finance'), (8, 'David', 28, 'Marketing') , (9, 'Eva', 32, 'Sales')''')\n",
    "connection.commit()"
   ]
  },
  {
   "cell_type": "code",
   "execution_count": 10,
   "id": "e7568a5c",
   "metadata": {},
   "outputs": [
    {
     "data": {
      "text/plain": [
       "<sqlite3.Cursor at 0x1cfa47ecbc0>"
      ]
     },
     "execution_count": 10,
     "metadata": {},
     "output_type": "execute_result"
    }
   ],
   "source": [
    "cursor.execute('''\n",
    "               SELECT * FROM Employees\n",
    "               ''')"
   ]
  },
  {
   "cell_type": "code",
   "execution_count": 11,
   "id": "053d6f98",
   "metadata": {},
   "outputs": [
    {
     "name": "stdout",
     "output_type": "stream",
     "text": [
      "(1, 'Alice', 30, 'HR')\n",
      "(2, 'Bob', 25, 'IT')\n",
      "(3, 'Charlie', 35, 'Finance')\n",
      "(4, 'David', 28, 'Marketing')\n",
      "(5, 'Eva', 32, 'Sales')\n",
      "(6, 'Alice', 30, 'HR')\n",
      "(7, 'Bob', 25, 'IT')\n",
      "(8, 'David', 28, 'Marketing')\n",
      "(9, 'Eva', 32, 'Sales')\n",
      "(10, 'Charlie', 35, 'Finance')\n"
     ]
    }
   ],
   "source": [
    "cursor.execute('Select * from Employees')\n",
    "rows=cursor.fetchall()\n",
    "for row in rows:\n",
    "    print(row)"
   ]
  },
  {
   "cell_type": "code",
   "execution_count": 12,
   "id": "979ebac8",
   "metadata": {},
   "outputs": [],
   "source": [
    "## update data in the table \n",
    "cursor.execute('Update Employees Set age=29 Where id=8')\n",
    "connection.commit()"
   ]
  },
  {
   "cell_type": "code",
   "execution_count": 14,
   "id": "ebbfd94b",
   "metadata": {},
   "outputs": [
    {
     "name": "stdout",
     "output_type": "stream",
     "text": [
      "(1, 'Alice', 30, 'HR')\n",
      "(2, 'Bob', 25, 'IT')\n",
      "(3, 'Charlie', 35, 'Finance')\n",
      "(4, 'David', 28, 'Marketing')\n",
      "(5, 'Eva', 32, 'Sales')\n",
      "(6, 'Alice', 30, 'HR')\n",
      "(7, 'Bob', 25, 'IT')\n",
      "(8, 'David', 29, 'Marketing')\n",
      "(9, 'Eva', 32, 'Sales')\n",
      "(10, 'Charlie', 35, 'Finance')\n"
     ]
    }
   ],
   "source": [
    "cursor.execute('Select * from Employees')\n",
    "rows=cursor.fetchall()\n",
    "for row in rows:\n",
    "    print(row)"
   ]
  },
  {
   "cell_type": "code",
   "execution_count": 15,
   "id": "690bc060",
   "metadata": {},
   "outputs": [],
   "source": [
    "### delete data from the table\n",
    "cursor.execute('Delete from Employees Where id=10')\n",
    "connection.commit()\n"
   ]
  },
  {
   "cell_type": "code",
   "execution_count": 16,
   "id": "a161954c",
   "metadata": {},
   "outputs": [
    {
     "name": "stdout",
     "output_type": "stream",
     "text": [
      "(1, 'Alice', 30, 'HR')\n",
      "(2, 'Bob', 25, 'IT')\n",
      "(3, 'Charlie', 35, 'Finance')\n",
      "(4, 'David', 28, 'Marketing')\n",
      "(5, 'Eva', 32, 'Sales')\n",
      "(6, 'Alice', 30, 'HR')\n",
      "(7, 'Bob', 25, 'IT')\n",
      "(8, 'David', 29, 'Marketing')\n",
      "(9, 'Eva', 32, 'Sales')\n"
     ]
    }
   ],
   "source": [
    "cursor.execute('Select * from Employees')\n",
    "rows=cursor.fetchall()\n",
    "for row in rows:\n",
    "    print(row)"
   ]
  },
  {
   "cell_type": "code",
   "execution_count": 17,
   "id": "a1fd2402",
   "metadata": {},
   "outputs": [],
   "source": [
    "### connect to sales data db\n",
    "connection = sqlite3.connect('sales_data.db')\n",
    "cursor = connection.cursor()\n",
    "\n",
    "cursor.execute('''Create Table If not Exists Sales(id Integer Primary Key, product_name Text not Null, quantity Integer Not Null, price Real Not Null, sale_date Text Not Null, region Text Not Null)''')\n",
    "\n",
    "sales_data=[\n",
    "    (1, 'Laptop', 5, 1200.00, '2023-01-15', 'North'),\n",
    "    (2, 'Smartphone', 10, 800.00, '2023-01-20', 'South'),\n",
    "    (3, 'Tablet', 7, 600.00, '2023-01-25', 'East'),\n",
    "    (4, 'Monitor', 3, 300.00, '2023-02-01', 'West'),\n",
    "    (5, 'Keyboard', 15, 100.00, '2023-02-05', 'Central')\n",
    "    \n",
    "]\n",
    "\n",
    "cursor.executemany('''Insert Into Sales (id, product_name, quantity, price, sale_date, region) Values (?, ?, ?, ?, ?, ?)''', sales_data)\n",
    "connection.commit()"
   ]
  },
  {
   "cell_type": "code",
   "execution_count": 18,
   "id": "7e453c39",
   "metadata": {},
   "outputs": [],
   "source": [
    "## close the connection\n",
    "connection.close()"
   ]
  },
  {
   "cell_type": "code",
   "execution_count": null,
   "id": "2c7c41d9",
   "metadata": {},
   "outputs": [],
   "source": []
  }
 ],
 "metadata": {
  "kernelspec": {
   "display_name": "Python 3",
   "language": "python",
   "name": "python3"
  },
  "language_info": {
   "codemirror_mode": {
    "name": "ipython",
    "version": 3
   },
   "file_extension": ".py",
   "mimetype": "text/x-python",
   "name": "python",
   "nbconvert_exporter": "python",
   "pygments_lexer": "ipython3",
   "version": "3.13.2"
  }
 },
 "nbformat": 4,
 "nbformat_minor": 5
}
