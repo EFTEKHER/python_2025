{
 "cells": [
  {
   "cell_type": "code",
   "execution_count": 1,
   "id": "8d552648",
   "metadata": {},
   "outputs": [],
   "source": [
    "from array import *\n"
   ]
  },
  {
   "cell_type": "code",
   "execution_count": 2,
   "id": "77f681e5",
   "metadata": {},
   "outputs": [
    {
     "name": "stdout",
     "output_type": "stream",
     "text": [
      "array('i', [1, 2, 3, 4, 5])\n"
     ]
    }
   ],
   "source": [
    "x=array('i', [1, 2, 3, 4, 5])\n",
    "print(x)"
   ]
  },
  {
   "cell_type": "code",
   "execution_count": 3,
   "id": "c1ea4592",
   "metadata": {},
   "outputs": [
    {
     "name": "stdout",
     "output_type": "stream",
     "text": [
      "3.141592653589793\n",
      "4.0\n",
      "120\n",
      "8.0\n",
      "1.0\n",
      "1.0\n",
      "0.9999999999999999\n",
      "2.0\n",
      "2.718281828459045\n",
      "5\n"
     ]
    }
   ],
   "source": [
    "import math\n",
    "print(math.pi)\n",
    "print(math.sqrt(16))\n",
    "print(math.factorial(5))\n",
    "print(math.pow(2, 3))\n",
    "print(math.sin(math.pi / 2))\n",
    "print(math.cos(0))\n",
    "print(math.tan(math.pi / 4))\n",
    "print(math.log(100, 10))\n",
    "print(math.exp(1))\n",
    "print(math.ceil(4.2))"
   ]
  },
  {
   "cell_type": "code",
   "execution_count": 6,
   "id": "8f753403",
   "metadata": {},
   "outputs": [
    {
     "name": "stdout",
     "output_type": "stream",
     "text": [
      "5\n",
      "apple\n"
     ]
    }
   ],
   "source": [
    "import random\n",
    "print(random.randint(1, 10))\n",
    "print(random.choice(['apple', 'banana', 'cherry']))"
   ]
  },
  {
   "cell_type": "code",
   "execution_count": 7,
   "id": "fda86941",
   "metadata": {},
   "outputs": [
    {
     "name": "stdout",
     "output_type": "stream",
     "text": [
      "d:\\python_ml\\9_standard_library\n",
      "['1_basic.ipynb', '1_basic.py']\n"
     ]
    }
   ],
   "source": [
    "## FILE and Directory access\n",
    "import os\n",
    "print(os.getcwd())\n",
    "print(os.listdir('.'))"
   ]
  },
  {
   "cell_type": "code",
   "execution_count": 9,
   "id": "3850b528",
   "metadata": {},
   "outputs": [],
   "source": [
    "os.mkdir('new_directory')"
   ]
  },
  {
   "cell_type": "code",
   "execution_count": null,
   "id": "f02478f4",
   "metadata": {},
   "outputs": [],
   "source": [
    "## HIGH LEVEL OPERATIONS ON FILES AND COLLECTION OF FILES\n"
   ]
  },
  {
   "cell_type": "code",
   "execution_count": 12,
   "id": "173a7f87",
   "metadata": {},
   "outputs": [
    {
     "data": {
      "text/plain": [
       "'DESTINATION.TXT'"
      ]
     },
     "execution_count": 12,
     "metadata": {},
     "output_type": "execute_result"
    }
   ],
   "source": [
    "import shutil\n",
    "shutil.copyfile('SOURCE.TXT', 'DESTINATION.TXT')"
   ]
  },
  {
   "cell_type": "code",
   "execution_count": 14,
   "id": "c7372346",
   "metadata": {},
   "outputs": [
    {
     "name": "stdout",
     "output_type": "stream",
     "text": [
      "{\"name\": \"Alice\", \"age\": 30, \"city\": \"New York\"}\n",
      "<class 'str'>\n"
     ]
    }
   ],
   "source": [
    "## Data Serialization\n",
    "import json\n",
    "data = {'name': 'Alice', 'age': 30, 'city': 'New York'}\n",
    "json_string = json.dumps(data)\n",
    "print(json_string)\n",
    "print(type(json_string))"
   ]
  },
  {
   "cell_type": "code",
   "execution_count": 15,
   "id": "883c0c16",
   "metadata": {},
   "outputs": [],
   "source": [
    "json.loads(json_string)\n",
    "data_loaded = json.loads(json_string)"
   ]
  },
  {
   "cell_type": "code",
   "execution_count": 16,
   "id": "efb39be0",
   "metadata": {},
   "outputs": [
    {
     "name": "stdout",
     "output_type": "stream",
     "text": [
      "{'name': 'Alice', 'age': 30, 'city': 'New York'}\n",
      "<class 'dict'>\n"
     ]
    }
   ],
   "source": [
    "print(data_loaded)\n",
    "print(type(data_loaded))\n"
   ]
  },
  {
   "cell_type": "code",
   "execution_count": 17,
   "id": "3b8616f7",
   "metadata": {},
   "outputs": [],
   "source": [
    "#csv\n",
    "import csv\n",
    "data = [['Name', 'Age', 'City'],\n",
    "        ['Alice', 30, 'New York'],\n",
    "        ['Bob', 25, 'Los Angeles'],\n",
    "        ['Charlie', 35, 'Chicago']]\n",
    "with open('data.csv', mode='w', newline='') as file:\n",
    "    writer = csv.writer(file)\n",
    "    writer.writerows(data)"
   ]
  },
  {
   "cell_type": "code",
   "execution_count": 18,
   "id": "c0d0a79a",
   "metadata": {},
   "outputs": [
    {
     "name": "stdout",
     "output_type": "stream",
     "text": [
      "['Name', 'Age', 'City']\n",
      "['Alice', '30', 'New York']\n",
      "['Bob', '25', 'Los Angeles']\n",
      "['Charlie', '35', 'Chicago']\n"
     ]
    }
   ],
   "source": [
    "with  open('data.csv', mode='r') as file:\n",
    "    reader = csv.reader(file)\n",
    "    for row in reader:\n",
    "        print(row)"
   ]
  },
  {
   "cell_type": "code",
   "execution_count": 19,
   "id": "2ba0132e",
   "metadata": {},
   "outputs": [
    {
     "name": "stdout",
     "output_type": "stream",
     "text": [
      "Current date and time: 2025-08-06 20:11:05.972528\n",
      "Year: 2025\n",
      "Month: 8\n",
      "Day: 6\n",
      "Hour: 20\n",
      "Minute: 11\n",
      "Second: 5\n",
      "Formatted date: 2025-08-06 20:11:05\n"
     ]
    }
   ],
   "source": [
    "#datetime\n",
    "from datetime import datetime, timedelta\n",
    "now = datetime.now()\n",
    "print(\"Current date and time:\", now)\n",
    "print(\"Year:\", now.year)\n",
    "print(\"Month:\", now.month)\n",
    "print(\"Day:\", now.day)\n",
    "print(\"Hour:\", now.hour)\n",
    "print(\"Minute:\", now.minute)\n",
    "print(\"Second:\", now.second)\n",
    "\n",
    "print(\"Formatted date:\", now.strftime(\"%Y-%m-%d %H:%M:%S\"))\n",
    "tomorrow = now + timedelta(days=1)"
   ]
  },
  {
   "cell_type": "code",
   "execution_count": 21,
   "id": "e920416e",
   "metadata": {},
   "outputs": [
    {
     "name": "stdout",
     "output_type": "stream",
     "text": [
      "2025-08-04 20:11:05\n"
     ]
    }
   ],
   "source": [
    "yesterday=now-timedelta(days=2)\n",
    "print(yesterday.strftime(\"%Y-%m-%d %H:%M:%S\"))"
   ]
  },
  {
   "cell_type": "code",
   "execution_count": 22,
   "id": "5f6299a8",
   "metadata": {},
   "outputs": [
    {
     "name": "stdout",
     "output_type": "stream",
     "text": [
      "Current time in seconds since epoch: 1754489601.9571712\n",
      "Current local time: time.struct_time(tm_year=2025, tm_mon=8, tm_mday=6, tm_hour=20, tm_min=13, tm_sec=21, tm_wday=2, tm_yday=218, tm_isdst=0)\n",
      "Formatted local time: Wed Aug  6 20:13:21 2025\n",
      "Sleeping for 2 seconds...\n",
      "Awake now!\n",
      "Current time after sleep: Wed Aug  6 20:13:23 2025\n"
     ]
    }
   ],
   "source": [
    "##time\n",
    "import time\n",
    "print(\"Current time in seconds since epoch:\", time.time())\n",
    "print(\"Current local time:\", time.localtime())\n",
    "print(\"Formatted local time:\", time.asctime(time.localtime()))\n",
    "print(\"Sleeping for 2 seconds...\")\n",
    "time.sleep(2)\n",
    "print(\"Awake now!\")\n",
    "print(\"Current time after sleep:\", time.asctime(time.localtime()))"
   ]
  },
  {
   "cell_type": "code",
   "execution_count": 23,
   "id": "08ff598e",
   "metadata": {},
   "outputs": [
    {
     "name": "stdout",
     "output_type": "stream",
     "text": [
      "123\n"
     ]
    }
   ],
   "source": [
    "## regular expression\n",
    "import re\n",
    "pattern = r'\\d+'\n",
    "text = 'There are 123 apples and 456 oranges.'\n",
    "match=re.search(pattern, text)\n",
    "print(match.group())"
   ]
  },
  {
   "cell_type": "code",
   "execution_count": null,
   "id": "024a7223",
   "metadata": {},
   "outputs": [],
   "source": []
  }
 ],
 "metadata": {
  "kernelspec": {
   "display_name": "Python 3",
   "language": "python",
   "name": "python3"
  },
  "language_info": {
   "codemirror_mode": {
    "name": "ipython",
    "version": 3
   },
   "file_extension": ".py",
   "mimetype": "text/x-python",
   "name": "python",
   "nbconvert_exporter": "python",
   "pygments_lexer": "ipython3",
   "version": "3.13.2"
  }
 },
 "nbformat": 4,
 "nbformat_minor": 5
}
