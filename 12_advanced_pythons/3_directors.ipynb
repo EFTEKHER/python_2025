{
 "cells": [
  {
   "cell_type": "markdown",
   "id": "323f52eb",
   "metadata": {},
   "source": [
    "## Decorators are a flexible feature in python that allow you to modify the behaviour of a function or class Method . They are Commonly used to add functionality or methods without modifying their actual code.This lesson covers  the basics of decorators,including how to create and use them"
   ]
  },
  {
   "cell_type": "code",
   "execution_count": null,
   "id": "0962090b",
   "metadata": {},
   "outputs": [],
   "source": [
    "### functions copy\n",
    "### closures\n",
    "### decorators\n",
    "\n"
   ]
  },
  {
   "cell_type": "code",
   "execution_count": 3,
   "id": "4949fe45",
   "metadata": {},
   "outputs": [
    {
     "name": "stdout",
     "output_type": "stream",
     "text": [
      "Sorted list: [1, 2, 2, 3, 4]\n"
     ]
    }
   ],
   "source": [
    "l1=list()\n",
    "\n",
    "for i in range(5):\n",
    "    x=int(input(\"Enter a number: \"))\n",
    "    l1.append(x)\n",
    "\n",
    "\n",
    "l1.sort()\n",
    "print(\"Sorted list:\", l1)"
   ]
  },
  {
   "cell_type": "code",
   "execution_count": 4,
   "id": "8433860e",
   "metadata": {},
   "outputs": [],
   "source": [
    "def welcome():\n",
    "    return  \"welcome python programming\"\n",
    "    \n"
   ]
  },
  {
   "cell_type": "code",
   "execution_count": 5,
   "id": "a2fc4306",
   "metadata": {},
   "outputs": [],
   "source": [
    "wel=welcome"
   ]
  },
  {
   "cell_type": "code",
   "execution_count": 6,
   "id": "1ced759d",
   "metadata": {},
   "outputs": [
    {
     "data": {
      "text/plain": [
       "'welcome python programming'"
      ]
     },
     "execution_count": 6,
     "metadata": {},
     "output_type": "execute_result"
    }
   ],
   "source": [
    "wel()"
   ]
  },
  {
   "cell_type": "code",
   "execution_count": 7,
   "id": "98ba704c",
   "metadata": {},
   "outputs": [
    {
     "name": "stdout",
     "output_type": "stream",
     "text": [
      "welcome python programming\n"
     ]
    }
   ],
   "source": [
    "print(wel())"
   ]
  },
  {
   "cell_type": "code",
   "execution_count": 10,
   "id": "b650fe3c",
   "metadata": {},
   "outputs": [],
   "source": [
    "### closures\n",
    "\n",
    "def main_welcome():\n",
    "    def welcome():\n",
    "        return \"Welcome \" + \"Eftekher Ali Efte\"\n",
    "    return welcome\n"
   ]
  },
  {
   "cell_type": "code",
   "execution_count": 11,
   "id": "ce46a518",
   "metadata": {},
   "outputs": [
    {
     "data": {
      "text/plain": [
       "<function __main__.main_welcome.<locals>.welcome()>"
      ]
     },
     "execution_count": 11,
     "metadata": {},
     "output_type": "execute_result"
    }
   ],
   "source": [
    "main_welcome()"
   ]
  },
  {
   "cell_type": "code",
   "execution_count": 17,
   "id": "cea972ec",
   "metadata": {},
   "outputs": [],
   "source": [
    "def main_welcome(func):\n",
    "    def welcome():\n",
    "        print(\" welcome to the advance python course\")\n",
    "        func(\"welcome everyone to this tutorial\")\n",
    "        print(\"This is a closure function\")\n",
    "    return welcome()\n"
   ]
  },
  {
   "cell_type": "code",
   "execution_count": 18,
   "id": "e3c48d28",
   "metadata": {},
   "outputs": [
    {
     "name": "stdout",
     "output_type": "stream",
     "text": [
      " welcome to the advance python course\n",
      "welcome everyone to this tutorial\n",
      "This is a closure function\n"
     ]
    }
   ],
   "source": [
    "main_welcome(print)"
   ]
  },
  {
   "cell_type": "code",
   "execution_count": null,
   "id": "10c08a00",
   "metadata": {},
   "outputs": [],
   "source": [
    "def course_introduction():\n",
    "    print(\"Welcome to the Advanced Python course!\")\n",
    "    \n",
    "    \n"
   ]
  },
  {
   "cell_type": "code",
   "execution_count": 20,
   "id": "e210eb9b",
   "metadata": {},
   "outputs": [
    {
     "name": "stdout",
     "output_type": "stream",
     "text": [
      "Welcome to the Advanced Python course!\n"
     ]
    }
   ],
   "source": [
    "course_introduction()"
   ]
  },
  {
   "cell_type": "code",
   "execution_count": null,
   "id": "4c7c143c",
   "metadata": {},
   "outputs": [],
   "source": [
    "def main_welcome(func):\n",
    "    def welcome():\n",
    "        print(\" welcome to the advance python course\")\n",
    "        func(\"welcome everyone to this tutorial\")\n",
    "        print(\"This is a closure function\")\n",
    "    return welcome()\n"
   ]
  },
  {
   "cell_type": "code",
   "execution_count": 2,
   "id": "81c0cdc1",
   "metadata": {},
   "outputs": [],
   "source": [
    "def main_welcome(func):\n",
    "    def welcome():\n",
    "        print(\" welcome to the advance python course\")\n",
    "        func()\n",
    "        print(\"This is a closure function\")\n",
    "    return welcome()"
   ]
  },
  {
   "cell_type": "code",
   "execution_count": 3,
   "id": "4d9a6200",
   "metadata": {},
   "outputs": [
    {
     "name": "stdout",
     "output_type": "stream",
     "text": [
      " welcome to the advance python course\n",
      "i am python\n",
      "This is a closure function\n"
     ]
    }
   ],
   "source": [
    "@main_welcome\n",
    "def greet():\n",
    "    print('i am python')"
   ]
  },
  {
   "cell_type": "code",
   "execution_count": null,
   "id": "acef08f9",
   "metadata": {},
   "outputs": [],
   "source": []
  }
 ],
 "metadata": {
  "kernelspec": {
   "display_name": "Python 3",
   "language": "python",
   "name": "python3"
  },
  "language_info": {
   "codemirror_mode": {
    "name": "ipython",
    "version": 3
   },
   "file_extension": ".py",
   "mimetype": "text/x-python",
   "name": "python",
   "nbconvert_exporter": "python",
   "pygments_lexer": "ipython3",
   "version": "3.13.2"
  }
 },
 "nbformat": 4,
 "nbformat_minor": 5
}
