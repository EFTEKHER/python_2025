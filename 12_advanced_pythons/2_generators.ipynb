{
 "cells": [
  {
   "cell_type": "markdown",
   "id": "5b81072a",
   "metadata": {},
   "source": [
    "## Generators\n",
    "\n",
    "\n",
    "#### generators are a simple way to create iterators,They use the yield keyword to produce a series of values lazily,which means they generates values on the fly and donot store them  in the memory"
   ]
  },
  {
   "cell_type": "code",
   "execution_count": 3,
   "id": "0dbaabe0",
   "metadata": {},
   "outputs": [],
   "source": [
    "def square(n):\n",
    "    for i in range(n):\n",
    "        return i**2"
   ]
  },
  {
   "cell_type": "code",
   "execution_count": 4,
   "id": "6d6a2f3c",
   "metadata": {},
   "outputs": [
    {
     "data": {
      "text/plain": [
       "0"
      ]
     },
     "execution_count": 4,
     "metadata": {},
     "output_type": "execute_result"
    }
   ],
   "source": [
    "square(3)"
   ]
  },
  {
   "cell_type": "code",
   "execution_count": 5,
   "id": "0faa854d",
   "metadata": {},
   "outputs": [],
   "source": [
    "def square(n):\n",
    "    for i in range(n):\n",
    "        yield i**2"
   ]
  },
  {
   "cell_type": "code",
   "execution_count": 6,
   "id": "0b48e63f",
   "metadata": {},
   "outputs": [
    {
     "name": "stdout",
     "output_type": "stream",
     "text": [
      "0\n",
      "1\n",
      "4\n"
     ]
    }
   ],
   "source": [
    "for i in square(3):\n",
    "    print(i)"
   ]
  },
  {
   "cell_type": "code",
   "execution_count": 7,
   "id": "839c967a",
   "metadata": {},
   "outputs": [],
   "source": [
    "def my_generator():\n",
    "    yield 1\n",
    "    yield 2\n",
    "    yield 3\n",
    "    yield 4"
   ]
  },
  {
   "cell_type": "code",
   "execution_count": 8,
   "id": "a809c20e",
   "metadata": {},
   "outputs": [],
   "source": [
    "gen=my_generator()"
   ]
  },
  {
   "cell_type": "code",
   "execution_count": 9,
   "id": "fddcd229",
   "metadata": {},
   "outputs": [
    {
     "data": {
      "text/plain": [
       "<generator object my_generator at 0x000001574F8C6770>"
      ]
     },
     "execution_count": 9,
     "metadata": {},
     "output_type": "execute_result"
    }
   ],
   "source": [
    "gen"
   ]
  },
  {
   "cell_type": "code",
   "execution_count": 10,
   "id": "9912ec6a",
   "metadata": {},
   "outputs": [
    {
     "data": {
      "text/plain": [
       "1"
      ]
     },
     "execution_count": 10,
     "metadata": {},
     "output_type": "execute_result"
    }
   ],
   "source": [
    "next(gen)"
   ]
  },
  {
   "cell_type": "code",
   "execution_count": 11,
   "id": "eea2347b",
   "metadata": {},
   "outputs": [
    {
     "data": {
      "text/plain": [
       "2"
      ]
     },
     "execution_count": 11,
     "metadata": {},
     "output_type": "execute_result"
    }
   ],
   "source": [
    "next(gen)"
   ]
  },
  {
   "cell_type": "code",
   "execution_count": 12,
   "id": "0fef0500",
   "metadata": {},
   "outputs": [
    {
     "data": {
      "text/plain": [
       "3"
      ]
     },
     "execution_count": 12,
     "metadata": {},
     "output_type": "execute_result"
    }
   ],
   "source": [
    "\n",
    "next(gen)"
   ]
  },
  {
   "cell_type": "code",
   "execution_count": 13,
   "id": "abdc2a7e",
   "metadata": {},
   "outputs": [
    {
     "data": {
      "text/plain": [
       "4"
      ]
     },
     "execution_count": 13,
     "metadata": {},
     "output_type": "execute_result"
    }
   ],
   "source": [
    "next(gen)"
   ]
  },
  {
   "cell_type": "code",
   "execution_count": 14,
   "id": "f57c5c73",
   "metadata": {},
   "outputs": [
    {
     "ename": "StopIteration",
     "evalue": "",
     "output_type": "error",
     "traceback": [
      "\u001b[31m---------------------------------------------------------------------------\u001b[39m",
      "\u001b[31mStopIteration\u001b[39m                             Traceback (most recent call last)",
      "\u001b[36mCell\u001b[39m\u001b[36m \u001b[39m\u001b[32mIn[14]\u001b[39m\u001b[32m, line 1\u001b[39m\n\u001b[32m----> \u001b[39m\u001b[32m1\u001b[39m \u001b[38;5;28;43mnext\u001b[39;49m\u001b[43m(\u001b[49m\u001b[43mgen\u001b[49m\u001b[43m)\u001b[49m\n",
      "\u001b[31mStopIteration\u001b[39m: "
     ]
    }
   ],
   "source": [
    "next(gen)"
   ]
  },
  {
   "cell_type": "code",
   "execution_count": 15,
   "id": "c6425cd7",
   "metadata": {},
   "outputs": [],
   "source": [
    "## Reading Large files"
   ]
  },
  {
   "cell_type": "code",
   "execution_count": 17,
   "id": "06205c97",
   "metadata": {},
   "outputs": [],
   "source": [
    "def read_large_file(file_path):\n",
    "    with open(file_path, 'r') as f:\n",
    "        for line in f:\n",
    "            yield line\n"
   ]
  },
  {
   "cell_type": "code",
   "execution_count": 18,
   "id": "07fb3742",
   "metadata": {},
   "outputs": [
    {
     "data": {
      "text/plain": [
       "<generator object read_large_file at 0x000001574F7F7880>"
      ]
     },
     "execution_count": 18,
     "metadata": {},
     "output_type": "execute_result"
    }
   ],
   "source": [
    "read_large_file('./read.txt')"
   ]
  },
  {
   "cell_type": "code",
   "execution_count": 19,
   "id": "041d17fe",
   "metadata": {},
   "outputs": [
    {
     "name": "stdout",
     "output_type": "stream",
     "text": [
      "The Financial Times says Rachel Reeves will use her Mansion House speech tomorrow to tear up \"financial red tape which makes the UK uncompetitive\", but will resist pressure to loosen her fiscal rules.\n",
      "\n",
      "\n",
      "\n",
      "The former Israeli Prime Minister Ehud Olmert tells the Guardian that a proposed humanitarian city in Rafah would, in fact, be a \"concentration camp\". Israeli ministers back the plan to move all Palestinians into the site, but Olmert says it would amount to ethnic cleansing. Israel has denied allegations of war crimes in Gaza. Olmert says not all international criticism can be dismissed as antisemitism, saying \"normal people\" now believe Israel has \"crossed every possible line\".\n",
      "\n",
      "\n",
      "\n",
      "A Royal source tells the Daily Mirror that the King backed what's been called a \"peace summit\" with aides to Prince Harry. The talks are described as a \"significant step\" - but the source says King Charles wants public criticism of the family to stop if there is to be a \"way forward\". The Sun says Harry is now ready to talk to his father, and reports they could meet as soon as September. The Daily Mail's Sarah Vine says Harry can't just be allowed to \"waltz back in\" - saying he has \"let the people of Britain down\".\n",
      "\n",
      "\n",
      "\n",
      "The Times reports that upmarket delis and Michelin-starred restaurants are on the brink of running out of the best buffalo mozzarella, and creamy brie. It's because the UK has temporarily banned imports of unpasteurised cheeses, after an outbreak of lumpy skin disease among cattle in Italy and France. The government says the controls are to protect UK farmers and their herds - and that there should be no significant impact. But importers say the position is \"precarious\".\n",
      "\n",
      "\n",
      "\n",
      "Sign up for our morning newsletter and get BBC News in your inbox.\n"
     ]
    }
   ],
   "source": [
    "for i in read_large_file('./read.txt'):\n",
    "    print(i)"
   ]
  },
  {
   "cell_type": "code",
   "execution_count": null,
   "id": "0f796d5a",
   "metadata": {},
   "outputs": [],
   "source": []
  }
 ],
 "metadata": {
  "kernelspec": {
   "display_name": "Python 3",
   "language": "python",
   "name": "python3"
  },
  "language_info": {
   "codemirror_mode": {
    "name": "ipython",
    "version": 3
   },
   "file_extension": ".py",
   "mimetype": "text/x-python",
   "name": "python",
   "nbconvert_exporter": "python",
   "pygments_lexer": "ipython3",
   "version": "3.13.2"
  }
 },
 "nbformat": 4,
 "nbformat_minor": 5
}
