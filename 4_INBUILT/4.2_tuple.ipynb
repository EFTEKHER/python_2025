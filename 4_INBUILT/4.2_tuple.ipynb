{
 "cells": [
  {
   "cell_type": "code",
   "execution_count": null,
   "id": "6f27fb39",
   "metadata": {},
   "outputs": [],
   "source": []
  },
  {
   "cell_type": "markdown",
   "id": "a523fb07",
   "metadata": {},
   "source": [
    "# tuples are iummutable and ordered collections"
   ]
  },
  {
   "cell_type": "code",
   "execution_count": 4,
   "id": "e5826463",
   "metadata": {},
   "outputs": [
    {
     "name": "stdout",
     "output_type": "stream",
     "text": [
      "()\n"
     ]
    }
   ],
   "source": [
    "empty_tuple=()\n",
    "print(empty_tuple)"
   ]
  },
  {
   "cell_type": "code",
   "execution_count": 5,
   "id": "6ac15725",
   "metadata": {},
   "outputs": [
    {
     "name": "stdout",
     "output_type": "stream",
     "text": [
      "<class 'tuple'>\n"
     ]
    }
   ],
   "source": [
    "print(type(empty_tuple))"
   ]
  },
  {
   "cell_type": "code",
   "execution_count": 6,
   "id": "ee24387c",
   "metadata": {},
   "outputs": [],
   "source": [
    "lst=list()\n",
    "tpl=tuple()"
   ]
  },
  {
   "cell_type": "code",
   "execution_count": 7,
   "id": "0072ed69",
   "metadata": {},
   "outputs": [
    {
     "name": "stdout",
     "output_type": "stream",
     "text": [
      "<class 'type'>\n"
     ]
    }
   ],
   "source": [
    "print(type)"
   ]
  },
  {
   "cell_type": "code",
   "execution_count": 8,
   "id": "ffca1d12",
   "metadata": {},
   "outputs": [
    {
     "name": "stdout",
     "output_type": "stream",
     "text": [
      "(1, 2, 3, 4, 5)\n",
      "<class 'tuple'>\n"
     ]
    }
   ],
   "source": [
    "numbers=tuple([1, 2, 3, 4, 5])\n",
    "print(numbers)\n",
    "print(type(numbers))\n"
   ]
  },
  {
   "cell_type": "code",
   "execution_count": 9,
   "id": "e3513b99",
   "metadata": {},
   "outputs": [
    {
     "name": "stdout",
     "output_type": "stream",
     "text": [
      "(1, 'Hello', 3.14, True)\n",
      "<class 'tuple'>\n"
     ]
    }
   ],
   "source": [
    "mixed_tuple=(1, \"Hello\", 3.14, True)\n",
    "print(mixed_tuple)\n",
    "print(type(mixed_tuple))\n"
   ]
  },
  {
   "cell_type": "code",
   "execution_count": 10,
   "id": "2f181e3b",
   "metadata": {},
   "outputs": [],
   "source": [
    "## Accessing tuple elements"
   ]
  },
  {
   "cell_type": "code",
   "execution_count": 11,
   "id": "ebf3af86",
   "metadata": {},
   "outputs": [],
   "source": [
    "numbers= (1, 2, 3, 4, 5)"
   ]
  },
  {
   "cell_type": "code",
   "execution_count": 12,
   "id": "f50aa7a7",
   "metadata": {},
   "outputs": [
    {
     "name": "stdout",
     "output_type": "stream",
     "text": [
      "(1, 3, 5)\n"
     ]
    }
   ],
   "source": [
    "print(numbers[::2])  # [1, 3, 5, 7, 9]"
   ]
  },
  {
   "cell_type": "code",
   "execution_count": 13,
   "id": "084fc9a0",
   "metadata": {},
   "outputs": [
    {
     "data": {
      "text/plain": [
       "1"
      ]
     },
     "execution_count": 13,
     "metadata": {},
     "output_type": "execute_result"
    }
   ],
   "source": [
    "numbers[0]"
   ]
  },
  {
   "cell_type": "code",
   "execution_count": 14,
   "id": "33468dd8",
   "metadata": {},
   "outputs": [
    {
     "ename": "TypeError",
     "evalue": "'tuple' object does not support item assignment",
     "output_type": "error",
     "traceback": [
      "\u001b[31m---------------------------------------------------------------------------\u001b[39m",
      "\u001b[31mTypeError\u001b[39m                                 Traceback (most recent call last)",
      "\u001b[36mCell\u001b[39m\u001b[36m \u001b[39m\u001b[32mIn[14]\u001b[39m\u001b[32m, line 1\u001b[39m\n\u001b[32m----> \u001b[39m\u001b[32m1\u001b[39m \u001b[43mnumbers\u001b[49m\u001b[43m[\u001b[49m\u001b[32;43m0\u001b[39;49m\u001b[43m]\u001b[49m=\u001b[32m1\u001b[39m\n",
      "\u001b[31mTypeError\u001b[39m: 'tuple' object does not support item assignment"
     ]
    }
   ],
   "source": [
    "numbers[0]=1"
   ]
  },
  {
   "cell_type": "code",
   "execution_count": 15,
   "id": "be21f822",
   "metadata": {},
   "outputs": [],
   "source": [
    "numbers= (1, 2, 3, 4, 5)\n",
    "concat=numbers + mixed_tuple"
   ]
  },
  {
   "cell_type": "code",
   "execution_count": 16,
   "id": "beb60bcf",
   "metadata": {},
   "outputs": [
    {
     "name": "stdout",
     "output_type": "stream",
     "text": [
      "(1, 2, 3, 4, 5, 1, 'Hello', 3.14, True)\n"
     ]
    }
   ],
   "source": [
    "print(concat)"
   ]
  },
  {
   "cell_type": "code",
   "execution_count": 17,
   "id": "b35523cc",
   "metadata": {},
   "outputs": [],
   "source": [
    "x=concat*3"
   ]
  },
  {
   "cell_type": "code",
   "execution_count": 18,
   "id": "046350fc",
   "metadata": {},
   "outputs": [
    {
     "data": {
      "text/plain": [
       "(1,\n",
       " 2,\n",
       " 3,\n",
       " 4,\n",
       " 5,\n",
       " 1,\n",
       " 'Hello',\n",
       " 3.14,\n",
       " True,\n",
       " 1,\n",
       " 2,\n",
       " 3,\n",
       " 4,\n",
       " 5,\n",
       " 1,\n",
       " 'Hello',\n",
       " 3.14,\n",
       " True,\n",
       " 1,\n",
       " 2,\n",
       " 3,\n",
       " 4,\n",
       " 5,\n",
       " 1,\n",
       " 'Hello',\n",
       " 3.14,\n",
       " True)"
      ]
     },
     "execution_count": 18,
     "metadata": {},
     "output_type": "execute_result"
    }
   ],
   "source": [
    "x"
   ]
  },
  {
   "cell_type": "code",
   "execution_count": 19,
   "id": "6c385e91",
   "metadata": {},
   "outputs": [
    {
     "name": "stdout",
     "output_type": "stream",
     "text": [
      "9\n"
     ]
    }
   ],
   "source": [
    "print(x.count(1))"
   ]
  },
  {
   "cell_type": "code",
   "execution_count": 20,
   "id": "402a55f1",
   "metadata": {},
   "outputs": [
    {
     "name": "stdout",
     "output_type": "stream",
     "text": [
      "2\n"
     ]
    }
   ],
   "source": [
    "print(x.index(3))"
   ]
  },
  {
   "cell_type": "code",
   "execution_count": 21,
   "id": "d7c485d7",
   "metadata": {},
   "outputs": [],
   "source": [
    "packed_tuple=1,\"Hello\",3.14"
   ]
  },
  {
   "cell_type": "code",
   "execution_count": 22,
   "id": "211482d7",
   "metadata": {},
   "outputs": [
    {
     "name": "stdout",
     "output_type": "stream",
     "text": [
      "(1, 'Hello', 3.14)\n"
     ]
    }
   ],
   "source": [
    "print(packed_tuple)"
   ]
  },
  {
   "cell_type": "code",
   "execution_count": 23,
   "id": "04c6fca7",
   "metadata": {},
   "outputs": [],
   "source": [
    "a, b, c = packed_tuple"
   ]
  },
  {
   "cell_type": "code",
   "execution_count": 24,
   "id": "63e19bb7",
   "metadata": {},
   "outputs": [
    {
     "name": "stdout",
     "output_type": "stream",
     "text": [
      "1\n",
      "Hello\n",
      "3.14\n"
     ]
    }
   ],
   "source": [
    "print(a)\n",
    "print(b)\n",
    "print(c)"
   ]
  },
  {
   "cell_type": "code",
   "execution_count": 25,
   "id": "469f77d9",
   "metadata": {},
   "outputs": [
    {
     "name": "stdout",
     "output_type": "stream",
     "text": [
      "1\n",
      "[2, 3, 4]\n",
      "5\n"
     ]
    }
   ],
   "source": [
    "numbers= (1, 2, 3, 4, 5)\n",
    "first,*middle,last = numbers\n",
    "print(first)   # 1\n",
    "print(middle)  # [2, 3, 4]\n",
    "print(last)    # 5"
   ]
  },
  {
   "cell_type": "code",
   "execution_count": 26,
   "id": "4c972412",
   "metadata": {},
   "outputs": [],
   "source": [
    "## nested tuples\n",
    "lst=[[1, 2, 3], [4, 5, 6], [7, 8, 9]]"
   ]
  },
  {
   "cell_type": "code",
   "execution_count": 27,
   "id": "31fe3524",
   "metadata": {},
   "outputs": [
    {
     "data": {
      "text/plain": [
       "[[1, 2, 3], [4, 5, 6], [7, 8, 9]]"
      ]
     },
     "execution_count": 27,
     "metadata": {},
     "output_type": "execute_result"
    }
   ],
   "source": [
    "lst"
   ]
  },
  {
   "cell_type": "code",
   "execution_count": 28,
   "id": "6287345c",
   "metadata": {},
   "outputs": [],
   "source": [
    "tup=((1, 2, 3), (4, 5, 6), (7, 8, 9),(\"Efte\",\"kher\",\"Ali\"))"
   ]
  },
  {
   "cell_type": "code",
   "execution_count": 29,
   "id": "c9bc7bdd",
   "metadata": {},
   "outputs": [
    {
     "data": {
      "text/plain": [
       "(1, 2, 3)"
      ]
     },
     "execution_count": 29,
     "metadata": {},
     "output_type": "execute_result"
    }
   ],
   "source": [
    "tup[0]"
   ]
  },
  {
   "cell_type": "code",
   "execution_count": 30,
   "id": "d3be2394",
   "metadata": {},
   "outputs": [
    {
     "data": {
      "text/plain": [
       "1"
      ]
     },
     "execution_count": 30,
     "metadata": {},
     "output_type": "execute_result"
    }
   ],
   "source": [
    "tup[0][0]"
   ]
  },
  {
   "cell_type": "code",
   "execution_count": 31,
   "id": "62cf1b9c",
   "metadata": {},
   "outputs": [
    {
     "name": "stdout",
     "output_type": "stream",
     "text": [
      "1 2 3 \n",
      "4 5 6 \n",
      "7 8 9 \n",
      "Efte kher Ali \n"
     ]
    }
   ],
   "source": [
    "for sub_tuple in tup:\n",
    "    for item in sub_tuple:\n",
    "        print(item, end=' ')\n",
    "    print()  # New line after each sub-tuple"
   ]
  },
  {
   "cell_type": "code",
   "execution_count": 32,
   "id": "6cba9263",
   "metadata": {},
   "outputs": [],
   "source": [
    "tuples=\"Efte\",\"kher\",3.1416,True"
   ]
  },
  {
   "cell_type": "code",
   "execution_count": 33,
   "id": "da0096ab",
   "metadata": {},
   "outputs": [
    {
     "data": {
      "text/plain": [
       "('Efte', 'kher', 3.1416, True)"
      ]
     },
     "execution_count": 33,
     "metadata": {},
     "output_type": "execute_result"
    }
   ],
   "source": [
    "tuples"
   ]
  },
  {
   "cell_type": "code",
   "execution_count": 34,
   "id": "baa96780",
   "metadata": {},
   "outputs": [],
   "source": [
    "a,b,c,d=tuples"
   ]
  },
  {
   "cell_type": "code",
   "execution_count": 35,
   "id": "d10e3533",
   "metadata": {},
   "outputs": [
    {
     "name": "stdout",
     "output_type": "stream",
     "text": [
      "Efte\n",
      "kher\n",
      "3.1416\n",
      "True\n"
     ]
    }
   ],
   "source": [
    "print(a)\n",
    "print(b)\n",
    "print(c)\n",
    "print(d)\n"
   ]
  },
  {
   "cell_type": "code",
   "execution_count": 36,
   "id": "c180ebd0",
   "metadata": {},
   "outputs": [
    {
     "name": "stdout",
     "output_type": "stream",
     "text": [
      "(1, 2, 99, 3, 4, 5)\n"
     ]
    }
   ],
   "source": [
    "element_to_insert = 99\n",
    "index = 2\n",
    "new_tuple = numbers[:index] + (element_to_insert,) + numbers[index:]\n",
    "print(new_tuple)"
   ]
  },
  {
   "cell_type": "code",
   "execution_count": null,
   "id": "989ea3b7",
   "metadata": {},
   "outputs": [
    {
     "ename": "SyntaxError",
     "evalue": "invalid syntax (597611057.py, line 1)",
     "output_type": "error",
     "traceback": [
      "  \u001b[36mCell\u001b[39m\u001b[36m \u001b[39m\u001b[32mIn[37]\u001b[39m\u001b[32m, line 1\u001b[39m\n\u001b[31m    \u001b[39m\u001b[31mtuples.\u001b[39m\n           ^\n\u001b[31mSyntaxError\u001b[39m\u001b[31m:\u001b[39m invalid syntax\n"
     ]
    }
   ],
   "source": [
    "tuples"
   ]
  },
  {
   "cell_type": "code",
   "execution_count": null,
   "id": "5f66ad1b",
   "metadata": {},
   "outputs": [],
   "source": []
  },
  {
   "cell_type": "code",
   "execution_count": 38,
   "id": "3e772fdb",
   "metadata": {},
   "outputs": [],
   "source": [
    "lst=[1, 2, 3, 4, 5]"
   ]
  },
  {
   "cell_type": "code",
   "execution_count": 39,
   "id": "0a1d75b9",
   "metadata": {},
   "outputs": [],
   "source": [
    "new_element = 99\n",
    "index = 2\n",
    "lst.insert(index, new_element)"
   ]
  },
  {
   "cell_type": "code",
   "execution_count": 40,
   "id": "6555e3ed",
   "metadata": {},
   "outputs": [
    {
     "data": {
      "text/plain": [
       "[1, 2, 99, 3, 4, 5]"
      ]
     },
     "execution_count": 40,
     "metadata": {},
     "output_type": "execute_result"
    }
   ],
   "source": [
    "lst"
   ]
  },
  {
   "cell_type": "code",
   "execution_count": null,
   "id": "0f8eb990",
   "metadata": {},
   "outputs": [],
   "source": []
  }
 ],
 "metadata": {
  "kernelspec": {
   "display_name": "Python 3",
   "language": "python",
   "name": "python3"
  },
  "language_info": {
   "codemirror_mode": {
    "name": "ipython",
    "version": 3
   },
   "file_extension": ".py",
   "mimetype": "text/x-python",
   "name": "python",
   "nbconvert_exporter": "python",
   "pygments_lexer": "ipython3",
   "version": "3.13.2"
  }
 },
 "nbformat": 4,
 "nbformat_minor": 5
}
