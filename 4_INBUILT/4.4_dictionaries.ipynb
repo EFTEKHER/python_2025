{
 "cells": [
  {
   "cell_type": "code",
   "execution_count": 1,
   "id": "8733fb44",
   "metadata": {},
   "outputs": [],
   "source": [
    "empty_dict=dict()"
   ]
  },
  {
   "cell_type": "code",
   "execution_count": 2,
   "id": "1f18bd97",
   "metadata": {},
   "outputs": [
    {
     "data": {
      "text/plain": [
       "{}"
      ]
     },
     "execution_count": 2,
     "metadata": {},
     "output_type": "execute_result"
    }
   ],
   "source": [
    "empty_dict"
   ]
  },
  {
   "cell_type": "code",
   "execution_count": 3,
   "id": "e8dd1774",
   "metadata": {},
   "outputs": [],
   "source": [
    "student={\n",
    "    \"name\": \"John Doe\",\"roll\": 101,\n",
    "    \"marks\": {23,56,17}}"
   ]
  },
  {
   "cell_type": "code",
   "execution_count": 4,
   "id": "66df80db",
   "metadata": {},
   "outputs": [
    {
     "data": {
      "text/plain": [
       "{'name': 'John Doe', 'roll': 101, 'marks': {17, 23, 56}}"
      ]
     },
     "execution_count": 4,
     "metadata": {},
     "output_type": "execute_result"
    }
   ],
   "source": [
    "student"
   ]
  },
  {
   "cell_type": "code",
   "execution_count": 5,
   "id": "ad81df6f",
   "metadata": {},
   "outputs": [
    {
     "name": "stdout",
     "output_type": "stream",
     "text": [
      "name : John Doe\n",
      "roll : 101\n",
      "marks : {56, 17, 23}\n"
     ]
    }
   ],
   "source": [
    "for key,value in student.items():\n",
    "    print(key, \":\", value)"
   ]
  },
  {
   "cell_type": "code",
   "execution_count": 6,
   "id": "992ff3b6",
   "metadata": {},
   "outputs": [
    {
     "name": "stdout",
     "output_type": "stream",
     "text": [
      "0 : 1\n",
      "1 : 2\n",
      "2 : 3\n",
      "3 : 4\n",
      "4 : 5\n",
      "5 : 6\n",
      "6 : 7\n",
      "7 : 8\n",
      "8 : 9\n",
      "9 : 10\n"
     ]
    }
   ],
   "source": [
    "list1=[1,2,3,4,5,6,7,8,9,10]\n",
    "for key,value in enumerate(list1):\n",
    "    print(key, \":\", value)"
   ]
  },
  {
   "cell_type": "code",
   "execution_count": 7,
   "id": "c39a832a",
   "metadata": {},
   "outputs": [
    {
     "data": {
      "text/plain": [
       "'John Doe'"
      ]
     },
     "execution_count": 7,
     "metadata": {},
     "output_type": "execute_result"
    }
   ],
   "source": [
    "student['name']"
   ]
  },
  {
   "cell_type": "code",
   "execution_count": 8,
   "id": "dac1578d",
   "metadata": {},
   "outputs": [
    {
     "data": {
      "text/plain": [
       "'Not Found'"
      ]
     },
     "execution_count": 8,
     "metadata": {},
     "output_type": "execute_result"
    }
   ],
   "source": [
    "student.get('name')\n",
    "student.get('age', 'Not Found')"
   ]
  },
  {
   "cell_type": "code",
   "execution_count": 9,
   "id": "a70768a3",
   "metadata": {},
   "outputs": [],
   "source": [
    "student[\"name\"]=\"Eftekher Ali Efte\"\n"
   ]
  },
  {
   "cell_type": "code",
   "execution_count": 10,
   "id": "c20b16cd",
   "metadata": {},
   "outputs": [
    {
     "data": {
      "text/plain": [
       "{'name': 'Eftekher Ali Efte', 'roll': 101, 'marks': {17, 23, 56}}"
      ]
     },
     "execution_count": 10,
     "metadata": {},
     "output_type": "execute_result"
    }
   ],
   "source": [
    "student"
   ]
  },
  {
   "cell_type": "code",
   "execution_count": 11,
   "id": "434eff91",
   "metadata": {},
   "outputs": [],
   "source": [
    "keys=student.keys()"
   ]
  },
  {
   "cell_type": "code",
   "execution_count": 12,
   "id": "4d45471e",
   "metadata": {},
   "outputs": [
    {
     "data": {
      "text/plain": [
       "dict_keys(['name', 'roll', 'marks'])"
      ]
     },
     "execution_count": 12,
     "metadata": {},
     "output_type": "execute_result"
    }
   ],
   "source": [
    "keys"
   ]
  },
  {
   "cell_type": "code",
   "execution_count": 13,
   "id": "b21deac6",
   "metadata": {},
   "outputs": [],
   "source": [
    "values=student.values()"
   ]
  },
  {
   "cell_type": "code",
   "execution_count": 14,
   "id": "1e740379",
   "metadata": {},
   "outputs": [
    {
     "data": {
      "text/plain": [
       "dict_values(['Eftekher Ali Efte', 101, {56, 17, 23}])"
      ]
     },
     "execution_count": 14,
     "metadata": {},
     "output_type": "execute_result"
    }
   ],
   "source": [
    "values"
   ]
  },
  {
   "cell_type": "code",
   "execution_count": 15,
   "id": "e94585b7",
   "metadata": {},
   "outputs": [],
   "source": [
    "## shallow copy\n",
    "student_copy=student.copy()"
   ]
  },
  {
   "cell_type": "code",
   "execution_count": 16,
   "id": "8445a21e",
   "metadata": {},
   "outputs": [
    {
     "name": "stdout",
     "output_type": "stream",
     "text": [
      "{'name': 'Eftekher Ali Efte', 'roll': 101, 'marks': {56, 17, 23}}\n"
     ]
    }
   ],
   "source": [
    "print(student_copy)"
   ]
  },
  {
   "cell_type": "code",
   "execution_count": 17,
   "id": "08d059e1",
   "metadata": {},
   "outputs": [],
   "source": [
    "student[\"name\"]='Efte'"
   ]
  },
  {
   "cell_type": "code",
   "execution_count": 18,
   "id": "957004b3",
   "metadata": {},
   "outputs": [
    {
     "name": "stdout",
     "output_type": "stream",
     "text": [
      "{'name': 'Eftekher Ali Efte', 'roll': 101, 'marks': {56, 17, 23}}\n",
      "{'name': 'Efte', 'roll': 101, 'marks': {56, 17, 23}}\n"
     ]
    }
   ],
   "source": [
    "print(student_copy)\n",
    "print(student)"
   ]
  },
  {
   "cell_type": "code",
   "execution_count": 19,
   "id": "7de65f8c",
   "metadata": {},
   "outputs": [],
   "source": [
    "student2=student"
   ]
  },
  {
   "cell_type": "code",
   "execution_count": 20,
   "id": "ae9880f2",
   "metadata": {},
   "outputs": [
    {
     "data": {
      "text/plain": [
       "{'name': 'Efte', 'roll': 101, 'marks': {17, 23, 56}}"
      ]
     },
     "execution_count": 20,
     "metadata": {},
     "output_type": "execute_result"
    }
   ],
   "source": [
    "student"
   ]
  },
  {
   "cell_type": "code",
   "execution_count": 21,
   "id": "bed1871c",
   "metadata": {},
   "outputs": [],
   "source": [
    "student2['name']='Efte Ali'"
   ]
  },
  {
   "cell_type": "code",
   "execution_count": 22,
   "id": "d061c715",
   "metadata": {},
   "outputs": [
    {
     "data": {
      "text/plain": [
       "{'name': 'Efte Ali', 'roll': 101, 'marks': {17, 23, 56}}"
      ]
     },
     "execution_count": 22,
     "metadata": {},
     "output_type": "execute_result"
    }
   ],
   "source": [
    "student"
   ]
  },
  {
   "cell_type": "code",
   "execution_count": 24,
   "id": "3b328c42",
   "metadata": {},
   "outputs": [],
   "source": [
    "students={\n",
    "    \"101\": {\"name\": \"John Doe\", \"marks\": [23, 56, 17]},\n",
    "    \"102\": {\"name\": \"Jane Smith\", \"marks\": [45, 67, 89]},\n",
    "    \"103\": {\"name\": \"Alice Brown\", \"marks\": [12, 34, 56]}\n",
    "}"
   ]
  },
  {
   "cell_type": "code",
   "execution_count": 25,
   "id": "1825f3ae",
   "metadata": {},
   "outputs": [
    {
     "name": "stdout",
     "output_type": "stream",
     "text": [
      "Roll: 101, Name: John Doe, Marks: [23, 56, 17]\n",
      "Roll: 102, Name: Jane Smith, Marks: [45, 67, 89]\n",
      "Roll: 103, Name: Alice Brown, Marks: [12, 34, 56]\n"
     ]
    }
   ],
   "source": [
    "for key, value in students.items():\n",
    "    print(f\"Roll: {key}, Name: {value['name']}, Marks: {value['marks']}\")"
   ]
  },
  {
   "cell_type": "code",
   "execution_count": null,
   "id": "7cb2edc3",
   "metadata": {},
   "outputs": [],
   "source": []
  },
  {
   "cell_type": "code",
   "execution_count": 53,
   "id": "04d8c125",
   "metadata": {},
   "outputs": [
    {
     "name": "stdout",
     "output_type": "stream",
     "text": [
      "name : John Doe\n",
      "marks : [23, 56, 17]\n",
      "name : Jane Smith\n",
      "marks : [45, 67, 89]\n",
      "name : Alice Brown\n",
      "marks : [12, 34, 56]\n"
     ]
    }
   ],
   "source": [
    "for rolls in students:\n",
    "    # for student in rolls:\n",
    "    #     print(student)\n",
    "    for keys in students[rolls]:\n",
    "        print(keys, \":\", students[rolls][keys])\n",
    "    "
   ]
  },
  {
   "cell_type": "code",
   "execution_count": 54,
   "id": "6091be4a",
   "metadata": {},
   "outputs": [
    {
     "name": "stdout",
     "output_type": "stream",
     "text": [
      "end= 101, Name: John Doe, Marks: [23, 56, 17]\n",
      "end= 102, Name: Jane Smith, Marks: [45, 67, 89]\n",
      "end= 103, Name: Alice Brown, Marks: [12, 34, 56]\n"
     ]
    }
   ],
   "source": [
    "for student_id, student_info in students.items():\n",
    "     print(f\"end= {student_id}, Name: {student_info['name']}, Marks: {student_info['marks']}\")"
   ]
  },
  {
   "cell_type": "code",
   "execution_count": 55,
   "id": "819cf210",
   "metadata": {},
   "outputs": [
    {
     "name": "stdout",
     "output_type": "stream",
     "text": [
      "Roll: 101\n",
      "name: John Doe\n",
      "marks: [23, 56, 17]\n",
      "\n",
      "Roll: 102\n",
      "name: Jane Smith\n",
      "marks: [45, 67, 89]\n",
      "\n",
      "Roll: 103\n",
      "name: Alice Brown\n",
      "marks: [12, 34, 56]\n",
      "\n"
     ]
    }
   ],
   "source": [
    "for student_roll, student_info in students.items():\n",
    "    print(f\"Roll: {student_roll}\")\n",
    "    for key, value in student_info.items():\n",
    "        print(f\"{key}: {value}\")\n",
    "    print()  # Print a newline for better readability"
   ]
  },
  {
   "cell_type": "code",
   "execution_count": 56,
   "id": "946aadb7",
   "metadata": {},
   "outputs": [],
   "source": [
    "squares={x:x**2 for x in range(1, 11)}"
   ]
  },
  {
   "cell_type": "code",
   "execution_count": 57,
   "id": "c50e506e",
   "metadata": {},
   "outputs": [
    {
     "data": {
      "text/plain": [
       "{1: 1, 2: 4, 3: 9, 4: 16, 5: 25, 6: 36, 7: 49, 8: 64, 9: 81, 10: 100}"
      ]
     },
     "execution_count": 57,
     "metadata": {},
     "output_type": "execute_result"
    }
   ],
   "source": [
    "squares"
   ]
  },
  {
   "cell_type": "code",
   "execution_count": 58,
   "id": "d116b8d8",
   "metadata": {},
   "outputs": [],
   "source": [
    "lst1=[int(x) for x in input(\"Enter numbers separated by space: \").split()]"
   ]
  },
  {
   "cell_type": "code",
   "execution_count": 59,
   "id": "8b58fe05",
   "metadata": {},
   "outputs": [
    {
     "data": {
      "text/plain": [
       "[1, 2, 45, 67, 89, 1290]"
      ]
     },
     "execution_count": 59,
     "metadata": {},
     "output_type": "execute_result"
    }
   ],
   "source": [
    "lst1"
   ]
  },
  {
   "cell_type": "code",
   "execution_count": 60,
   "id": "c40b6c9a",
   "metadata": {},
   "outputs": [],
   "source": [
    "numbers=[1,1,1,2,2,2,3,3,3,4,4,4,5,5,5,6,6]"
   ]
  },
  {
   "cell_type": "code",
   "execution_count": 61,
   "id": "9b5dd394",
   "metadata": {},
   "outputs": [],
   "source": [
    "frequency={}"
   ]
  },
  {
   "cell_type": "code",
   "execution_count": 62,
   "id": "d04f8027",
   "metadata": {},
   "outputs": [],
   "source": [
    "for number in numbers:\n",
    "    if number in frequency:\n",
    "        frequency[number] += 1\n",
    "    else:\n",
    "        frequency[number] = 1"
   ]
  },
  {
   "cell_type": "code",
   "execution_count": 63,
   "id": "02c43863",
   "metadata": {},
   "outputs": [
    {
     "data": {
      "text/plain": [
       "{1: 3, 2: 3, 3: 3, 4: 3, 5: 3, 6: 2}"
      ]
     },
     "execution_count": 63,
     "metadata": {},
     "output_type": "execute_result"
    }
   ],
   "source": [
    "frequency"
   ]
  },
  {
   "cell_type": "code",
   "execution_count": 64,
   "id": "9675698e",
   "metadata": {},
   "outputs": [],
   "source": [
    "## Merge  2 dictionaries into  one\n",
    "dict1 = {'a': 1, 'b': 2}\n",
    "dict2 = {'c': 3, 'd': 4}\n",
    "merged_dict = {**dict1, **dict2}"
   ]
  },
  {
   "cell_type": "code",
   "execution_count": 65,
   "id": "aa435f31",
   "metadata": {},
   "outputs": [
    {
     "data": {
      "text/plain": [
       "{'a': 1, 'b': 2, 'c': 3, 'd': 4}"
      ]
     },
     "execution_count": 65,
     "metadata": {},
     "output_type": "execute_result"
    }
   ],
   "source": [
    "merged_dict"
   ]
  },
  {
   "cell_type": "code",
   "execution_count": 26,
   "id": "4aa9c5cd",
   "metadata": {},
   "outputs": [],
   "source": [
    "### Assignment 5: Dictionary Comprehensions\n",
    "\n",
    "##Create a new dictionary containing the cubes of the first 10 positive integers using a dictionary comprehension. Print the new dictionary.\n",
    "cubes = {x: x**3 for x in range(1, 11)}"
   ]
  },
  {
   "cell_type": "code",
   "execution_count": 27,
   "id": "3bf28542",
   "metadata": {},
   "outputs": [
    {
     "data": {
      "text/plain": [
       "{1: 1, 2: 8, 3: 27, 4: 64, 5: 125, 6: 216, 7: 343, 8: 512, 9: 729, 10: 1000}"
      ]
     },
     "execution_count": 27,
     "metadata": {},
     "output_type": "execute_result"
    }
   ],
   "source": [
    "cubes"
   ]
  },
  {
   "cell_type": "code",
   "execution_count": 37,
   "id": "991be7bf",
   "metadata": {},
   "outputs": [],
   "source": [
    "## dictionarties into json\n",
    "import json\n",
    "# Convert the 'students' dictionary to a JSON string\n",
    "students_json = json.dumps(students, indent=6)"
   ]
  },
  {
   "cell_type": "code",
   "execution_count": 38,
   "id": "c6a0c3da",
   "metadata": {},
   "outputs": [
    {
     "name": "stdout",
     "output_type": "stream",
     "text": [
      "{\n",
      "      \"101\": {\n",
      "            \"name\": \"John Doe\",\n",
      "            \"marks\": [\n",
      "                  23,\n",
      "                  56,\n",
      "                  17\n",
      "            ]\n",
      "      },\n",
      "      \"102\": {\n",
      "            \"name\": \"Jane Smith\",\n",
      "            \"marks\": [\n",
      "                  45,\n",
      "                  67,\n",
      "                  89\n",
      "            ]\n",
      "      },\n",
      "      \"103\": {\n",
      "            \"name\": \"Alice Brown\",\n",
      "            \"marks\": [\n",
      "                  12,\n",
      "                  34,\n",
      "                  56\n",
      "            ]\n",
      "      }\n",
      "}\n"
     ]
    }
   ],
   "source": [
    "## json format\n",
    "print(students_json)"
   ]
  },
  {
   "cell_type": "code",
   "execution_count": 29,
   "id": "d7507b0e",
   "metadata": {},
   "outputs": [
    {
     "data": {
      "text/plain": [
       "'{\\n    \"101\": {\\n        \"name\": \"John Doe\",\\n        \"marks\": [\\n            23,\\n            56,\\n            17\\n        ]\\n    },\\n    \"102\": {\\n        \"name\": \"Jane Smith\",\\n        \"marks\": [\\n            45,\\n            67,\\n            89\\n        ]\\n    },\\n    \"103\": {\\n        \"name\": \"Alice Brown\",\\n        \"marks\": [\\n            12,\\n            34,\\n            56\\n        ]\\n    }\\n}'"
      ]
     },
     "execution_count": 29,
     "metadata": {},
     "output_type": "execute_result"
    }
   ],
   "source": [
    "students_json"
   ]
  },
  {
   "cell_type": "code",
   "execution_count": null,
   "id": "af6db461",
   "metadata": {},
   "outputs": [],
   "source": [
    "# convert json to dictionaries\n",
    "students_json"
   ]
  },
  {
   "cell_type": "code",
   "execution_count": 5,
   "id": "714431f5",
   "metadata": {},
   "outputs": [],
   "source": [
    "to_do_list=[\"buy groceries\", \"clean the house\", \"pay bills\"]"
   ]
  },
  {
   "cell_type": "code",
   "execution_count": null,
   "id": "aea435e1",
   "metadata": {},
   "outputs": [],
   "source": []
  },
  {
   "cell_type": "code",
   "execution_count": 6,
   "id": "9463c03b",
   "metadata": {},
   "outputs": [],
   "source": [
    "to_do_list.append(\"schedule doctor's appointment\")\n",
    "to_do_list.append(\"call mom\")\n",
    "to_do_list.append(\"finish homework\")"
   ]
  },
  {
   "cell_type": "code",
   "execution_count": null,
   "id": "57c9c4a4",
   "metadata": {},
   "outputs": [],
   "source": []
  },
  {
   "cell_type": "code",
   "execution_count": 7,
   "id": "8248f4df",
   "metadata": {},
   "outputs": [
    {
     "ename": "NameError",
     "evalue": "name 'x' is not defined",
     "output_type": "error",
     "traceback": [
      "\u001b[31m---------------------------------------------------------------------------\u001b[39m",
      "\u001b[31mNameError\u001b[39m                                 Traceback (most recent call last)",
      "\u001b[36mCell\u001b[39m\u001b[36m \u001b[39m\u001b[32mIn[7]\u001b[39m\u001b[32m, line 1\u001b[39m\n\u001b[32m----> \u001b[39m\u001b[32m1\u001b[39m \u001b[43mx\u001b[49m\n",
      "\u001b[31mNameError\u001b[39m: name 'x' is not defined"
     ]
    }
   ],
   "source": [
    "\n",
    "x"
   ]
  },
  {
   "cell_type": "code",
   "execution_count": 8,
   "id": "ddabef68",
   "metadata": {},
   "outputs": [],
   "source": [
    "def remove(to_do_list):\n",
    "    x =int( input(f\"Select the task you have completed: {dict(enumerate(to_do_list))}\\n\"))\n",
    "    to_do_list.remove(to_do_list[x])\n",
    "    if len(to_do_list) == 0:\n",
    "        \n",
    "        print(\"All tasks completed!\")\n",
    "    else:\n",
    "        print(f\"Remaining tasks: {to_do_list}\")\n",
    "    return to_do_list"
   ]
  },
  {
   "cell_type": "code",
   "execution_count": 9,
   "id": "a7fc4e50",
   "metadata": {},
   "outputs": [],
   "source": [
    "def add(to_do_list):\n",
    "    x = input(\"Enter the task you want to add: \")\n",
    "    to_do_list.append(x)\n",
    "    print(f\"Updated to-do list: {to_do_list}\")\n",
    "    return to_do_list"
   ]
  },
  {
   "cell_type": "code",
   "execution_count": 10,
   "id": "8c9a5183",
   "metadata": {},
   "outputs": [],
   "source": [
    "def work(to_do_list):\n",
    "    while True:\n",
    "        choice = input(\"Enter 'a' to add a task, 'r' to remove a task, or 'q' to quit: \").lower()\n",
    "        if choice == 'a':\n",
    "            add(to_do_list)\n",
    "        elif choice == 'r':\n",
    "            remove(to_do_list)\n",
    "        elif choice == 'q':\n",
    "            print(\"Exiting the to-do list manager.\")\n",
    "            break\n",
    "        else:\n",
    "            print(\"Invalid choice. Please try again.\")"
   ]
  },
  {
   "cell_type": "code",
   "execution_count": 11,
   "id": "0200b71c",
   "metadata": {},
   "outputs": [
    {
     "name": "stdout",
     "output_type": "stream",
     "text": [
      "Updated to-do list: ['buy groceries', 'clean the house', 'pay bills', \"schedule doctor's appointment\", 'call mom', 'finish homework', 'i will do homework']\n",
      "Remaining tasks: ['buy groceries', 'clean the house', 'pay bills', \"schedule doctor's appointment\", 'call mom', 'finish homework']\n",
      "Remaining tasks: ['buy groceries', 'clean the house', 'pay bills', \"schedule doctor's appointment\", 'call mom']\n",
      "Remaining tasks: ['buy groceries', 'pay bills', \"schedule doctor's appointment\", 'call mom']\n",
      "Remaining tasks: ['buy groceries', 'pay bills', \"schedule doctor's appointment\"]\n",
      "Exiting the to-do list manager.\n"
     ]
    }
   ],
   "source": [
    "work(to_do_list)"
   ]
  },
  {
   "cell_type": "code",
   "execution_count": null,
   "id": "f8dc73fe",
   "metadata": {},
   "outputs": [],
   "source": []
  }
 ],
 "metadata": {
  "kernelspec": {
   "display_name": "Python 3",
   "language": "python",
   "name": "python3"
  },
  "language_info": {
   "codemirror_mode": {
    "name": "ipython",
    "version": 3
   },
   "file_extension": ".py",
   "mimetype": "text/x-python",
   "name": "python",
   "nbconvert_exporter": "python",
   "pygments_lexer": "ipython3",
   "version": "3.13.2"
  }
 },
 "nbformat": 4,
 "nbformat_minor": 5
}
