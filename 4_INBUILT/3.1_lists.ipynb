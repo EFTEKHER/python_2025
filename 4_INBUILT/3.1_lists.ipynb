{
 "cells": [
  {
   "cell_type": "markdown",
   "id": "eeb17483",
   "metadata": {},
   "source": [
    "## lists are mutable,ordered,contain items of different data types"
   ]
  },
  {
   "cell_type": "code",
   "execution_count": 9,
   "id": "4b77cadd",
   "metadata": {},
   "outputs": [
    {
     "name": "stdout",
     "output_type": "stream",
     "text": [
      "<class 'list'>\n"
     ]
    }
   ],
   "source": [
    "lst=[]\n",
    "print(type(lst))"
   ]
  },
  {
   "cell_type": "code",
   "execution_count": 10,
   "id": "53e7f2f0",
   "metadata": {},
   "outputs": [],
   "source": [
    "names=['Alice','Bob','Charlie',45,45,1,212]"
   ]
  },
  {
   "cell_type": "code",
   "execution_count": 11,
   "id": "a3eb0f0f",
   "metadata": {},
   "outputs": [
    {
     "name": "stdout",
     "output_type": "stream",
     "text": [
      "<class 'list'>\n",
      "['Alice', 'Bob', 'Charlie', 45, 45, 1, 212] is a list\n"
     ]
    }
   ],
   "source": [
    "print(type(names))\n",
    "print(names ,end=\"\")\n",
    "print(\" is a list\")"
   ]
  },
  {
   "cell_type": "code",
   "execution_count": 12,
   "id": "88f7db1a",
   "metadata": {},
   "outputs": [
    {
     "data": {
      "text/plain": [
       "'Alice'"
      ]
     },
     "execution_count": 12,
     "metadata": {},
     "output_type": "execute_result"
    }
   ],
   "source": [
    "names[0]"
   ]
  },
  {
   "cell_type": "code",
   "execution_count": 13,
   "id": "a8c7556c",
   "metadata": {},
   "outputs": [],
   "source": [
    "x=\"Eftekher\"\n",
    "\n",
    "def d(x=\"\"):\n",
    "    return x[::-1]\n",
    "    "
   ]
  },
  {
   "cell_type": "code",
   "execution_count": 14,
   "id": "8b29e5b0",
   "metadata": {},
   "outputs": [
    {
     "data": {
      "text/plain": [
       "'rehketfE'"
      ]
     },
     "execution_count": 14,
     "metadata": {},
     "output_type": "execute_result"
    }
   ],
   "source": [
    "d(x)"
   ]
  },
  {
   "cell_type": "code",
   "execution_count": 15,
   "id": "4456dbe3",
   "metadata": {},
   "outputs": [
    {
     "name": "stdout",
     "output_type": "stream",
     "text": [
      "['Bob', 'Charlie', 45, 45, 1, 212]\n",
      "['Bob', 'Charlie', 45]\n"
     ]
    }
   ],
   "source": [
    "print(names[1:])\n",
    "print(names[1:4])"
   ]
  },
  {
   "cell_type": "code",
   "execution_count": 16,
   "id": "bf6fdefd",
   "metadata": {},
   "outputs": [
    {
     "name": "stdout",
     "output_type": "stream",
     "text": [
      "[212]\n"
     ]
    }
   ],
   "source": [
    "print(names[-1:])"
   ]
  },
  {
   "cell_type": "code",
   "execution_count": 17,
   "id": "5cb54425",
   "metadata": {},
   "outputs": [
    {
     "name": "stdout",
     "output_type": "stream",
     "text": [
      "['Alice', 'Bob', 'Charlie', 45, 45, 1, 212, 'Eftekher']\n"
     ]
    }
   ],
   "source": [
    "names.append(\"Eftekher\")\n",
    "print(names)"
   ]
  },
  {
   "cell_type": "code",
   "execution_count": 18,
   "id": "4a56d736",
   "metadata": {},
   "outputs": [],
   "source": [
    "names.insert(1,\"banana\")"
   ]
  },
  {
   "cell_type": "code",
   "execution_count": 19,
   "id": "85e0133a",
   "metadata": {},
   "outputs": [
    {
     "name": "stdout",
     "output_type": "stream",
     "text": [
      "['Alice', 'banana', 'Bob', 'Charlie', 45, 45, 1, 212, 'Eftekher']\n"
     ]
    }
   ],
   "source": [
    "print(names)"
   ]
  },
  {
   "cell_type": "code",
   "execution_count": 20,
   "id": "e362e95c",
   "metadata": {},
   "outputs": [],
   "source": [
    "names.remove(45)"
   ]
  },
  {
   "cell_type": "code",
   "execution_count": 21,
   "id": "9bf1f9fa",
   "metadata": {},
   "outputs": [],
   "source": [
    "names.clear()"
   ]
  },
  {
   "cell_type": "code",
   "execution_count": 22,
   "id": "f837166f",
   "metadata": {},
   "outputs": [
    {
     "name": "stdout",
     "output_type": "stream",
     "text": [
      "[3, 4, 5]\n",
      "[3, 4, 5, 6, 7, 8, 9]\n",
      "[1, 2, 3, 4, 5]\n",
      "[9, 8, 7, 6, 5, 4, 3, 2, 1]\n"
     ]
    }
   ],
   "source": [
    "## slicing\n",
    "\n",
    "numbers= [1, 2, 3, 4, 5, 6, 7, 8, 9]\n",
    "print(numbers[2:5])  # [3, 4, 5]\n",
    "print(numbers[2:])   # [3, 4, 5, 6, 7, 8, 9]\n",
    "print(numbers[:5])  \n",
    "print(numbers[::-1])"
   ]
  },
  {
   "cell_type": "code",
   "execution_count": 23,
   "id": "3d267fe7",
   "metadata": {},
   "outputs": [
    {
     "name": "stdout",
     "output_type": "stream",
     "text": [
      "[1, 3, 5, 7, 9]\n"
     ]
    }
   ],
   "source": [
    "print(numbers[::2])  # [1, 3, 5, 7, 9]"
   ]
  },
  {
   "cell_type": "code",
   "execution_count": 24,
   "id": "5bb4ab1f",
   "metadata": {},
   "outputs": [],
   "source": [
    "fruits=['apple', 'banana', 'cherry', 'date', 'elderberry', 'fig', 'grape', 'honeydew']"
   ]
  },
  {
   "cell_type": "code",
   "execution_count": 25,
   "id": "838a3c6a",
   "metadata": {},
   "outputs": [
    {
     "name": "stdout",
     "output_type": "stream",
     "text": [
      "['banana', 'cherry', 'date', 'elderberry']\n"
     ]
    }
   ],
   "source": [
    "print(fruits[1:5])  # ['banana', 'cherry', 'date', 'elderberry']"
   ]
  },
  {
   "cell_type": "code",
   "execution_count": 26,
   "id": "b5681437",
   "metadata": {},
   "outputs": [],
   "source": [
    "popped_fruit = fruits.pop()  # Removes 'cherry'"
   ]
  },
  {
   "cell_type": "code",
   "execution_count": 27,
   "id": "c492550d",
   "metadata": {},
   "outputs": [
    {
     "data": {
      "text/plain": [
       "'honeydew'"
      ]
     },
     "execution_count": 27,
     "metadata": {},
     "output_type": "execute_result"
    }
   ],
   "source": [
    "popped_fruit"
   ]
  },
  {
   "cell_type": "code",
   "execution_count": 28,
   "id": "a3245df1",
   "metadata": {},
   "outputs": [
    {
     "data": {
      "text/plain": [
       "['apple', 'banana', 'cherry', 'date', 'elderberry', 'fig', 'grape']"
      ]
     },
     "execution_count": 28,
     "metadata": {},
     "output_type": "execute_result"
    }
   ],
   "source": [
    "fruits"
   ]
  },
  {
   "cell_type": "code",
   "execution_count": 29,
   "id": "f8efee7a",
   "metadata": {},
   "outputs": [],
   "source": [
    "fruits.sort()"
   ]
  },
  {
   "cell_type": "code",
   "execution_count": 30,
   "id": "8d833d3d",
   "metadata": {},
   "outputs": [
    {
     "data": {
      "text/plain": [
       "['apple', 'banana', 'cherry', 'date', 'elderberry', 'fig', 'grape']"
      ]
     },
     "execution_count": 30,
     "metadata": {},
     "output_type": "execute_result"
    }
   ],
   "source": [
    "fruits"
   ]
  },
  {
   "cell_type": "code",
   "execution_count": 31,
   "id": "81ea1596",
   "metadata": {},
   "outputs": [],
   "source": [
    "fruits.reverse()    "
   ]
  },
  {
   "cell_type": "code",
   "execution_count": 32,
   "id": "62c33542",
   "metadata": {},
   "outputs": [
    {
     "data": {
      "text/plain": [
       "['grape', 'fig', 'elderberry', 'date', 'cherry', 'banana', 'apple']"
      ]
     },
     "execution_count": 32,
     "metadata": {},
     "output_type": "execute_result"
    }
   ],
   "source": [
    "fruits"
   ]
  },
  {
   "cell_type": "code",
   "execution_count": 33,
   "id": "e04a0239",
   "metadata": {},
   "outputs": [
    {
     "data": {
      "text/plain": [
       "['grape', 'cherry']"
      ]
     },
     "execution_count": 33,
     "metadata": {},
     "output_type": "execute_result"
    }
   ],
   "source": [
    "fruits[::4]"
   ]
  },
  {
   "cell_type": "code",
   "execution_count": 34,
   "id": "eaebfe2c",
   "metadata": {},
   "outputs": [
    {
     "name": "stdout",
     "output_type": "stream",
     "text": [
      "grape\n",
      "fig\n",
      "elderberry\n",
      "date\n",
      "cherry\n",
      "banana\n",
      "apple\n"
     ]
    }
   ],
   "source": [
    "for fruit in fruits:\n",
    "    print(fruit)"
   ]
  },
  {
   "cell_type": "code",
   "execution_count": 35,
   "id": "00e37c59",
   "metadata": {},
   "outputs": [
    {
     "name": "stdout",
     "output_type": "stream",
     "text": [
      "Index: 0, Value: grape\n",
      "Index: 1, Value: fig\n",
      "Index: 2, Value: elderberry\n",
      "Index: 3, Value: date\n",
      "Index: 4, Value: cherry\n",
      "Index: 5, Value: banana\n",
      "Index: 6, Value: apple\n"
     ]
    }
   ],
   "source": [
    "for index,number in enumerate(fruits):\n",
    "    print(f\"Index: {index}, Value: {number}\")"
   ]
  },
  {
   "cell_type": "code",
   "execution_count": 36,
   "id": "2391b661",
   "metadata": {},
   "outputs": [],
   "source": [
    "lists=[]\n",
    "\n",
    "for x in range(10):\n",
    "    lists.append(x**2)"
   ]
  },
  {
   "cell_type": "code",
   "execution_count": 37,
   "id": "df647e63",
   "metadata": {},
   "outputs": [
    {
     "data": {
      "text/plain": [
       "[0, 1, 4, 9, 16, 25, 36, 49, 64, 81]"
      ]
     },
     "execution_count": 37,
     "metadata": {},
     "output_type": "execute_result"
    }
   ],
   "source": [
    "lists"
   ]
  },
  {
   "cell_type": "code",
   "execution_count": 38,
   "id": "644a3681",
   "metadata": {},
   "outputs": [],
   "source": [
    "efte =[int (x )for x in range(10) if x % 2 == 0]"
   ]
  },
  {
   "cell_type": "code",
   "execution_count": 39,
   "id": "fcf8d11f",
   "metadata": {},
   "outputs": [
    {
     "data": {
      "text/plain": [
       "[0, 2, 4, 6, 8]"
      ]
     },
     "execution_count": 39,
     "metadata": {},
     "output_type": "execute_result"
    }
   ],
   "source": [
    "efte"
   ]
  },
  {
   "cell_type": "code",
   "execution_count": 40,
   "id": "4b4d840b",
   "metadata": {},
   "outputs": [],
   "source": [
    "lst1=[1, 2, 3, 4, 5]\n",
    "lst2=['a', 'b', 'c', 'd', 'e']\n",
    "pair=[(x, y) for x in lst1 for y in lst2]"
   ]
  },
  {
   "cell_type": "code",
   "execution_count": 41,
   "id": "ae5bcad7",
   "metadata": {},
   "outputs": [
    {
     "data": {
      "text/plain": [
       "[(1, 'a'),\n",
       " (1, 'b'),\n",
       " (1, 'c'),\n",
       " (1, 'd'),\n",
       " (1, 'e'),\n",
       " (2, 'a'),\n",
       " (2, 'b'),\n",
       " (2, 'c'),\n",
       " (2, 'd'),\n",
       " (2, 'e'),\n",
       " (3, 'a'),\n",
       " (3, 'b'),\n",
       " (3, 'c'),\n",
       " (3, 'd'),\n",
       " (3, 'e'),\n",
       " (4, 'a'),\n",
       " (4, 'b'),\n",
       " (4, 'c'),\n",
       " (4, 'd'),\n",
       " (4, 'e'),\n",
       " (5, 'a'),\n",
       " (5, 'b'),\n",
       " (5, 'c'),\n",
       " (5, 'd'),\n",
       " (5, 'e')]"
      ]
     },
     "execution_count": 41,
     "metadata": {},
     "output_type": "execute_result"
    }
   ],
   "source": [
    "pair"
   ]
  },
  {
   "cell_type": "code",
   "execution_count": 42,
   "id": "e166f9f7",
   "metadata": {},
   "outputs": [],
   "source": [
    "words = ['hello', 'world', 'python', 'is', 'awesome']\n",
    "word_lengths = [len(x) for x in words ]"
   ]
  },
  {
   "cell_type": "code",
   "execution_count": 43,
   "id": "d8ed82c4",
   "metadata": {},
   "outputs": [
    {
     "data": {
      "text/plain": [
       "[5, 5, 6, 2, 7]"
      ]
     },
     "execution_count": 43,
     "metadata": {},
     "output_type": "execute_result"
    }
   ],
   "source": [
    "word_lengths"
   ]
  },
  {
   "cell_type": "code",
   "execution_count": 44,
   "id": "bb9d348c",
   "metadata": {},
   "outputs": [],
   "source": [
    "numbers = [1, 2, 3, 4, 5, 6, 7, 8, 9, 10]"
   ]
  },
  {
   "cell_type": "code",
   "execution_count": 45,
   "id": "b05d8b66",
   "metadata": {},
   "outputs": [],
   "source": [
    "def zef(numbers):\n",
    "    return numbers[::-1]"
   ]
  },
  {
   "cell_type": "code",
   "execution_count": 46,
   "id": "9c7a6a4c",
   "metadata": {},
   "outputs": [
    {
     "data": {
      "text/plain": [
       "[10, 9, 8, 7, 6, 5, 4, 3, 2, 1]"
      ]
     },
     "execution_count": 46,
     "metadata": {},
     "output_type": "execute_result"
    }
   ],
   "source": [
    "zef(numbers)"
   ]
  },
  {
   "cell_type": "code",
   "execution_count": 47,
   "id": "bf04a2cf",
   "metadata": {},
   "outputs": [
    {
     "data": {
      "text/plain": [
       "[1, 4, 7, 10]"
      ]
     },
     "execution_count": 47,
     "metadata": {},
     "output_type": "execute_result"
    }
   ],
   "source": [
    "numbers[::3]"
   ]
  },
  {
   "cell_type": "code",
   "execution_count": null,
   "id": "916bf69e",
   "metadata": {},
   "outputs": [],
   "source": []
  },
  {
   "cell_type": "code",
   "execution_count": null,
   "id": "fc2dcf8c",
   "metadata": {},
   "outputs": [],
   "source": []
  }
 ],
 "metadata": {
  "kernelspec": {
   "display_name": "Python 3",
   "language": "python",
   "name": "python3"
  },
  "language_info": {
   "codemirror_mode": {
    "name": "ipython",
    "version": 3
   },
   "file_extension": ".py",
   "mimetype": "text/x-python",
   "name": "python",
   "nbconvert_exporter": "python",
   "pygments_lexer": "ipython3",
   "version": "3.13.2"
  }
 },
 "nbformat": 4,
 "nbformat_minor": 5
}
